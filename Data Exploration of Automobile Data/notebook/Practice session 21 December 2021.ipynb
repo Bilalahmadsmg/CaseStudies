{
 "cells": [
  {
   "cell_type": "markdown",
   "metadata": {},
   "source": [
    "Cars contain 50 or more sensors which collect data on speed, emissions, fuel consumption, usage data for resources, and security. All these data can be used to find patterns and resolve quality issues either in the nick of time or prevent them from happening altogether. Analytics is being used to increase both customer satisfaction and quality management at a cost-effective level. In this session we are doing some basic analysis of automobile data which the learners can further expand on.\n",
    "\n",
    "\n",
    "#### Data Set 1 Information:\n",
    "\n",
    "This data set consists of three types of entities:\n",
    "\n",
    "(a) the specification of an auto in terms of various characteristics\n",
    "\n",
    "(b) its assigned insurance risk rating\n",
    "\n",
    "(c) its normalized losses in use as compared to other cars.\n",
    "\n",
    "The second rating corresponds to the degree to which the auto is more risky than its price indicates. Cars are initially assigned a risk factor symbol associated with its price. Then, if it is more risky (or less), this symbol is adjusted by moving it up (or down) the scale. Actuarians call this process \"symboling\". A value of +3 indicates that the auto is risky, -3 that it is probably pretty safe.\n",
    "\n",
    "The third factor is the relative average loss payment per insured vehicle year. This value is normalized for all autos within a particular size classification (two-door small, station wagons, sports/speciality, etc...), and represents the average loss per car per year.\n",
    "\n",
    "Note: Several of the attributes in the database could be used as a \"class\" attribute.\n",
    "\n",
    "\n",
    "No of instances : 205\n",
    "\n",
    "No of attributes : (26)\n",
    "\n",
    "#### Data set 2 information:\n",
    "\n",
    "The data consists of technical specifications of cars. The dataset is downloaded from UCI Machine Learning Repository\n",
    "\n",
    "Content:\n",
    "The data concerns city-cycle fuel consumption in miles per gallon, to be predicted in terms of 3 multivalued discrete and 5 continuous attributes\n",
    "\n",
    "Number of Instances: 398\n",
    "\n",
    "Number of Attributes: 9 including the class attribute\n",
    "\n",
    "#### Attribute Information:\n",
    " * mpg: continuous\n",
    "  * cylinders: multi-valued discrete\n",
    "   * displacement: continuous\n",
    "   * horsepower: continuous\n",
    "   * weight: continuous\n",
    "   * acceleration: continuous\n",
    "   * model year: multi-valued discrete\n",
    "   * origin: multi-valued discrete\n",
    "   * car name: string (unique for each instance)\n",
    "\n",
    "Missing Attribute Values: horsepower has 6 missing values\n",
    "\n",
    "\n",
    "\n"
   ]
  },
  {
   "cell_type": "code",
   "execution_count": 23,
   "metadata": {},
   "outputs": [],
   "source": [
    "import pandas as pd\n",
    "import numpy as np\n",
    "import seaborn as sns\n",
    "from scipy.stats import norm, skew\n",
    "import matplotlib.pyplot as plt\n",
    "import warnings\n",
    "warnings.filterwarnings(\"ignore\")"
   ]
  },
  {
   "cell_type": "code",
   "execution_count": 24,
   "metadata": {},
   "outputs": [
    {
     "data": {
      "text/html": [
       "<div>\n",
       "<style scoped>\n",
       "    .dataframe tbody tr th:only-of-type {\n",
       "        vertical-align: middle;\n",
       "    }\n",
       "\n",
       "    .dataframe tbody tr th {\n",
       "        vertical-align: top;\n",
       "    }\n",
       "\n",
       "    .dataframe thead th {\n",
       "        text-align: right;\n",
       "    }\n",
       "</style>\n",
       "<table border=\"1\" class=\"dataframe\">\n",
       "  <thead>\n",
       "    <tr style=\"text-align: right;\">\n",
       "      <th></th>\n",
       "      <th>symboling</th>\n",
       "      <th>make</th>\n",
       "      <th>fuel-type</th>\n",
       "      <th>body-style</th>\n",
       "      <th>drive-wheels</th>\n",
       "      <th>wheel-base</th>\n",
       "      <th>length</th>\n",
       "      <th>width</th>\n",
       "      <th>height</th>\n",
       "      <th>horsepower</th>\n",
       "      <th>peak-rpm</th>\n",
       "      <th>highway-mpg</th>\n",
       "      <th>city-mpg</th>\n",
       "      <th>price</th>\n",
       "    </tr>\n",
       "  </thead>\n",
       "  <tbody>\n",
       "    <tr>\n",
       "      <th>0</th>\n",
       "      <td>3</td>\n",
       "      <td>alfa-romero</td>\n",
       "      <td>gas</td>\n",
       "      <td>convertible</td>\n",
       "      <td>rwd</td>\n",
       "      <td>88.6</td>\n",
       "      <td>168.8</td>\n",
       "      <td>64.1</td>\n",
       "      <td>48.8</td>\n",
       "      <td>111</td>\n",
       "      <td>5000</td>\n",
       "      <td>27</td>\n",
       "      <td>21</td>\n",
       "      <td>13495</td>\n",
       "    </tr>\n",
       "    <tr>\n",
       "      <th>1</th>\n",
       "      <td>3</td>\n",
       "      <td>alfa-romero</td>\n",
       "      <td>gas</td>\n",
       "      <td>convertible</td>\n",
       "      <td>rwd</td>\n",
       "      <td>88.6</td>\n",
       "      <td>168.8</td>\n",
       "      <td>64.1</td>\n",
       "      <td>48.8</td>\n",
       "      <td>111</td>\n",
       "      <td>5000</td>\n",
       "      <td>27</td>\n",
       "      <td>21</td>\n",
       "      <td>16500</td>\n",
       "    </tr>\n",
       "    <tr>\n",
       "      <th>2</th>\n",
       "      <td>1</td>\n",
       "      <td>alfa-romero</td>\n",
       "      <td>gas</td>\n",
       "      <td>hatchback</td>\n",
       "      <td>rwd</td>\n",
       "      <td>94.5</td>\n",
       "      <td>171.2</td>\n",
       "      <td>65.5</td>\n",
       "      <td>52.4</td>\n",
       "      <td>154</td>\n",
       "      <td>5000</td>\n",
       "      <td>26</td>\n",
       "      <td>19</td>\n",
       "      <td>16500</td>\n",
       "    </tr>\n",
       "    <tr>\n",
       "      <th>3</th>\n",
       "      <td>2</td>\n",
       "      <td>audi</td>\n",
       "      <td>gas</td>\n",
       "      <td>sedan</td>\n",
       "      <td>fwd</td>\n",
       "      <td>99.8</td>\n",
       "      <td>176.6</td>\n",
       "      <td>66.2</td>\n",
       "      <td>54.3</td>\n",
       "      <td>102</td>\n",
       "      <td>5500</td>\n",
       "      <td>30</td>\n",
       "      <td>24</td>\n",
       "      <td>13950</td>\n",
       "    </tr>\n",
       "    <tr>\n",
       "      <th>4</th>\n",
       "      <td>2</td>\n",
       "      <td>audi</td>\n",
       "      <td>gas</td>\n",
       "      <td>sedan</td>\n",
       "      <td>4wd</td>\n",
       "      <td>99.4</td>\n",
       "      <td>176.6</td>\n",
       "      <td>66.4</td>\n",
       "      <td>54.3</td>\n",
       "      <td>115</td>\n",
       "      <td>5500</td>\n",
       "      <td>22</td>\n",
       "      <td>18</td>\n",
       "      <td>17450</td>\n",
       "    </tr>\n",
       "  </tbody>\n",
       "</table>\n",
       "</div>"
      ],
      "text/plain": [
       "   symboling         make fuel-type   body-style drive-wheels  wheel-base  \\\n",
       "0          3  alfa-romero       gas  convertible          rwd        88.6   \n",
       "1          3  alfa-romero       gas  convertible          rwd        88.6   \n",
       "2          1  alfa-romero       gas    hatchback          rwd        94.5   \n",
       "3          2         audi       gas        sedan          fwd        99.8   \n",
       "4          2         audi       gas        sedan          4wd        99.4   \n",
       "\n",
       "   length  width  height  horsepower  peak-rpm  highway-mpg  city-mpg  price  \n",
       "0   168.8   64.1    48.8         111      5000           27        21  13495  \n",
       "1   168.8   64.1    48.8         111      5000           27        21  16500  \n",
       "2   171.2   65.5    52.4         154      5000           26        19  16500  \n",
       "3   176.6   66.2    54.3         102      5500           30        24  13950  \n",
       "4   176.6   66.4    54.3         115      5500           22        18  17450  "
      ]
     },
     "execution_count": 24,
     "metadata": {},
     "output_type": "execute_result"
    }
   ],
   "source": [
    "df = pd.read_csv(\"C:\\\\Users\\\\DELL\\\\Basecamp3\\\\GLabs_Data_Science_Learn\\\\Data Exploration of Automobile Data\\\\data\\\\data_1.csv\")\n",
    "df.head()"
   ]
  },
  {
   "cell_type": "code",
   "execution_count": 25,
   "metadata": {},
   "outputs": [
    {
     "data": {
      "text/plain": [
       "(205, 14)"
      ]
     },
     "execution_count": 25,
     "metadata": {},
     "output_type": "execute_result"
    }
   ],
   "source": [
    "df.shape"
   ]
  },
  {
   "cell_type": "code",
   "execution_count": 26,
   "metadata": {},
   "outputs": [
    {
     "data": {
      "text/plain": [
       "205"
      ]
     },
     "execution_count": 26,
     "metadata": {},
     "output_type": "execute_result"
    }
   ],
   "source": [
    "df.shape[0]"
   ]
  },
  {
   "cell_type": "code",
   "execution_count": 27,
   "metadata": {},
   "outputs": [
    {
     "data": {
      "text/plain": [
       "14"
      ]
     },
     "execution_count": 27,
     "metadata": {},
     "output_type": "execute_result"
    }
   ],
   "source": [
    "df.shape[1]"
   ]
  },
  {
   "cell_type": "code",
   "execution_count": 28,
   "metadata": {},
   "outputs": [
    {
     "name": "stdout",
     "output_type": "stream",
     "text": [
      "<class 'pandas.core.frame.DataFrame'>\n",
      "RangeIndex: 205 entries, 0 to 204\n",
      "Data columns (total 14 columns):\n",
      " #   Column        Non-Null Count  Dtype  \n",
      "---  ------        --------------  -----  \n",
      " 0   symboling     205 non-null    int64  \n",
      " 1   make          205 non-null    object \n",
      " 2   fuel-type     205 non-null    object \n",
      " 3   body-style    205 non-null    object \n",
      " 4   drive-wheels  205 non-null    object \n",
      " 5   wheel-base    205 non-null    float64\n",
      " 6   length        205 non-null    float64\n",
      " 7   width         205 non-null    float64\n",
      " 8   height        205 non-null    float64\n",
      " 9   horsepower    205 non-null    int64  \n",
      " 10  peak-rpm      205 non-null    int64  \n",
      " 11  highway-mpg   205 non-null    int64  \n",
      " 12  city-mpg      205 non-null    int64  \n",
      " 13  price         205 non-null    int64  \n",
      "dtypes: float64(4), int64(6), object(4)\n",
      "memory usage: 22.5+ KB\n"
     ]
    }
   ],
   "source": [
    "df.info()"
   ]
  },
  {
   "cell_type": "code",
   "execution_count": 29,
   "metadata": {},
   "outputs": [
    {
     "data": {
      "text/plain": [
       "Index(['symboling', 'make', 'fuel-type', 'body-style', 'drive-wheels',\n",
       "       'wheel-base', 'length', 'width', 'height', 'horsepower', 'peak-rpm',\n",
       "       'highway-mpg', 'city-mpg', 'price'],\n",
       "      dtype='object')"
      ]
     },
     "execution_count": 29,
     "metadata": {},
     "output_type": "execute_result"
    }
   ],
   "source": [
    "df.columns"
   ]
  },
  {
   "cell_type": "code",
   "execution_count": 30,
   "metadata": {},
   "outputs": [
    {
     "name": "stdout",
     "output_type": "stream",
     "text": [
      "symboling :  [ 3  1  2  0 -1 -2] \n",
      "\n",
      "\n",
      "make :  ['alfa-romero' 'audi' 'bmw' 'chevrolet' 'dodge' 'honda' 'isuzu' 'jaguar'\n",
      " 'mazda' 'mercedes-benz' 'mercury' 'mitsubishi' 'nissan' 'peugot'\n",
      " 'plymouth' 'porsche' 'renault' 'saab' 'subaru' 'toyota' 'volkswagen'\n",
      " 'volvo'] \n",
      "\n",
      "\n",
      "fuel-type :  ['gas' 'diesel'] \n",
      "\n",
      "\n",
      "body-style :  ['convertible' 'hatchback' 'sedan' 'wagon' 'hardtop'] \n",
      "\n",
      "\n",
      "drive-wheels :  ['rwd' 'fwd' '4wd'] \n",
      "\n",
      "\n",
      "wheel-base :  [ 88.6  94.5  99.8  99.4 105.8  99.5 101.2 103.5 110.   88.4  93.7 103.3\n",
      "  95.9  86.6  96.5  94.3  96.  113.  102.   93.1  95.3  98.8 104.9 106.7\n",
      " 115.6  96.6 120.9 112.  102.7  93.   96.3  95.1  97.2 100.4  91.3  99.2\n",
      " 107.9 114.2 108.   89.5  98.4  96.1  99.1  93.3  97.   96.9  95.7 102.4\n",
      " 102.9 104.5  97.3 104.3 109.1] \n",
      "\n",
      "\n",
      "length :  [168.8 171.2 176.6 177.3 192.7 178.2 176.8 189.  193.8 197.  141.1 155.9\n",
      " 158.8 157.3 174.6 173.2 144.6 150.  163.4 157.1 167.5 175.4 169.1 170.7\n",
      " 172.6 199.6 191.7 159.1 166.8 169.  177.8 175.  190.9 187.5 202.6 180.3\n",
      " 208.1 199.2 178.4 173.  172.4 165.3 170.2 165.6 162.4 173.4 181.7 184.6\n",
      " 178.5 186.7 198.9 167.3 168.9 175.7 181.5 186.6 156.9 157.9 172.  173.5\n",
      " 173.6 158.7 169.7 166.3 168.7 176.2 175.6 183.5 187.8 171.7 159.3 165.7\n",
      " 180.2 183.1 188.8] \n",
      "\n",
      "\n",
      "width :  [64.1 65.5 66.2 66.4 66.3 71.4 67.9 64.8 66.9 70.9 60.3 63.6 63.8 64.6\n",
      " 63.9 64.  65.2 62.5 66.  61.8 69.6 70.6 64.2 65.7 66.5 66.1 70.3 71.7\n",
      " 70.5 72.  68.  64.4 65.4 68.4 68.3 65.  72.3 66.6 63.4 65.6 67.7 67.2\n",
      " 68.9 68.8] \n",
      "\n",
      "\n",
      "height :  [48.8 52.4 54.3 53.1 55.7 55.9 52.  53.7 56.3 53.2 50.8 50.6 59.8 50.2\n",
      " 52.6 54.5 58.3 53.3 54.1 51.  53.5 51.4 52.8 47.8 49.6 55.5 54.4 56.5\n",
      " 58.7 54.9 56.7 55.4 54.8 49.4 51.6 54.7 55.1 56.1 49.7 56.  50.5 55.2\n",
      " 52.5 53.  59.1 53.9 55.6 56.2 57.5] \n",
      "\n",
      "\n",
      "horsepower :  [111 154 102 115 110 140 160 101 121 182  48  70  68  88 145  58  76  60\n",
      "  86 100  78  90 176 262 135  84  64 120  72 123 155 184 175 116  69  55\n",
      "  97 152 200  95 142 143 207 288 238  73  82  94  62  56 112  92 161 156\n",
      "  52  85 114 162 134 106] \n",
      "\n",
      "\n",
      "peak-rpm :  [5000 5500 5800 4250 5400 5100 4800 6000 4750 4650 4200 4350 4500 5200\n",
      " 4150 5600 5900 5750 5250 4900 4400 6600 5300] \n",
      "\n",
      "\n",
      "highway-mpg :  [27 26 30 22 25 20 29 28 53 43 41 38 24 54 42 34 33 31 19 17 23 32 39 18\n",
      " 16 37 50 36 47 46] \n",
      "\n",
      "\n",
      "city-mpg :  [21 19 24 18 17 16 23 20 15 47 38 37 31 49 30 27 25 13 26 36 22 14 45 28\n",
      " 32 35 34 29 33] \n",
      "\n",
      "\n",
      "price :  [13495 16500 13950 17450 15250 17710 18920 23875 23000 16430 16925 20970\n",
      " 21105 24565 30760 41315 36880  5151  6295  6575  5572  6377  7957  6229\n",
      "  6692  7609  8558  8921 12964  6479  6855  5399  6529  7129  7295  7895\n",
      "  9095  8845 10295 12945 10345  6785 32000 24000 11048 32250 35550 36000\n",
      "  5195  6095  6795  6695  7395 10945 11845 13645 15645  8495 10595 10245\n",
      " 10795 11245 18280 18344 25552 28248 28176 31600 34184 35056 40960 45400\n",
      " 16503  5389  6189  6669  7689  9959  8499 12629 14869 14489  6989  8189\n",
      "  9279  5499  7099  6649  6849  7349  7299  7799  7499  7999  8249  8949\n",
      "  9549 13499 14399 17199 19699 18399 11900 13200 12440 13860 15580 16900\n",
      " 16695 17075 16630 17950 18150 12764 22018 32528 34028 37028 29000  9295\n",
      "  9895 11850 12170 15040 15510 18620  5118  7053  7603  7126  7775  9960\n",
      "  9233 11259  7463 10198  8013 11694  5348  6338  6488  6918  7898  8778\n",
      "  6938  7198  7788  7738  8358  9258  8058  8238  9298  9538  8449  9639\n",
      "  9989 11199 11549 17669  8948 10698  9988 10898 11248 16558 15998 15690\n",
      " 15750  7975  7995  8195  9495  9995 11595  9980 13295 13845 12290 12940\n",
      " 13415 15985 16515 18420 18950 16845 19045 21485 22470 22625] \n",
      "\n",
      "\n"
     ]
    }
   ],
   "source": [
    "for i in df.columns:\n",
    "    print(i,': ', df[i].unique(), '\\n' '\\n')"
   ]
  },
  {
   "cell_type": "code",
   "execution_count": 31,
   "metadata": {},
   "outputs": [
    {
     "name": "stdout",
     "output_type": "stream",
     "text": [
      "symboling : int64\n",
      "make :  ['alfa-romero' 'audi' 'bmw' 'chevrolet' 'dodge' 'honda' 'isuzu' 'jaguar'\n",
      " 'mazda' 'mercedes-benz' 'mercury' 'mitsubishi' 'nissan' 'peugot'\n",
      " 'plymouth' 'porsche' 'renault' 'saab' 'subaru' 'toyota' 'volkswagen'\n",
      " 'volvo'] \n",
      "\n",
      "\n",
      "fuel-type :  ['gas' 'diesel'] \n",
      "\n",
      "\n",
      "body-style :  ['convertible' 'hatchback' 'sedan' 'wagon' 'hardtop'] \n",
      "\n",
      "\n",
      "drive-wheels :  ['rwd' 'fwd' '4wd'] \n",
      "\n",
      "\n",
      "wheel-base : float64\n",
      "length : float64\n",
      "width : float64\n",
      "height : float64\n",
      "horsepower : int64\n",
      "peak-rpm : int64\n",
      "highway-mpg : int64\n",
      "city-mpg : int64\n",
      "price : int64\n"
     ]
    }
   ],
   "source": [
    "for i in df.columns:\n",
    "    if df[i].dtypes == 'object':\n",
    "        print(i,': ', df[i].unique(), '\\n' '\\n')\n",
    "    else:\n",
    "        print (i, ':', df[i].dtypes)"
   ]
  },
  {
   "cell_type": "code",
   "execution_count": 32,
   "metadata": {},
   "outputs": [
    {
     "data": {
      "text/plain": [
       "symboling         int64\n",
       "make             object\n",
       "fuel-type        object\n",
       "body-style       object\n",
       "drive-wheels     object\n",
       "wheel-base      float64\n",
       "length          float64\n",
       "width           float64\n",
       "height          float64\n",
       "horsepower        int64\n",
       "peak-rpm          int64\n",
       "highway-mpg       int64\n",
       "city-mpg          int64\n",
       "price             int64\n",
       "dtype: object"
      ]
     },
     "execution_count": 32,
     "metadata": {},
     "output_type": "execute_result"
    }
   ],
   "source": [
    "df.dtypes"
   ]
  },
  {
   "cell_type": "code",
   "execution_count": 33,
   "metadata": {},
   "outputs": [
    {
     "name": "stdout",
     "output_type": "stream",
     "text": [
      "Categorial Categories:\n",
      "\n",
      " Numeric Features \n",
      "         symboling  wheel-base      length       width      height  horsepower  \\\n",
      "count  205.000000  205.000000  205.000000  205.000000  205.000000  205.000000   \n",
      "mean     0.834146   98.756585  174.049268   65.907805   53.724878  104.936585   \n",
      "std      1.245307    6.021776   12.337289    2.145204    2.443522   40.609702   \n",
      "min     -2.000000   86.600000  141.100000   60.300000   47.800000   48.000000   \n",
      "25%      0.000000   94.500000  166.300000   64.100000   52.000000   70.000000   \n",
      "50%      1.000000   97.000000  173.200000   65.500000   54.100000   95.000000   \n",
      "75%      2.000000  102.400000  183.100000   66.900000   55.500000  116.000000   \n",
      "max      3.000000  120.900000  208.100000   72.300000   59.800000  288.000000   \n",
      "\n",
      "          peak-rpm  highway-mpg    city-mpg         price  \n",
      "count   205.000000   205.000000  205.000000    205.000000  \n",
      "mean   5127.804878    30.751220   25.219512  13476.258537  \n",
      "std     478.414007     6.886443    6.542142   8114.166248  \n",
      "min    4150.000000    16.000000   13.000000   5118.000000  \n",
      "25%    4800.000000    25.000000   19.000000   7788.000000  \n",
      "50%    5200.000000    30.000000   24.000000  10595.000000  \n",
      "75%    5500.000000    34.000000   30.000000  16558.000000  \n",
      "max    6600.000000    54.000000   49.000000  45400.000000  \n",
      "make  ->  ['alfa-romero' 'audi' 'bmw' 'chevrolet' 'dodge' 'honda' 'isuzu' 'jaguar'\n",
      " 'mazda' 'mercedes-benz' 'mercury' 'mitsubishi' 'nissan' 'peugot'\n",
      " 'plymouth' 'porsche' 'renault' 'saab' 'subaru' 'toyota' 'volkswagen'\n",
      " 'volvo'] \n",
      "\n",
      "\n",
      " Numeric Features \n",
      "         symboling  wheel-base      length       width      height  horsepower  \\\n",
      "count  205.000000  205.000000  205.000000  205.000000  205.000000  205.000000   \n",
      "mean     0.834146   98.756585  174.049268   65.907805   53.724878  104.936585   \n",
      "std      1.245307    6.021776   12.337289    2.145204    2.443522   40.609702   \n",
      "min     -2.000000   86.600000  141.100000   60.300000   47.800000   48.000000   \n",
      "25%      0.000000   94.500000  166.300000   64.100000   52.000000   70.000000   \n",
      "50%      1.000000   97.000000  173.200000   65.500000   54.100000   95.000000   \n",
      "75%      2.000000  102.400000  183.100000   66.900000   55.500000  116.000000   \n",
      "max      3.000000  120.900000  208.100000   72.300000   59.800000  288.000000   \n",
      "\n",
      "          peak-rpm  highway-mpg    city-mpg         price  \n",
      "count   205.000000   205.000000  205.000000    205.000000  \n",
      "mean   5127.804878    30.751220   25.219512  13476.258537  \n",
      "std     478.414007     6.886443    6.542142   8114.166248  \n",
      "min    4150.000000    16.000000   13.000000   5118.000000  \n",
      "25%    4800.000000    25.000000   19.000000   7788.000000  \n",
      "50%    5200.000000    30.000000   24.000000  10595.000000  \n",
      "75%    5500.000000    34.000000   30.000000  16558.000000  \n",
      "max    6600.000000    54.000000   49.000000  45400.000000  \n",
      "fuel-type  ->  ['gas' 'diesel'] \n",
      "\n",
      "\n",
      " Numeric Features \n",
      "         symboling  wheel-base      length       width      height  horsepower  \\\n",
      "count  205.000000  205.000000  205.000000  205.000000  205.000000  205.000000   \n",
      "mean     0.834146   98.756585  174.049268   65.907805   53.724878  104.936585   \n",
      "std      1.245307    6.021776   12.337289    2.145204    2.443522   40.609702   \n",
      "min     -2.000000   86.600000  141.100000   60.300000   47.800000   48.000000   \n",
      "25%      0.000000   94.500000  166.300000   64.100000   52.000000   70.000000   \n",
      "50%      1.000000   97.000000  173.200000   65.500000   54.100000   95.000000   \n",
      "75%      2.000000  102.400000  183.100000   66.900000   55.500000  116.000000   \n",
      "max      3.000000  120.900000  208.100000   72.300000   59.800000  288.000000   \n",
      "\n",
      "          peak-rpm  highway-mpg    city-mpg         price  \n",
      "count   205.000000   205.000000  205.000000    205.000000  \n",
      "mean   5127.804878    30.751220   25.219512  13476.258537  \n",
      "std     478.414007     6.886443    6.542142   8114.166248  \n",
      "min    4150.000000    16.000000   13.000000   5118.000000  \n",
      "25%    4800.000000    25.000000   19.000000   7788.000000  \n",
      "50%    5200.000000    30.000000   24.000000  10595.000000  \n",
      "75%    5500.000000    34.000000   30.000000  16558.000000  \n",
      "max    6600.000000    54.000000   49.000000  45400.000000  \n",
      "body-style  ->  ['convertible' 'hatchback' 'sedan' 'wagon' 'hardtop'] \n",
      "\n",
      "\n",
      " Numeric Features \n",
      "         symboling  wheel-base      length       width      height  horsepower  \\\n",
      "count  205.000000  205.000000  205.000000  205.000000  205.000000  205.000000   \n",
      "mean     0.834146   98.756585  174.049268   65.907805   53.724878  104.936585   \n",
      "std      1.245307    6.021776   12.337289    2.145204    2.443522   40.609702   \n",
      "min     -2.000000   86.600000  141.100000   60.300000   47.800000   48.000000   \n",
      "25%      0.000000   94.500000  166.300000   64.100000   52.000000   70.000000   \n",
      "50%      1.000000   97.000000  173.200000   65.500000   54.100000   95.000000   \n",
      "75%      2.000000  102.400000  183.100000   66.900000   55.500000  116.000000   \n",
      "max      3.000000  120.900000  208.100000   72.300000   59.800000  288.000000   \n",
      "\n",
      "          peak-rpm  highway-mpg    city-mpg         price  \n",
      "count   205.000000   205.000000  205.000000    205.000000  \n",
      "mean   5127.804878    30.751220   25.219512  13476.258537  \n",
      "std     478.414007     6.886443    6.542142   8114.166248  \n",
      "min    4150.000000    16.000000   13.000000   5118.000000  \n",
      "25%    4800.000000    25.000000   19.000000   7788.000000  \n",
      "50%    5200.000000    30.000000   24.000000  10595.000000  \n",
      "75%    5500.000000    34.000000   30.000000  16558.000000  \n",
      "max    6600.000000    54.000000   49.000000  45400.000000  \n",
      "drive-wheels  ->  ['rwd' 'fwd' '4wd'] \n",
      "\n",
      "\n",
      " Numeric Features \n",
      "         symboling  wheel-base      length       width      height  horsepower  \\\n",
      "count  205.000000  205.000000  205.000000  205.000000  205.000000  205.000000   \n",
      "mean     0.834146   98.756585  174.049268   65.907805   53.724878  104.936585   \n",
      "std      1.245307    6.021776   12.337289    2.145204    2.443522   40.609702   \n",
      "min     -2.000000   86.600000  141.100000   60.300000   47.800000   48.000000   \n",
      "25%      0.000000   94.500000  166.300000   64.100000   52.000000   70.000000   \n",
      "50%      1.000000   97.000000  173.200000   65.500000   54.100000   95.000000   \n",
      "75%      2.000000  102.400000  183.100000   66.900000   55.500000  116.000000   \n",
      "max      3.000000  120.900000  208.100000   72.300000   59.800000  288.000000   \n",
      "\n",
      "          peak-rpm  highway-mpg    city-mpg         price  \n",
      "count   205.000000   205.000000  205.000000    205.000000  \n",
      "mean   5127.804878    30.751220   25.219512  13476.258537  \n",
      "std     478.414007     6.886443    6.542142   8114.166248  \n",
      "min    4150.000000    16.000000   13.000000   5118.000000  \n",
      "25%    4800.000000    25.000000   19.000000   7788.000000  \n",
      "50%    5200.000000    30.000000   24.000000  10595.000000  \n",
      "75%    5500.000000    34.000000   30.000000  16558.000000  \n",
      "max    6600.000000    54.000000   49.000000  45400.000000  \n",
      "\n",
      " Numeric Features \n",
      "         symboling  wheel-base      length       width      height  horsepower  \\\n",
      "count  205.000000  205.000000  205.000000  205.000000  205.000000  205.000000   \n",
      "mean     0.834146   98.756585  174.049268   65.907805   53.724878  104.936585   \n",
      "std      1.245307    6.021776   12.337289    2.145204    2.443522   40.609702   \n",
      "min     -2.000000   86.600000  141.100000   60.300000   47.800000   48.000000   \n",
      "25%      0.000000   94.500000  166.300000   64.100000   52.000000   70.000000   \n",
      "50%      1.000000   97.000000  173.200000   65.500000   54.100000   95.000000   \n",
      "75%      2.000000  102.400000  183.100000   66.900000   55.500000  116.000000   \n",
      "max      3.000000  120.900000  208.100000   72.300000   59.800000  288.000000   \n",
      "\n",
      "          peak-rpm  highway-mpg    city-mpg         price  \n",
      "count   205.000000   205.000000  205.000000    205.000000  \n",
      "mean   5127.804878    30.751220   25.219512  13476.258537  \n",
      "std     478.414007     6.886443    6.542142   8114.166248  \n",
      "min    4150.000000    16.000000   13.000000   5118.000000  \n",
      "25%    4800.000000    25.000000   19.000000   7788.000000  \n",
      "50%    5200.000000    30.000000   24.000000  10595.000000  \n",
      "75%    5500.000000    34.000000   30.000000  16558.000000  \n",
      "max    6600.000000    54.000000   49.000000  45400.000000  \n",
      "\n",
      " Numeric Features \n",
      "         symboling  wheel-base      length       width      height  horsepower  \\\n",
      "count  205.000000  205.000000  205.000000  205.000000  205.000000  205.000000   \n",
      "mean     0.834146   98.756585  174.049268   65.907805   53.724878  104.936585   \n",
      "std      1.245307    6.021776   12.337289    2.145204    2.443522   40.609702   \n",
      "min     -2.000000   86.600000  141.100000   60.300000   47.800000   48.000000   \n",
      "25%      0.000000   94.500000  166.300000   64.100000   52.000000   70.000000   \n",
      "50%      1.000000   97.000000  173.200000   65.500000   54.100000   95.000000   \n",
      "75%      2.000000  102.400000  183.100000   66.900000   55.500000  116.000000   \n",
      "max      3.000000  120.900000  208.100000   72.300000   59.800000  288.000000   \n",
      "\n",
      "          peak-rpm  highway-mpg    city-mpg         price  \n",
      "count   205.000000   205.000000  205.000000    205.000000  \n",
      "mean   5127.804878    30.751220   25.219512  13476.258537  \n",
      "std     478.414007     6.886443    6.542142   8114.166248  \n",
      "min    4150.000000    16.000000   13.000000   5118.000000  \n",
      "25%    4800.000000    25.000000   19.000000   7788.000000  \n",
      "50%    5200.000000    30.000000   24.000000  10595.000000  \n",
      "75%    5500.000000    34.000000   30.000000  16558.000000  \n",
      "max    6600.000000    54.000000   49.000000  45400.000000  \n",
      "\n",
      " Numeric Features \n",
      "         symboling  wheel-base      length       width      height  horsepower  \\\n",
      "count  205.000000  205.000000  205.000000  205.000000  205.000000  205.000000   \n",
      "mean     0.834146   98.756585  174.049268   65.907805   53.724878  104.936585   \n",
      "std      1.245307    6.021776   12.337289    2.145204    2.443522   40.609702   \n",
      "min     -2.000000   86.600000  141.100000   60.300000   47.800000   48.000000   \n",
      "25%      0.000000   94.500000  166.300000   64.100000   52.000000   70.000000   \n",
      "50%      1.000000   97.000000  173.200000   65.500000   54.100000   95.000000   \n",
      "75%      2.000000  102.400000  183.100000   66.900000   55.500000  116.000000   \n",
      "max      3.000000  120.900000  208.100000   72.300000   59.800000  288.000000   \n",
      "\n",
      "          peak-rpm  highway-mpg    city-mpg         price  \n",
      "count   205.000000   205.000000  205.000000    205.000000  \n",
      "mean   5127.804878    30.751220   25.219512  13476.258537  \n",
      "std     478.414007     6.886443    6.542142   8114.166248  \n",
      "min    4150.000000    16.000000   13.000000   5118.000000  \n",
      "25%    4800.000000    25.000000   19.000000   7788.000000  \n",
      "50%    5200.000000    30.000000   24.000000  10595.000000  \n",
      "75%    5500.000000    34.000000   30.000000  16558.000000  \n",
      "max    6600.000000    54.000000   49.000000  45400.000000  \n"
     ]
    },
    {
     "name": "stdout",
     "output_type": "stream",
     "text": [
      "\n",
      " Numeric Features \n",
      "         symboling  wheel-base      length       width      height  horsepower  \\\n",
      "count  205.000000  205.000000  205.000000  205.000000  205.000000  205.000000   \n",
      "mean     0.834146   98.756585  174.049268   65.907805   53.724878  104.936585   \n",
      "std      1.245307    6.021776   12.337289    2.145204    2.443522   40.609702   \n",
      "min     -2.000000   86.600000  141.100000   60.300000   47.800000   48.000000   \n",
      "25%      0.000000   94.500000  166.300000   64.100000   52.000000   70.000000   \n",
      "50%      1.000000   97.000000  173.200000   65.500000   54.100000   95.000000   \n",
      "75%      2.000000  102.400000  183.100000   66.900000   55.500000  116.000000   \n",
      "max      3.000000  120.900000  208.100000   72.300000   59.800000  288.000000   \n",
      "\n",
      "          peak-rpm  highway-mpg    city-mpg         price  \n",
      "count   205.000000   205.000000  205.000000    205.000000  \n",
      "mean   5127.804878    30.751220   25.219512  13476.258537  \n",
      "std     478.414007     6.886443    6.542142   8114.166248  \n",
      "min    4150.000000    16.000000   13.000000   5118.000000  \n",
      "25%    4800.000000    25.000000   19.000000   7788.000000  \n",
      "50%    5200.000000    30.000000   24.000000  10595.000000  \n",
      "75%    5500.000000    34.000000   30.000000  16558.000000  \n",
      "max    6600.000000    54.000000   49.000000  45400.000000  \n",
      "\n",
      " Numeric Features \n",
      "         symboling  wheel-base      length       width      height  horsepower  \\\n",
      "count  205.000000  205.000000  205.000000  205.000000  205.000000  205.000000   \n",
      "mean     0.834146   98.756585  174.049268   65.907805   53.724878  104.936585   \n",
      "std      1.245307    6.021776   12.337289    2.145204    2.443522   40.609702   \n",
      "min     -2.000000   86.600000  141.100000   60.300000   47.800000   48.000000   \n",
      "25%      0.000000   94.500000  166.300000   64.100000   52.000000   70.000000   \n",
      "50%      1.000000   97.000000  173.200000   65.500000   54.100000   95.000000   \n",
      "75%      2.000000  102.400000  183.100000   66.900000   55.500000  116.000000   \n",
      "max      3.000000  120.900000  208.100000   72.300000   59.800000  288.000000   \n",
      "\n",
      "          peak-rpm  highway-mpg    city-mpg         price  \n",
      "count   205.000000   205.000000  205.000000    205.000000  \n",
      "mean   5127.804878    30.751220   25.219512  13476.258537  \n",
      "std     478.414007     6.886443    6.542142   8114.166248  \n",
      "min    4150.000000    16.000000   13.000000   5118.000000  \n",
      "25%    4800.000000    25.000000   19.000000   7788.000000  \n",
      "50%    5200.000000    30.000000   24.000000  10595.000000  \n",
      "75%    5500.000000    34.000000   30.000000  16558.000000  \n",
      "max    6600.000000    54.000000   49.000000  45400.000000  \n",
      "\n",
      " Numeric Features \n",
      "         symboling  wheel-base      length       width      height  horsepower  \\\n",
      "count  205.000000  205.000000  205.000000  205.000000  205.000000  205.000000   \n",
      "mean     0.834146   98.756585  174.049268   65.907805   53.724878  104.936585   \n",
      "std      1.245307    6.021776   12.337289    2.145204    2.443522   40.609702   \n",
      "min     -2.000000   86.600000  141.100000   60.300000   47.800000   48.000000   \n",
      "25%      0.000000   94.500000  166.300000   64.100000   52.000000   70.000000   \n",
      "50%      1.000000   97.000000  173.200000   65.500000   54.100000   95.000000   \n",
      "75%      2.000000  102.400000  183.100000   66.900000   55.500000  116.000000   \n",
      "max      3.000000  120.900000  208.100000   72.300000   59.800000  288.000000   \n",
      "\n",
      "          peak-rpm  highway-mpg    city-mpg         price  \n",
      "count   205.000000   205.000000  205.000000    205.000000  \n",
      "mean   5127.804878    30.751220   25.219512  13476.258537  \n",
      "std     478.414007     6.886443    6.542142   8114.166248  \n",
      "min    4150.000000    16.000000   13.000000   5118.000000  \n",
      "25%    4800.000000    25.000000   19.000000   7788.000000  \n",
      "50%    5200.000000    30.000000   24.000000  10595.000000  \n",
      "75%    5500.000000    34.000000   30.000000  16558.000000  \n",
      "max    6600.000000    54.000000   49.000000  45400.000000  \n",
      "\n",
      " Numeric Features \n",
      "         symboling  wheel-base      length       width      height  horsepower  \\\n",
      "count  205.000000  205.000000  205.000000  205.000000  205.000000  205.000000   \n",
      "mean     0.834146   98.756585  174.049268   65.907805   53.724878  104.936585   \n",
      "std      1.245307    6.021776   12.337289    2.145204    2.443522   40.609702   \n",
      "min     -2.000000   86.600000  141.100000   60.300000   47.800000   48.000000   \n",
      "25%      0.000000   94.500000  166.300000   64.100000   52.000000   70.000000   \n",
      "50%      1.000000   97.000000  173.200000   65.500000   54.100000   95.000000   \n",
      "75%      2.000000  102.400000  183.100000   66.900000   55.500000  116.000000   \n",
      "max      3.000000  120.900000  208.100000   72.300000   59.800000  288.000000   \n",
      "\n",
      "          peak-rpm  highway-mpg    city-mpg         price  \n",
      "count   205.000000   205.000000  205.000000    205.000000  \n",
      "mean   5127.804878    30.751220   25.219512  13476.258537  \n",
      "std     478.414007     6.886443    6.542142   8114.166248  \n",
      "min    4150.000000    16.000000   13.000000   5118.000000  \n",
      "25%    4800.000000    25.000000   19.000000   7788.000000  \n",
      "50%    5200.000000    30.000000   24.000000  10595.000000  \n",
      "75%    5500.000000    34.000000   30.000000  16558.000000  \n",
      "max    6600.000000    54.000000   49.000000  45400.000000  \n",
      "\n",
      " Numeric Features \n",
      "         symboling  wheel-base      length       width      height  horsepower  \\\n",
      "count  205.000000  205.000000  205.000000  205.000000  205.000000  205.000000   \n",
      "mean     0.834146   98.756585  174.049268   65.907805   53.724878  104.936585   \n",
      "std      1.245307    6.021776   12.337289    2.145204    2.443522   40.609702   \n",
      "min     -2.000000   86.600000  141.100000   60.300000   47.800000   48.000000   \n",
      "25%      0.000000   94.500000  166.300000   64.100000   52.000000   70.000000   \n",
      "50%      1.000000   97.000000  173.200000   65.500000   54.100000   95.000000   \n",
      "75%      2.000000  102.400000  183.100000   66.900000   55.500000  116.000000   \n",
      "max      3.000000  120.900000  208.100000   72.300000   59.800000  288.000000   \n",
      "\n",
      "          peak-rpm  highway-mpg    city-mpg         price  \n",
      "count   205.000000   205.000000  205.000000    205.000000  \n",
      "mean   5127.804878    30.751220   25.219512  13476.258537  \n",
      "std     478.414007     6.886443    6.542142   8114.166248  \n",
      "min    4150.000000    16.000000   13.000000   5118.000000  \n",
      "25%    4800.000000    25.000000   19.000000   7788.000000  \n",
      "50%    5200.000000    30.000000   24.000000  10595.000000  \n",
      "75%    5500.000000    34.000000   30.000000  16558.000000  \n",
      "max    6600.000000    54.000000   49.000000  45400.000000  \n",
      "\n",
      " Numeric Features \n",
      "         symboling  wheel-base      length       width      height  horsepower  \\\n",
      "count  205.000000  205.000000  205.000000  205.000000  205.000000  205.000000   \n",
      "mean     0.834146   98.756585  174.049268   65.907805   53.724878  104.936585   \n",
      "std      1.245307    6.021776   12.337289    2.145204    2.443522   40.609702   \n",
      "min     -2.000000   86.600000  141.100000   60.300000   47.800000   48.000000   \n",
      "25%      0.000000   94.500000  166.300000   64.100000   52.000000   70.000000   \n",
      "50%      1.000000   97.000000  173.200000   65.500000   54.100000   95.000000   \n",
      "75%      2.000000  102.400000  183.100000   66.900000   55.500000  116.000000   \n",
      "max      3.000000  120.900000  208.100000   72.300000   59.800000  288.000000   \n",
      "\n",
      "          peak-rpm  highway-mpg    city-mpg         price  \n",
      "count   205.000000   205.000000  205.000000    205.000000  \n",
      "mean   5127.804878    30.751220   25.219512  13476.258537  \n",
      "std     478.414007     6.886443    6.542142   8114.166248  \n",
      "min    4150.000000    16.000000   13.000000   5118.000000  \n",
      "25%    4800.000000    25.000000   19.000000   7788.000000  \n",
      "50%    5200.000000    30.000000   24.000000  10595.000000  \n",
      "75%    5500.000000    34.000000   30.000000  16558.000000  \n",
      "max    6600.000000    54.000000   49.000000  45400.000000  \n"
     ]
    }
   ],
   "source": [
    "def data_overview(dat):\n",
    "    print (\"Categorial Categories:\")\n",
    "    for col in dat.columns:\n",
    "        if df[col].dtype==\"object\":\n",
    "            print (col, \" -> \", df[col].unique(), \"\\n\")\n",
    "        print(\"\\n Numeric Features \\n\", dat.describe())\n",
    "        \n",
    "        \n",
    "data_overview(df)"
   ]
  },
  {
   "cell_type": "code",
   "execution_count": 34,
   "metadata": {},
   "outputs": [
    {
     "name": "stdout",
     "output_type": "stream",
     "text": [
      "Categorial Categories\n",
      "<bound method NDFrame.describe of      symboling         make fuel-type   body-style drive-wheels  wheel-base  \\\n",
      "0            3  alfa-romero       gas  convertible          rwd        88.6   \n",
      "1            3  alfa-romero       gas  convertible          rwd        88.6   \n",
      "2            1  alfa-romero       gas    hatchback          rwd        94.5   \n",
      "3            2         audi       gas        sedan          fwd        99.8   \n",
      "4            2         audi       gas        sedan          4wd        99.4   \n",
      "..         ...          ...       ...          ...          ...         ...   \n",
      "200         -1        volvo       gas        sedan          rwd       109.1   \n",
      "201         -1        volvo       gas        sedan          rwd       109.1   \n",
      "202         -1        volvo       gas        sedan          rwd       109.1   \n",
      "203         -1        volvo    diesel        sedan          rwd       109.1   \n",
      "204         -1        volvo       gas        sedan          rwd       109.1   \n",
      "\n",
      "     length  width  height  horsepower  peak-rpm  highway-mpg  city-mpg  price  \n",
      "0     168.8   64.1    48.8         111      5000           27        21  13495  \n",
      "1     168.8   64.1    48.8         111      5000           27        21  16500  \n",
      "2     171.2   65.5    52.4         154      5000           26        19  16500  \n",
      "3     176.6   66.2    54.3         102      5500           30        24  13950  \n",
      "4     176.6   66.4    54.3         115      5500           22        18  17450  \n",
      "..      ...    ...     ...         ...       ...          ...       ...    ...  \n",
      "200   188.8   68.9    55.5         114      5400           28        23  16845  \n",
      "201   188.8   68.8    55.5         160      5300           25        19  19045  \n",
      "202   188.8   68.9    55.5         134      5500           23        18  21485  \n",
      "203   188.8   68.9    55.5         106      4800           27        26  22470  \n",
      "204   188.8   68.9    55.5         114      5400           25        19  22625  \n",
      "\n",
      "[205 rows x 14 columns]>\n",
      "make  ->  ['alfa-romero' 'audi' 'bmw' 'chevrolet' 'dodge' 'honda' 'isuzu' 'jaguar'\n",
      " 'mazda' 'mercedes-benz' 'mercury' 'mitsubishi' 'nissan' 'peugot'\n",
      " 'plymouth' 'porsche' 'renault' 'saab' 'subaru' 'toyota' 'volkswagen'\n",
      " 'volvo'] \n",
      "\n",
      "<bound method NDFrame.describe of      symboling         make fuel-type   body-style drive-wheels  wheel-base  \\\n",
      "0            3  alfa-romero       gas  convertible          rwd        88.6   \n",
      "1            3  alfa-romero       gas  convertible          rwd        88.6   \n",
      "2            1  alfa-romero       gas    hatchback          rwd        94.5   \n",
      "3            2         audi       gas        sedan          fwd        99.8   \n",
      "4            2         audi       gas        sedan          4wd        99.4   \n",
      "..         ...          ...       ...          ...          ...         ...   \n",
      "200         -1        volvo       gas        sedan          rwd       109.1   \n",
      "201         -1        volvo       gas        sedan          rwd       109.1   \n",
      "202         -1        volvo       gas        sedan          rwd       109.1   \n",
      "203         -1        volvo    diesel        sedan          rwd       109.1   \n",
      "204         -1        volvo       gas        sedan          rwd       109.1   \n",
      "\n",
      "     length  width  height  horsepower  peak-rpm  highway-mpg  city-mpg  price  \n",
      "0     168.8   64.1    48.8         111      5000           27        21  13495  \n",
      "1     168.8   64.1    48.8         111      5000           27        21  16500  \n",
      "2     171.2   65.5    52.4         154      5000           26        19  16500  \n",
      "3     176.6   66.2    54.3         102      5500           30        24  13950  \n",
      "4     176.6   66.4    54.3         115      5500           22        18  17450  \n",
      "..      ...    ...     ...         ...       ...          ...       ...    ...  \n",
      "200   188.8   68.9    55.5         114      5400           28        23  16845  \n",
      "201   188.8   68.8    55.5         160      5300           25        19  19045  \n",
      "202   188.8   68.9    55.5         134      5500           23        18  21485  \n",
      "203   188.8   68.9    55.5         106      4800           27        26  22470  \n",
      "204   188.8   68.9    55.5         114      5400           25        19  22625  \n",
      "\n",
      "[205 rows x 14 columns]>\n",
      "fuel-type  ->  ['gas' 'diesel'] \n",
      "\n",
      "<bound method NDFrame.describe of      symboling         make fuel-type   body-style drive-wheels  wheel-base  \\\n",
      "0            3  alfa-romero       gas  convertible          rwd        88.6   \n",
      "1            3  alfa-romero       gas  convertible          rwd        88.6   \n",
      "2            1  alfa-romero       gas    hatchback          rwd        94.5   \n",
      "3            2         audi       gas        sedan          fwd        99.8   \n",
      "4            2         audi       gas        sedan          4wd        99.4   \n",
      "..         ...          ...       ...          ...          ...         ...   \n",
      "200         -1        volvo       gas        sedan          rwd       109.1   \n",
      "201         -1        volvo       gas        sedan          rwd       109.1   \n",
      "202         -1        volvo       gas        sedan          rwd       109.1   \n",
      "203         -1        volvo    diesel        sedan          rwd       109.1   \n",
      "204         -1        volvo       gas        sedan          rwd       109.1   \n",
      "\n",
      "     length  width  height  horsepower  peak-rpm  highway-mpg  city-mpg  price  \n",
      "0     168.8   64.1    48.8         111      5000           27        21  13495  \n",
      "1     168.8   64.1    48.8         111      5000           27        21  16500  \n",
      "2     171.2   65.5    52.4         154      5000           26        19  16500  \n",
      "3     176.6   66.2    54.3         102      5500           30        24  13950  \n",
      "4     176.6   66.4    54.3         115      5500           22        18  17450  \n",
      "..      ...    ...     ...         ...       ...          ...       ...    ...  \n",
      "200   188.8   68.9    55.5         114      5400           28        23  16845  \n",
      "201   188.8   68.8    55.5         160      5300           25        19  19045  \n",
      "202   188.8   68.9    55.5         134      5500           23        18  21485  \n",
      "203   188.8   68.9    55.5         106      4800           27        26  22470  \n",
      "204   188.8   68.9    55.5         114      5400           25        19  22625  \n",
      "\n",
      "[205 rows x 14 columns]>\n",
      "body-style  ->  ['convertible' 'hatchback' 'sedan' 'wagon' 'hardtop'] \n",
      "\n",
      "<bound method NDFrame.describe of      symboling         make fuel-type   body-style drive-wheels  wheel-base  \\\n",
      "0            3  alfa-romero       gas  convertible          rwd        88.6   \n",
      "1            3  alfa-romero       gas  convertible          rwd        88.6   \n",
      "2            1  alfa-romero       gas    hatchback          rwd        94.5   \n",
      "3            2         audi       gas        sedan          fwd        99.8   \n",
      "4            2         audi       gas        sedan          4wd        99.4   \n",
      "..         ...          ...       ...          ...          ...         ...   \n",
      "200         -1        volvo       gas        sedan          rwd       109.1   \n",
      "201         -1        volvo       gas        sedan          rwd       109.1   \n",
      "202         -1        volvo       gas        sedan          rwd       109.1   \n",
      "203         -1        volvo    diesel        sedan          rwd       109.1   \n",
      "204         -1        volvo       gas        sedan          rwd       109.1   \n",
      "\n",
      "     length  width  height  horsepower  peak-rpm  highway-mpg  city-mpg  price  \n",
      "0     168.8   64.1    48.8         111      5000           27        21  13495  \n",
      "1     168.8   64.1    48.8         111      5000           27        21  16500  \n",
      "2     171.2   65.5    52.4         154      5000           26        19  16500  \n",
      "3     176.6   66.2    54.3         102      5500           30        24  13950  \n",
      "4     176.6   66.4    54.3         115      5500           22        18  17450  \n",
      "..      ...    ...     ...         ...       ...          ...       ...    ...  \n",
      "200   188.8   68.9    55.5         114      5400           28        23  16845  \n",
      "201   188.8   68.8    55.5         160      5300           25        19  19045  \n",
      "202   188.8   68.9    55.5         134      5500           23        18  21485  \n",
      "203   188.8   68.9    55.5         106      4800           27        26  22470  \n",
      "204   188.8   68.9    55.5         114      5400           25        19  22625  \n",
      "\n",
      "[205 rows x 14 columns]>\n",
      "drive-wheels  ->  ['rwd' 'fwd' '4wd'] \n",
      "\n",
      "<bound method NDFrame.describe of      symboling         make fuel-type   body-style drive-wheels  wheel-base  \\\n",
      "0            3  alfa-romero       gas  convertible          rwd        88.6   \n",
      "1            3  alfa-romero       gas  convertible          rwd        88.6   \n",
      "2            1  alfa-romero       gas    hatchback          rwd        94.5   \n",
      "3            2         audi       gas        sedan          fwd        99.8   \n",
      "4            2         audi       gas        sedan          4wd        99.4   \n",
      "..         ...          ...       ...          ...          ...         ...   \n",
      "200         -1        volvo       gas        sedan          rwd       109.1   \n",
      "201         -1        volvo       gas        sedan          rwd       109.1   \n",
      "202         -1        volvo       gas        sedan          rwd       109.1   \n",
      "203         -1        volvo    diesel        sedan          rwd       109.1   \n",
      "204         -1        volvo       gas        sedan          rwd       109.1   \n",
      "\n",
      "     length  width  height  horsepower  peak-rpm  highway-mpg  city-mpg  price  \n",
      "0     168.8   64.1    48.8         111      5000           27        21  13495  \n",
      "1     168.8   64.1    48.8         111      5000           27        21  16500  \n",
      "2     171.2   65.5    52.4         154      5000           26        19  16500  \n",
      "3     176.6   66.2    54.3         102      5500           30        24  13950  \n",
      "4     176.6   66.4    54.3         115      5500           22        18  17450  \n",
      "..      ...    ...     ...         ...       ...          ...       ...    ...  \n",
      "200   188.8   68.9    55.5         114      5400           28        23  16845  \n",
      "201   188.8   68.8    55.5         160      5300           25        19  19045  \n",
      "202   188.8   68.9    55.5         134      5500           23        18  21485  \n",
      "203   188.8   68.9    55.5         106      4800           27        26  22470  \n",
      "204   188.8   68.9    55.5         114      5400           25        19  22625  \n",
      "\n",
      "[205 rows x 14 columns]>\n",
      "<bound method NDFrame.describe of      symboling         make fuel-type   body-style drive-wheels  wheel-base  \\\n",
      "0            3  alfa-romero       gas  convertible          rwd        88.6   \n",
      "1            3  alfa-romero       gas  convertible          rwd        88.6   \n",
      "2            1  alfa-romero       gas    hatchback          rwd        94.5   \n",
      "3            2         audi       gas        sedan          fwd        99.8   \n",
      "4            2         audi       gas        sedan          4wd        99.4   \n",
      "..         ...          ...       ...          ...          ...         ...   \n",
      "200         -1        volvo       gas        sedan          rwd       109.1   \n",
      "201         -1        volvo       gas        sedan          rwd       109.1   \n",
      "202         -1        volvo       gas        sedan          rwd       109.1   \n",
      "203         -1        volvo    diesel        sedan          rwd       109.1   \n",
      "204         -1        volvo       gas        sedan          rwd       109.1   \n",
      "\n",
      "     length  width  height  horsepower  peak-rpm  highway-mpg  city-mpg  price  \n",
      "0     168.8   64.1    48.8         111      5000           27        21  13495  \n",
      "1     168.8   64.1    48.8         111      5000           27        21  16500  \n",
      "2     171.2   65.5    52.4         154      5000           26        19  16500  \n",
      "3     176.6   66.2    54.3         102      5500           30        24  13950  \n",
      "4     176.6   66.4    54.3         115      5500           22        18  17450  \n",
      "..      ...    ...     ...         ...       ...          ...       ...    ...  \n",
      "200   188.8   68.9    55.5         114      5400           28        23  16845  \n",
      "201   188.8   68.8    55.5         160      5300           25        19  19045  \n",
      "202   188.8   68.9    55.5         134      5500           23        18  21485  \n",
      "203   188.8   68.9    55.5         106      4800           27        26  22470  \n",
      "204   188.8   68.9    55.5         114      5400           25        19  22625  \n",
      "\n",
      "[205 rows x 14 columns]>\n",
      "<bound method NDFrame.describe of      symboling         make fuel-type   body-style drive-wheels  wheel-base  \\\n",
      "0            3  alfa-romero       gas  convertible          rwd        88.6   \n",
      "1            3  alfa-romero       gas  convertible          rwd        88.6   \n",
      "2            1  alfa-romero       gas    hatchback          rwd        94.5   \n",
      "3            2         audi       gas        sedan          fwd        99.8   \n",
      "4            2         audi       gas        sedan          4wd        99.4   \n",
      "..         ...          ...       ...          ...          ...         ...   \n",
      "200         -1        volvo       gas        sedan          rwd       109.1   \n",
      "201         -1        volvo       gas        sedan          rwd       109.1   \n",
      "202         -1        volvo       gas        sedan          rwd       109.1   \n",
      "203         -1        volvo    diesel        sedan          rwd       109.1   \n",
      "204         -1        volvo       gas        sedan          rwd       109.1   \n",
      "\n",
      "     length  width  height  horsepower  peak-rpm  highway-mpg  city-mpg  price  \n",
      "0     168.8   64.1    48.8         111      5000           27        21  13495  \n",
      "1     168.8   64.1    48.8         111      5000           27        21  16500  \n",
      "2     171.2   65.5    52.4         154      5000           26        19  16500  \n",
      "3     176.6   66.2    54.3         102      5500           30        24  13950  \n",
      "4     176.6   66.4    54.3         115      5500           22        18  17450  \n",
      "..      ...    ...     ...         ...       ...          ...       ...    ...  \n",
      "200   188.8   68.9    55.5         114      5400           28        23  16845  \n",
      "201   188.8   68.8    55.5         160      5300           25        19  19045  \n",
      "202   188.8   68.9    55.5         134      5500           23        18  21485  \n",
      "203   188.8   68.9    55.5         106      4800           27        26  22470  \n",
      "204   188.8   68.9    55.5         114      5400           25        19  22625  \n",
      "\n",
      "[205 rows x 14 columns]>\n",
      "<bound method NDFrame.describe of      symboling         make fuel-type   body-style drive-wheels  wheel-base  \\\n",
      "0            3  alfa-romero       gas  convertible          rwd        88.6   \n",
      "1            3  alfa-romero       gas  convertible          rwd        88.6   \n",
      "2            1  alfa-romero       gas    hatchback          rwd        94.5   \n",
      "3            2         audi       gas        sedan          fwd        99.8   \n",
      "4            2         audi       gas        sedan          4wd        99.4   \n",
      "..         ...          ...       ...          ...          ...         ...   \n",
      "200         -1        volvo       gas        sedan          rwd       109.1   \n",
      "201         -1        volvo       gas        sedan          rwd       109.1   \n",
      "202         -1        volvo       gas        sedan          rwd       109.1   \n",
      "203         -1        volvo    diesel        sedan          rwd       109.1   \n",
      "204         -1        volvo       gas        sedan          rwd       109.1   \n",
      "\n",
      "     length  width  height  horsepower  peak-rpm  highway-mpg  city-mpg  price  \n",
      "0     168.8   64.1    48.8         111      5000           27        21  13495  \n",
      "1     168.8   64.1    48.8         111      5000           27        21  16500  \n",
      "2     171.2   65.5    52.4         154      5000           26        19  16500  \n",
      "3     176.6   66.2    54.3         102      5500           30        24  13950  \n",
      "4     176.6   66.4    54.3         115      5500           22        18  17450  \n",
      "..      ...    ...     ...         ...       ...          ...       ...    ...  \n",
      "200   188.8   68.9    55.5         114      5400           28        23  16845  \n",
      "201   188.8   68.8    55.5         160      5300           25        19  19045  \n",
      "202   188.8   68.9    55.5         134      5500           23        18  21485  \n",
      "203   188.8   68.9    55.5         106      4800           27        26  22470  \n",
      "204   188.8   68.9    55.5         114      5400           25        19  22625  \n",
      "\n",
      "[205 rows x 14 columns]>\n",
      "<bound method NDFrame.describe of      symboling         make fuel-type   body-style drive-wheels  wheel-base  \\\n",
      "0            3  alfa-romero       gas  convertible          rwd        88.6   \n",
      "1            3  alfa-romero       gas  convertible          rwd        88.6   \n",
      "2            1  alfa-romero       gas    hatchback          rwd        94.5   \n",
      "3            2         audi       gas        sedan          fwd        99.8   \n",
      "4            2         audi       gas        sedan          4wd        99.4   \n",
      "..         ...          ...       ...          ...          ...         ...   \n",
      "200         -1        volvo       gas        sedan          rwd       109.1   \n",
      "201         -1        volvo       gas        sedan          rwd       109.1   \n",
      "202         -1        volvo       gas        sedan          rwd       109.1   \n",
      "203         -1        volvo    diesel        sedan          rwd       109.1   \n",
      "204         -1        volvo       gas        sedan          rwd       109.1   \n",
      "\n",
      "     length  width  height  horsepower  peak-rpm  highway-mpg  city-mpg  price  \n",
      "0     168.8   64.1    48.8         111      5000           27        21  13495  \n",
      "1     168.8   64.1    48.8         111      5000           27        21  16500  \n",
      "2     171.2   65.5    52.4         154      5000           26        19  16500  \n",
      "3     176.6   66.2    54.3         102      5500           30        24  13950  \n",
      "4     176.6   66.4    54.3         115      5500           22        18  17450  \n",
      "..      ...    ...     ...         ...       ...          ...       ...    ...  \n",
      "200   188.8   68.9    55.5         114      5400           28        23  16845  \n",
      "201   188.8   68.8    55.5         160      5300           25        19  19045  \n",
      "202   188.8   68.9    55.5         134      5500           23        18  21485  \n",
      "203   188.8   68.9    55.5         106      4800           27        26  22470  \n",
      "204   188.8   68.9    55.5         114      5400           25        19  22625  \n",
      "\n",
      "[205 rows x 14 columns]>\n",
      "<bound method NDFrame.describe of      symboling         make fuel-type   body-style drive-wheels  wheel-base  \\\n",
      "0            3  alfa-romero       gas  convertible          rwd        88.6   \n",
      "1            3  alfa-romero       gas  convertible          rwd        88.6   \n",
      "2            1  alfa-romero       gas    hatchback          rwd        94.5   \n",
      "3            2         audi       gas        sedan          fwd        99.8   \n",
      "4            2         audi       gas        sedan          4wd        99.4   \n",
      "..         ...          ...       ...          ...          ...         ...   \n",
      "200         -1        volvo       gas        sedan          rwd       109.1   \n",
      "201         -1        volvo       gas        sedan          rwd       109.1   \n",
      "202         -1        volvo       gas        sedan          rwd       109.1   \n",
      "203         -1        volvo    diesel        sedan          rwd       109.1   \n",
      "204         -1        volvo       gas        sedan          rwd       109.1   \n",
      "\n",
      "     length  width  height  horsepower  peak-rpm  highway-mpg  city-mpg  price  \n",
      "0     168.8   64.1    48.8         111      5000           27        21  13495  \n",
      "1     168.8   64.1    48.8         111      5000           27        21  16500  \n",
      "2     171.2   65.5    52.4         154      5000           26        19  16500  \n",
      "3     176.6   66.2    54.3         102      5500           30        24  13950  \n",
      "4     176.6   66.4    54.3         115      5500           22        18  17450  \n",
      "..      ...    ...     ...         ...       ...          ...       ...    ...  \n",
      "200   188.8   68.9    55.5         114      5400           28        23  16845  \n",
      "201   188.8   68.8    55.5         160      5300           25        19  19045  \n",
      "202   188.8   68.9    55.5         134      5500           23        18  21485  \n",
      "203   188.8   68.9    55.5         106      4800           27        26  22470  \n",
      "204   188.8   68.9    55.5         114      5400           25        19  22625  \n",
      "\n",
      "[205 rows x 14 columns]>\n",
      "<bound method NDFrame.describe of      symboling         make fuel-type   body-style drive-wheels  wheel-base  \\\n",
      "0            3  alfa-romero       gas  convertible          rwd        88.6   \n",
      "1            3  alfa-romero       gas  convertible          rwd        88.6   \n",
      "2            1  alfa-romero       gas    hatchback          rwd        94.5   \n",
      "3            2         audi       gas        sedan          fwd        99.8   \n",
      "4            2         audi       gas        sedan          4wd        99.4   \n",
      "..         ...          ...       ...          ...          ...         ...   \n",
      "200         -1        volvo       gas        sedan          rwd       109.1   \n",
      "201         -1        volvo       gas        sedan          rwd       109.1   \n",
      "202         -1        volvo       gas        sedan          rwd       109.1   \n",
      "203         -1        volvo    diesel        sedan          rwd       109.1   \n",
      "204         -1        volvo       gas        sedan          rwd       109.1   \n",
      "\n",
      "     length  width  height  horsepower  peak-rpm  highway-mpg  city-mpg  price  \n",
      "0     168.8   64.1    48.8         111      5000           27        21  13495  \n",
      "1     168.8   64.1    48.8         111      5000           27        21  16500  \n",
      "2     171.2   65.5    52.4         154      5000           26        19  16500  \n",
      "3     176.6   66.2    54.3         102      5500           30        24  13950  \n",
      "4     176.6   66.4    54.3         115      5500           22        18  17450  \n",
      "..      ...    ...     ...         ...       ...          ...       ...    ...  \n",
      "200   188.8   68.9    55.5         114      5400           28        23  16845  \n",
      "201   188.8   68.8    55.5         160      5300           25        19  19045  \n",
      "202   188.8   68.9    55.5         134      5500           23        18  21485  \n",
      "203   188.8   68.9    55.5         106      4800           27        26  22470  \n",
      "204   188.8   68.9    55.5         114      5400           25        19  22625  \n",
      "\n",
      "[205 rows x 14 columns]>\n",
      "<bound method NDFrame.describe of      symboling         make fuel-type   body-style drive-wheels  wheel-base  \\\n",
      "0            3  alfa-romero       gas  convertible          rwd        88.6   \n",
      "1            3  alfa-romero       gas  convertible          rwd        88.6   \n",
      "2            1  alfa-romero       gas    hatchback          rwd        94.5   \n",
      "3            2         audi       gas        sedan          fwd        99.8   \n",
      "4            2         audi       gas        sedan          4wd        99.4   \n",
      "..         ...          ...       ...          ...          ...         ...   \n",
      "200         -1        volvo       gas        sedan          rwd       109.1   \n",
      "201         -1        volvo       gas        sedan          rwd       109.1   \n",
      "202         -1        volvo       gas        sedan          rwd       109.1   \n",
      "203         -1        volvo    diesel        sedan          rwd       109.1   \n",
      "204         -1        volvo       gas        sedan          rwd       109.1   \n",
      "\n",
      "     length  width  height  horsepower  peak-rpm  highway-mpg  city-mpg  price  \n",
      "0     168.8   64.1    48.8         111      5000           27        21  13495  \n",
      "1     168.8   64.1    48.8         111      5000           27        21  16500  \n",
      "2     171.2   65.5    52.4         154      5000           26        19  16500  \n",
      "3     176.6   66.2    54.3         102      5500           30        24  13950  \n",
      "4     176.6   66.4    54.3         115      5500           22        18  17450  \n",
      "..      ...    ...     ...         ...       ...          ...       ...    ...  \n",
      "200   188.8   68.9    55.5         114      5400           28        23  16845  \n",
      "201   188.8   68.8    55.5         160      5300           25        19  19045  \n",
      "202   188.8   68.9    55.5         134      5500           23        18  21485  \n",
      "203   188.8   68.9    55.5         106      4800           27        26  22470  \n",
      "204   188.8   68.9    55.5         114      5400           25        19  22625  \n",
      "\n",
      "[205 rows x 14 columns]>\n",
      "<bound method NDFrame.describe of      symboling         make fuel-type   body-style drive-wheels  wheel-base  \\\n",
      "0            3  alfa-romero       gas  convertible          rwd        88.6   \n",
      "1            3  alfa-romero       gas  convertible          rwd        88.6   \n",
      "2            1  alfa-romero       gas    hatchback          rwd        94.5   \n",
      "3            2         audi       gas        sedan          fwd        99.8   \n",
      "4            2         audi       gas        sedan          4wd        99.4   \n",
      "..         ...          ...       ...          ...          ...         ...   \n",
      "200         -1        volvo       gas        sedan          rwd       109.1   \n",
      "201         -1        volvo       gas        sedan          rwd       109.1   \n",
      "202         -1        volvo       gas        sedan          rwd       109.1   \n",
      "203         -1        volvo    diesel        sedan          rwd       109.1   \n",
      "204         -1        volvo       gas        sedan          rwd       109.1   \n",
      "\n",
      "     length  width  height  horsepower  peak-rpm  highway-mpg  city-mpg  price  \n",
      "0     168.8   64.1    48.8         111      5000           27        21  13495  \n",
      "1     168.8   64.1    48.8         111      5000           27        21  16500  \n",
      "2     171.2   65.5    52.4         154      5000           26        19  16500  \n",
      "3     176.6   66.2    54.3         102      5500           30        24  13950  \n",
      "4     176.6   66.4    54.3         115      5500           22        18  17450  \n",
      "..      ...    ...     ...         ...       ...          ...       ...    ...  \n",
      "200   188.8   68.9    55.5         114      5400           28        23  16845  \n",
      "201   188.8   68.8    55.5         160      5300           25        19  19045  \n",
      "202   188.8   68.9    55.5         134      5500           23        18  21485  \n",
      "203   188.8   68.9    55.5         106      4800           27        26  22470  \n",
      "204   188.8   68.9    55.5         114      5400           25        19  22625  \n",
      "\n",
      "[205 rows x 14 columns]>\n",
      "<bound method NDFrame.describe of      symboling         make fuel-type   body-style drive-wheels  wheel-base  \\\n",
      "0            3  alfa-romero       gas  convertible          rwd        88.6   \n",
      "1            3  alfa-romero       gas  convertible          rwd        88.6   \n",
      "2            1  alfa-romero       gas    hatchback          rwd        94.5   \n",
      "3            2         audi       gas        sedan          fwd        99.8   \n",
      "4            2         audi       gas        sedan          4wd        99.4   \n",
      "..         ...          ...       ...          ...          ...         ...   \n",
      "200         -1        volvo       gas        sedan          rwd       109.1   \n",
      "201         -1        volvo       gas        sedan          rwd       109.1   \n",
      "202         -1        volvo       gas        sedan          rwd       109.1   \n",
      "203         -1        volvo    diesel        sedan          rwd       109.1   \n",
      "204         -1        volvo       gas        sedan          rwd       109.1   \n",
      "\n",
      "     length  width  height  horsepower  peak-rpm  highway-mpg  city-mpg  price  \n",
      "0     168.8   64.1    48.8         111      5000           27        21  13495  \n",
      "1     168.8   64.1    48.8         111      5000           27        21  16500  \n",
      "2     171.2   65.5    52.4         154      5000           26        19  16500  \n",
      "3     176.6   66.2    54.3         102      5500           30        24  13950  \n",
      "4     176.6   66.4    54.3         115      5500           22        18  17450  \n",
      "..      ...    ...     ...         ...       ...          ...       ...    ...  \n",
      "200   188.8   68.9    55.5         114      5400           28        23  16845  \n",
      "201   188.8   68.8    55.5         160      5300           25        19  19045  \n",
      "202   188.8   68.9    55.5         134      5500           23        18  21485  \n",
      "203   188.8   68.9    55.5         106      4800           27        26  22470  \n",
      "204   188.8   68.9    55.5         114      5400           25        19  22625  \n",
      "\n",
      "[205 rows x 14 columns]>\n"
     ]
    }
   ],
   "source": [
    "def data_overview(dat):\n",
    "    print(\"Categorial Categories\")\n",
    "    for col in dat.columns:\n",
    "        if dat[col].dtype == 'object':\n",
    "            print(col, \" -> \", dat[col].unique(), '\\n')\n",
    "        print(dat.describe)\n",
    "        \n",
    "data_overview(df)"
   ]
  },
  {
   "cell_type": "code",
   "execution_count": 35,
   "metadata": {},
   "outputs": [
    {
     "name": "stdout",
     "output_type": "stream",
     "text": [
      "Categorial Categories\n",
      "make  ->  toyota           15.609756\n",
      "nissan            8.780488\n",
      "mazda             8.292683\n",
      "mitsubishi        6.341463\n",
      "honda             6.341463\n",
      "subaru            5.853659\n",
      "volkswagen        5.853659\n",
      "peugot            5.365854\n",
      "volvo             5.365854\n",
      "dodge             4.390244\n",
      "bmw               3.902439\n",
      "mercedes-benz     3.902439\n",
      "audi              3.414634\n",
      "plymouth          3.414634\n",
      "saab              2.926829\n",
      "porsche           2.439024\n",
      "isuzu             1.951220\n",
      "jaguar            1.463415\n",
      "chevrolet         1.463415\n",
      "alfa-romero       1.463415\n",
      "renault           0.975610\n",
      "mercury           0.487805\n",
      "Name: make, dtype: float64 \n",
      "\n",
      "fuel-type  ->  gas       90.243902\n",
      "diesel     9.756098\n",
      "Name: fuel-type, dtype: float64 \n",
      "\n",
      "body-style  ->  sedan          46.829268\n",
      "hatchback      34.146341\n",
      "wagon          12.195122\n",
      "hardtop         3.902439\n",
      "convertible     2.926829\n",
      "Name: body-style, dtype: float64 \n",
      "\n",
      "drive-wheels  ->  fwd    58.536585\n",
      "rwd    37.073171\n",
      "4wd     4.390244\n",
      "Name: drive-wheels, dtype: float64 \n",
      "\n"
     ]
    },
    {
     "data": {
      "image/png": "[encoded data removed]",
      "text/plain": [
       "<Figure size 432x288 with 1 Axes>"
      ]
     },
     "metadata": {
      "needs_background": "light"
     },
     "output_type": "display_data"
    },
    {
     "data": {
      "image/png": "[encoded data removed]",
      "text/plain": [
       "<Figure size 432x288 with 1 Axes>"
      ]
     },
     "metadata": {
      "needs_background": "light"
     },
     "output_type": "display_data"
    },
    {
     "data": {
      "image/png": "[encoded data removed]",
      "text/plain": [
       "<Figure size 432x288 with 1 Axes>"
      ]
     },
     "metadata": {
      "needs_background": "light"
     },
     "output_type": "display_data"
    },
    {
     "data": {
      "image/png": "[encoded data removed]",
      "text/plain": [
       "<Figure size 432x288 with 1 Axes>"
      ]
     },
     "metadata": {
      "needs_background": "light"
     },
     "output_type": "display_data"
    },
    {
     "data": {
      "image/png": "[encoded data removed]",
      "text/plain": [
       "<Figure size 432x288 with 1 Axes>"
      ]
     },
     "metadata": {
      "needs_background": "light"
     },
     "output_type": "display_data"
    },
    {
     "data": {
      "image/png": "[encoded data removed]",
      "text/plain": [
       "<Figure size 432x288 with 1 Axes>"
      ]
     },
     "metadata": {
      "needs_background": "light"
     },
     "output_type": "display_data"
    },
    {
     "data": {
      "image/png": "[encoded data removed]",
      "text/plain": [
       "<Figure size 432x288 with 1 Axes>"
      ]
     },
     "metadata": {
      "needs_background": "light"
     },
     "output_type": "display_data"
    },
    {
     "data": {
      "image/png": "[encoded data removed]",
      "text/plain": [
       "<Figure size 432x288 with 1 Axes>"
      ]
     },
     "metadata": {
      "needs_background": "light"
     },
     "output_type": "display_data"
    },
    {
     "data": {
      "image/png": "[encoded data removed]",
      "text/plain": [
       "<Figure size 432x288 with 1 Axes>"
      ]
     },
     "metadata": {
      "needs_background": "light"
     },
     "output_type": "display_data"
    },
    {
     "data": {
      "image/png": "[encoded data removed]",
      "text/plain": [
       "<Figure size 432x288 with 1 Axes>"
      ]
     },
     "metadata": {
      "needs_background": "light"
     },
     "output_type": "display_data"
    }
   ],
   "source": [
    "def data_overview(dat):\n",
    "    print(\"Categorial Categories\")\n",
    "    for col in dat.columns:\n",
    "        if dat[col].dtype == 'object':\n",
    "            print(col, \" -> \", dat[col].value_counts(normalize=True)*100, '\\n') \n",
    "    \n",
    "    for col in dat.columns:\n",
    "        if dat[col].dtype != 'object':\n",
    "            sns.histplot(dat[col],kde=True)\n",
    "            plt.show()\n",
    "        \n",
    "data_overview(df)"
   ]
  },
  {
   "cell_type": "code",
   "execution_count": 36,
   "metadata": {},
   "outputs": [
    {
     "data": {
      "text/plain": [
       "<AxesSubplot:xlabel='price', ylabel='Count'>"
      ]
     },
     "execution_count": 36,
     "metadata": {},
     "output_type": "execute_result"
    },
    {
     "data": {
      "image/png": "[encoded data removed]",
      "text/plain": [
       "<Figure size 432x288 with 1 Axes>"
      ]
     },
     "metadata": {
      "needs_background": "light"
     },
     "output_type": "display_data"
    }
   ],
   "source": [
    "\n",
    "sns.histplot(df['price'], kde=True)"
   ]
  },
  {
   "cell_type": "code",
   "execution_count": 37,
   "metadata": {},
   "outputs": [
    {
     "data": {
      "text/plain": [
       "<AxesSubplot:xlabel='make', ylabel='Count'>"
      ]
     },
     "execution_count": 37,
     "metadata": {},
     "output_type": "execute_result"
    },
    {
     "data": {
      "image/png": "[encoded data removed]",
      "text/plain": [
       "<Figure size 432x288 with 1 Axes>"
      ]
     },
     "metadata": {
      "needs_background": "light"
     },
     "output_type": "display_data"
    }
   ],
   "source": [
    "sns.histplot(df['make'].value_counts(), kde=True)"
   ]
  },
  {
   "cell_type": "code",
   "execution_count": 38,
   "metadata": {},
   "outputs": [
    {
     "data": {
      "text/plain": [
       "<AxesSubplot:xlabel='make', ylabel='count'>"
      ]
     },
     "execution_count": 38,
     "metadata": {},
     "output_type": "execute_result"
    },
    {
     "data": {
      "image/png": "[encoded data removed]",
      "text/plain": [
       "<Figure size 1440x360 with 1 Axes>"
      ]
     },
     "metadata": {
      "needs_background": "light"
     },
     "output_type": "display_data"
    }
   ],
   "source": [
    "plt.figure(figsize=(20,5))\n",
    "sns.countplot(df['make'])"
   ]
  },
  {
   "cell_type": "code",
   "execution_count": 39,
   "metadata": {},
   "outputs": [
    {
     "data": {
      "text/plain": [
       "<AxesSubplot:xlabel='count', ylabel='make'>"
      ]
     },
     "execution_count": 39,
     "metadata": {},
     "output_type": "execute_result"
    },
    {
     "data": {
      "image/png": "[encoded data removed]",
      "text/plain": [
       "<Figure size 720x432 with 1 Axes>"
      ]
     },
     "metadata": {
      "needs_background": "light"
     },
     "output_type": "display_data"
    }
   ],
   "source": [
    "plt.figure(figsize=(10,6))\n",
    "sns.set_color_codes('pastel')\n",
    "sns.countplot(y='make', data=df)"
   ]
  },
  {
   "cell_type": "code",
   "execution_count": 40,
   "metadata": {},
   "outputs": [
    {
     "data": {
      "text/plain": [
       "Index(['symboling', 'make', 'fuel-type', 'body-style', 'drive-wheels',\n",
       "       'wheel-base', 'length', 'width', 'height', 'horsepower', 'peak-rpm',\n",
       "       'highway-mpg', 'city-mpg', 'price'],\n",
       "      dtype='object')"
      ]
     },
     "execution_count": 40,
     "metadata": {},
     "output_type": "execute_result"
    }
   ],
   "source": [
    "df.columns"
   ]
  },
  {
   "cell_type": "code",
   "execution_count": 41,
   "metadata": {},
   "outputs": [
    {
     "data": {
      "text/plain": [
       "<seaborn.axisgrid.JointGrid at 0x1db37dd67c0>"
      ]
     },
     "execution_count": 41,
     "metadata": {},
     "output_type": "execute_result"
    },
    {
     "data": {
      "image/png": "[encoded data removed]",
      "text/plain": [
       "<Figure size 432x432 with 3 Axes>"
      ]
     },
     "metadata": {
      "needs_background": "light"
     },
     "output_type": "display_data"
    }
   ],
   "source": [
    "sns.jointplot('horsepower','price', data=df, kind='reg')"
   ]
  },
  {
   "cell_type": "code",
   "execution_count": 42,
   "metadata": {},
   "outputs": [
    {
     "data": {
      "text/plain": [
       "<AxesSubplot:>"
      ]
     },
     "execution_count": 42,
     "metadata": {},
     "output_type": "execute_result"
    },
    {
     "data": {
      "image/png": "[encoded data removed]",
      "text/plain": [
       "<Figure size 432x288 with 2 Axes>"
      ]
     },
     "metadata": {
      "needs_background": "light"
     },
     "output_type": "display_data"
    }
   ],
   "source": [
    "sns.heatmap(df.corr(), cmap='viridis')"
   ]
  },
  {
   "cell_type": "code",
   "execution_count": 43,
   "metadata": {},
   "outputs": [
    {
     "data": {
      "text/plain": [
       "<AxesSubplot:xlabel='body-style', ylabel='price'>"
      ]
     },
     "execution_count": 43,
     "metadata": {},
     "output_type": "execute_result"
    },
    {
     "data": {
      "image/png": "[encoded data removed]",
      "text/plain": [
       "<Figure size 432x288 with 1 Axes>"
      ]
     },
     "metadata": {
      "needs_background": "light"
     },
     "output_type": "display_data"
    }
   ],
   "source": [
    "sns.boxplot(x = 'body-style', y = 'price', data=df)"
   ]
  },
  {
   "cell_type": "code",
   "execution_count": null,
   "metadata": {},
   "outputs": [],
   "source": []
  },
  {
   "cell_type": "markdown",
   "metadata": {},
   "source": [
    "### Data 2"
   ]
  },
  {
   "cell_type": "markdown",
   "metadata": {},
   "source": [
    "###  Load the data  stored in `data_1` using `.read_csv()` api.\n",
    "\n",
    "### Get an overview of your data by using info() and describe() functions of pandas.\n",
    "\n"
   ]
  },
  {
   "cell_type": "code",
   "execution_count": 77,
   "metadata": {},
   "outputs": [],
   "source": [
    "df = pd.read_csv(\"C:\\\\Users\\\\DELL\\\\Basecamp3\\\\GLabs_Data_Science_Learn\\\\Data Exploration of Automobile Data\\\\data\\\\data_1.csv\")\n",
    "dp = pd.read_csv(\"C:\\\\Users\\\\DELL\\\\Basecamp3\\\\GLabs_Data_Science_Learn\\\\Data Exploration of Automobile Data\\\\data\\\\data_2.csv\")"
   ]
  },
  {
   "cell_type": "code",
   "execution_count": 78,
   "metadata": {},
   "outputs": [
    {
     "data": {
      "text/html": [
       "<div>\n",
       "<style scoped>\n",
       "    .dataframe tbody tr th:only-of-type {\n",
       "        vertical-align: middle;\n",
       "    }\n",
       "\n",
       "    .dataframe tbody tr th {\n",
       "        vertical-align: top;\n",
       "    }\n",
       "\n",
       "    .dataframe thead th {\n",
       "        text-align: right;\n",
       "    }\n",
       "</style>\n",
       "<table border=\"1\" class=\"dataframe\">\n",
       "  <thead>\n",
       "    <tr style=\"text-align: right;\">\n",
       "      <th></th>\n",
       "      <th>symboling</th>\n",
       "      <th>make</th>\n",
       "      <th>fuel-type</th>\n",
       "      <th>body-style</th>\n",
       "      <th>drive-wheels</th>\n",
       "      <th>wheel-base</th>\n",
       "      <th>length</th>\n",
       "      <th>width</th>\n",
       "      <th>height</th>\n",
       "      <th>horsepower</th>\n",
       "      <th>peak-rpm</th>\n",
       "      <th>highway-mpg</th>\n",
       "      <th>city-mpg</th>\n",
       "      <th>price</th>\n",
       "    </tr>\n",
       "  </thead>\n",
       "  <tbody>\n",
       "    <tr>\n",
       "      <th>0</th>\n",
       "      <td>3</td>\n",
       "      <td>alfa-romero</td>\n",
       "      <td>gas</td>\n",
       "      <td>convertible</td>\n",
       "      <td>rwd</td>\n",
       "      <td>88.6</td>\n",
       "      <td>168.8</td>\n",
       "      <td>64.1</td>\n",
       "      <td>48.8</td>\n",
       "      <td>111</td>\n",
       "      <td>5000</td>\n",
       "      <td>27</td>\n",
       "      <td>21</td>\n",
       "      <td>13495</td>\n",
       "    </tr>\n",
       "    <tr>\n",
       "      <th>1</th>\n",
       "      <td>3</td>\n",
       "      <td>alfa-romero</td>\n",
       "      <td>gas</td>\n",
       "      <td>convertible</td>\n",
       "      <td>rwd</td>\n",
       "      <td>88.6</td>\n",
       "      <td>168.8</td>\n",
       "      <td>64.1</td>\n",
       "      <td>48.8</td>\n",
       "      <td>111</td>\n",
       "      <td>5000</td>\n",
       "      <td>27</td>\n",
       "      <td>21</td>\n",
       "      <td>16500</td>\n",
       "    </tr>\n",
       "    <tr>\n",
       "      <th>2</th>\n",
       "      <td>1</td>\n",
       "      <td>alfa-romero</td>\n",
       "      <td>gas</td>\n",
       "      <td>hatchback</td>\n",
       "      <td>rwd</td>\n",
       "      <td>94.5</td>\n",
       "      <td>171.2</td>\n",
       "      <td>65.5</td>\n",
       "      <td>52.4</td>\n",
       "      <td>154</td>\n",
       "      <td>5000</td>\n",
       "      <td>26</td>\n",
       "      <td>19</td>\n",
       "      <td>16500</td>\n",
       "    </tr>\n",
       "    <tr>\n",
       "      <th>3</th>\n",
       "      <td>2</td>\n",
       "      <td>audi</td>\n",
       "      <td>gas</td>\n",
       "      <td>sedan</td>\n",
       "      <td>fwd</td>\n",
       "      <td>99.8</td>\n",
       "      <td>176.6</td>\n",
       "      <td>66.2</td>\n",
       "      <td>54.3</td>\n",
       "      <td>102</td>\n",
       "      <td>5500</td>\n",
       "      <td>30</td>\n",
       "      <td>24</td>\n",
       "      <td>13950</td>\n",
       "    </tr>\n",
       "    <tr>\n",
       "      <th>4</th>\n",
       "      <td>2</td>\n",
       "      <td>audi</td>\n",
       "      <td>gas</td>\n",
       "      <td>sedan</td>\n",
       "      <td>4wd</td>\n",
       "      <td>99.4</td>\n",
       "      <td>176.6</td>\n",
       "      <td>66.4</td>\n",
       "      <td>54.3</td>\n",
       "      <td>115</td>\n",
       "      <td>5500</td>\n",
       "      <td>22</td>\n",
       "      <td>18</td>\n",
       "      <td>17450</td>\n",
       "    </tr>\n",
       "  </tbody>\n",
       "</table>\n",
       "</div>"
      ],
      "text/plain": [
       "   symboling         make fuel-type   body-style drive-wheels  wheel-base  \\\n",
       "0          3  alfa-romero       gas  convertible          rwd        88.6   \n",
       "1          3  alfa-romero       gas  convertible          rwd        88.6   \n",
       "2          1  alfa-romero       gas    hatchback          rwd        94.5   \n",
       "3          2         audi       gas        sedan          fwd        99.8   \n",
       "4          2         audi       gas        sedan          4wd        99.4   \n",
       "\n",
       "   length  width  height  horsepower  peak-rpm  highway-mpg  city-mpg  price  \n",
       "0   168.8   64.1    48.8         111      5000           27        21  13495  \n",
       "1   168.8   64.1    48.8         111      5000           27        21  16500  \n",
       "2   171.2   65.5    52.4         154      5000           26        19  16500  \n",
       "3   176.6   66.2    54.3         102      5500           30        24  13950  \n",
       "4   176.6   66.4    54.3         115      5500           22        18  17450  "
      ]
     },
     "execution_count": 78,
     "metadata": {},
     "output_type": "execute_result"
    }
   ],
   "source": [
    "df.head()"
   ]
  },
  {
   "cell_type": "code",
   "execution_count": 95,
   "metadata": {},
   "outputs": [
    {
     "data": {
      "text/html": [
       "<div>\n",
       "<style scoped>\n",
       "    .dataframe tbody tr th:only-of-type {\n",
       "        vertical-align: middle;\n",
       "    }\n",
       "\n",
       "    .dataframe tbody tr th {\n",
       "        vertical-align: top;\n",
       "    }\n",
       "\n",
       "    .dataframe thead th {\n",
       "        text-align: right;\n",
       "    }\n",
       "</style>\n",
       "<table border=\"1\" class=\"dataframe\">\n",
       "  <thead>\n",
       "    <tr style=\"text-align: right;\">\n",
       "      <th></th>\n",
       "      <th>symboling</th>\n",
       "      <th>normalized-losses</th>\n",
       "      <th>make</th>\n",
       "      <th>fuel-type</th>\n",
       "      <th>body-style</th>\n",
       "      <th>drive-wheels</th>\n",
       "      <th>engine-location</th>\n",
       "      <th>width</th>\n",
       "      <th>height</th>\n",
       "      <th>engine-type</th>\n",
       "      <th>engine-size</th>\n",
       "      <th>horsepower</th>\n",
       "      <th>city-mpg</th>\n",
       "      <th>highway-mpg</th>\n",
       "      <th>price</th>\n",
       "    </tr>\n",
       "  </thead>\n",
       "  <tbody>\n",
       "    <tr>\n",
       "      <th>0</th>\n",
       "      <td>3</td>\n",
       "      <td>NaN</td>\n",
       "      <td>alfa-romero</td>\n",
       "      <td>gas</td>\n",
       "      <td>convertible</td>\n",
       "      <td>rwd</td>\n",
       "      <td>front</td>\n",
       "      <td>64.1</td>\n",
       "      <td>48.8</td>\n",
       "      <td>dohc</td>\n",
       "      <td>130</td>\n",
       "      <td>111</td>\n",
       "      <td>21</td>\n",
       "      <td>27</td>\n",
       "      <td>13495</td>\n",
       "    </tr>\n",
       "    <tr>\n",
       "      <th>1</th>\n",
       "      <td>3</td>\n",
       "      <td>NaN</td>\n",
       "      <td>alfa-romero</td>\n",
       "      <td>gas</td>\n",
       "      <td>convertible</td>\n",
       "      <td>rwd</td>\n",
       "      <td>front</td>\n",
       "      <td>64.1</td>\n",
       "      <td>48.8</td>\n",
       "      <td>dohc</td>\n",
       "      <td>130</td>\n",
       "      <td>111</td>\n",
       "      <td>21</td>\n",
       "      <td>27</td>\n",
       "      <td>16500</td>\n",
       "    </tr>\n",
       "    <tr>\n",
       "      <th>2</th>\n",
       "      <td>1</td>\n",
       "      <td>NaN</td>\n",
       "      <td>alfa-romero</td>\n",
       "      <td>gas</td>\n",
       "      <td>hatchback</td>\n",
       "      <td>rwd</td>\n",
       "      <td>front</td>\n",
       "      <td>65.5</td>\n",
       "      <td>52.4</td>\n",
       "      <td>ohcv</td>\n",
       "      <td>152</td>\n",
       "      <td>154</td>\n",
       "      <td>19</td>\n",
       "      <td>26</td>\n",
       "      <td>16500</td>\n",
       "    </tr>\n",
       "    <tr>\n",
       "      <th>3</th>\n",
       "      <td>2</td>\n",
       "      <td>164</td>\n",
       "      <td>audi</td>\n",
       "      <td>gas</td>\n",
       "      <td>sedan</td>\n",
       "      <td>fwd</td>\n",
       "      <td>front</td>\n",
       "      <td>66.2</td>\n",
       "      <td>54.3</td>\n",
       "      <td>ohc</td>\n",
       "      <td>109</td>\n",
       "      <td>102</td>\n",
       "      <td>24</td>\n",
       "      <td>30</td>\n",
       "      <td>13950</td>\n",
       "    </tr>\n",
       "    <tr>\n",
       "      <th>4</th>\n",
       "      <td>2</td>\n",
       "      <td>164</td>\n",
       "      <td>audi</td>\n",
       "      <td>gas</td>\n",
       "      <td>sedan</td>\n",
       "      <td>4wd</td>\n",
       "      <td>front</td>\n",
       "      <td>66.4</td>\n",
       "      <td>54.3</td>\n",
       "      <td>ohc</td>\n",
       "      <td>136</td>\n",
       "      <td>115</td>\n",
       "      <td>18</td>\n",
       "      <td>22</td>\n",
       "      <td>17450</td>\n",
       "    </tr>\n",
       "  </tbody>\n",
       "</table>\n",
       "</div>"
      ],
      "text/plain": [
       "   symboling normalized-losses         make fuel-type   body-style  \\\n",
       "0          3               NaN  alfa-romero       gas  convertible   \n",
       "1          3               NaN  alfa-romero       gas  convertible   \n",
       "2          1               NaN  alfa-romero       gas    hatchback   \n",
       "3          2               164         audi       gas        sedan   \n",
       "4          2               164         audi       gas        sedan   \n",
       "\n",
       "  drive-wheels engine-location  width  height engine-type  engine-size  \\\n",
       "0          rwd           front   64.1    48.8        dohc          130   \n",
       "1          rwd           front   64.1    48.8        dohc          130   \n",
       "2          rwd           front   65.5    52.4        ohcv          152   \n",
       "3          fwd           front   66.2    54.3         ohc          109   \n",
       "4          4wd           front   66.4    54.3         ohc          136   \n",
       "\n",
       "  horsepower  city-mpg  highway-mpg  price  \n",
       "0        111        21           27  13495  \n",
       "1        111        21           27  16500  \n",
       "2        154        19           26  16500  \n",
       "3        102        24           30  13950  \n",
       "4        115        18           22  17450  "
      ]
     },
     "execution_count": 95,
     "metadata": {},
     "output_type": "execute_result"
    }
   ],
   "source": [
    "dp.head()"
   ]
  },
  {
   "cell_type": "code",
   "execution_count": 96,
   "metadata": {},
   "outputs": [
    {
     "data": {
      "text/plain": [
       "symboling             0\n",
       "normalized-losses    41\n",
       "make                  0\n",
       "fuel-type             0\n",
       "body-style            0\n",
       "drive-wheels          0\n",
       "engine-location       0\n",
       "width                 0\n",
       "height                0\n",
       "engine-type           0\n",
       "engine-size           0\n",
       "horsepower            2\n",
       "city-mpg              0\n",
       "highway-mpg           0\n",
       "price                 0\n",
       "dtype: int64"
      ]
     },
     "execution_count": 96,
     "metadata": {},
     "output_type": "execute_result"
    }
   ],
   "source": [
    "dp.isnull().sum()"
   ]
  },
  {
   "cell_type": "code",
   "execution_count": 97,
   "metadata": {},
   "outputs": [
    {
     "data": {
      "text/plain": [
       "array(['111', '154', '102', '115', '110', '140', '160', '101', '121',\n",
       "       '182', '48', '70', '68', '88', '145', '58', '76', '60', '86',\n",
       "       '100', '78', '90', '176', '262', '135', '84', '64', '120', '72',\n",
       "       '123', '155', '184', '175', '116', '69', '55', '97', '152', '200',\n",
       "       '95', '142', '143', '207', '288', nan, '73', '82', '94', '62',\n",
       "       '56', '112', '92', '161', '156', '52', '85', '114', '162', '134',\n",
       "       '106'], dtype=object)"
      ]
     },
     "execution_count": 97,
     "metadata": {},
     "output_type": "execute_result"
    }
   ],
   "source": [
    "dp[\"horsepower\"].unique()"
   ]
  },
  {
   "cell_type": "code",
   "execution_count": 98,
   "metadata": {},
   "outputs": [
    {
     "data": {
      "text/plain": [
       "symboling              int64\n",
       "normalized-losses     object\n",
       "make                  object\n",
       "fuel-type             object\n",
       "body-style            object\n",
       "drive-wheels          object\n",
       "engine-location       object\n",
       "width                float64\n",
       "height               float64\n",
       "engine-type           object\n",
       "engine-size            int64\n",
       "horsepower            object\n",
       "city-mpg               int64\n",
       "highway-mpg            int64\n",
       "price                  int64\n",
       "dtype: object"
      ]
     },
     "execution_count": 98,
     "metadata": {},
     "output_type": "execute_result"
    }
   ],
   "source": [
    "dp.dtypes"
   ]
  },
  {
   "cell_type": "code",
   "execution_count": null,
   "metadata": {},
   "outputs": [],
   "source": []
  },
  {
   "cell_type": "code",
   "execution_count": null,
   "metadata": {},
   "outputs": [],
   "source": []
  },
  {
   "cell_type": "code",
   "execution_count": 99,
   "metadata": {},
   "outputs": [],
   "source": [
    "dp = dp.replace(\"?\", np.nan)\n"
   ]
  },
  {
   "cell_type": "code",
   "execution_count": 100,
   "metadata": {},
   "outputs": [
    {
     "data": {
      "text/plain": [
       "symboling              int64\n",
       "normalized-losses     object\n",
       "make                  object\n",
       "fuel-type             object\n",
       "body-style            object\n",
       "drive-wheels          object\n",
       "engine-location       object\n",
       "width                float64\n",
       "height               float64\n",
       "engine-type           object\n",
       "engine-size            int64\n",
       "horsepower            object\n",
       "city-mpg               int64\n",
       "highway-mpg            int64\n",
       "price                  int64\n",
       "dtype: object"
      ]
     },
     "execution_count": 100,
     "metadata": {},
     "output_type": "execute_result"
    }
   ],
   "source": [
    "dp.dtypes"
   ]
  },
  {
   "cell_type": "code",
   "execution_count": 106,
   "metadata": {},
   "outputs": [
    {
     "data": {
      "text/plain": [
       "array(['111', '154', '102', '115', '110', '140', '160', '101', '121',\n",
       "       '182', '48', '70', '68', '88', '145', '58', '76', '60', '86',\n",
       "       '100', '78', '90', '176', '262', '135', '84', '64', '120', '72',\n",
       "       '123', '155', '184', '175', '116', '69', '55', '97', '152', '200',\n",
       "       '95', '142', '143', '207', '288', nan, '73', '82', '94', '62',\n",
       "       '56', '112', '92', '161', '156', '52', '85', '114', '162', '134',\n",
       "       '106'], dtype=object)"
      ]
     },
     "execution_count": 106,
     "metadata": {},
     "output_type": "execute_result"
    }
   ],
   "source": [
    "dp['horsepower'].unique()"
   ]
  },
  {
   "cell_type": "code",
   "execution_count": 107,
   "metadata": {},
   "outputs": [
    {
     "data": {
      "text/plain": [
       "0      111.0\n",
       "1      111.0\n",
       "2      154.0\n",
       "3      102.0\n",
       "4      115.0\n",
       "       ...  \n",
       "200    114.0\n",
       "201    160.0\n",
       "202    134.0\n",
       "203    106.0\n",
       "204    114.0\n",
       "Name: horsepower, Length: 205, dtype: float64"
      ]
     },
     "execution_count": 107,
     "metadata": {},
     "output_type": "execute_result"
    }
   ],
   "source": [
    "dp['normalized-losses'].astype(float)\n",
    "dp['horsepower'].astype(float)"
   ]
  },
  {
   "cell_type": "code",
   "execution_count": 108,
   "metadata": {},
   "outputs": [
    {
     "ename": "TypeError",
     "evalue": "unsupported operand type(s) for +: 'int' and 'str'",
     "output_type": "error",
     "traceback": [
      "\u001b[1;31m---------------------------------------------------------------------------\u001b[0m",
      "\u001b[1;31mTypeError\u001b[0m                                 Traceback (most recent call last)",
      "\u001b[1;32m<ipython-input-108-f158b1153fba>\u001b[0m in \u001b[0;36m<module>\u001b[1;34m\u001b[0m\n\u001b[1;32m----> 1\u001b[1;33m \u001b[0mdp\u001b[0m\u001b[1;33m[\u001b[0m\u001b[1;34m'normalized-losses'\u001b[0m\u001b[1;33m]\u001b[0m\u001b[1;33m.\u001b[0m\u001b[0mfillna\u001b[0m\u001b[1;33m(\u001b[0m\u001b[0mdp\u001b[0m\u001b[1;33m[\u001b[0m\u001b[1;34m'normalized-losses'\u001b[0m\u001b[1;33m]\u001b[0m\u001b[1;33m.\u001b[0m\u001b[0mmean\u001b[0m\u001b[1;33m(\u001b[0m\u001b[1;33m)\u001b[0m\u001b[1;33m,\u001b[0m \u001b[0minplace\u001b[0m\u001b[1;33m=\u001b[0m\u001b[1;32mTrue\u001b[0m\u001b[1;33m)\u001b[0m\u001b[1;33m\u001b[0m\u001b[1;33m\u001b[0m\u001b[0m\n\u001b[0m",
      "\u001b[1;32m~\\anaconda3\\lib\\site-packages\\pandas\\core\\generic.py\u001b[0m in \u001b[0;36mstat_func\u001b[1;34m(self, axis, skipna, level, numeric_only, **kwargs)\u001b[0m\n\u001b[0;32m  11466\u001b[0m         \u001b[1;32mif\u001b[0m \u001b[0mlevel\u001b[0m \u001b[1;32mis\u001b[0m \u001b[1;32mnot\u001b[0m \u001b[1;32mNone\u001b[0m\u001b[1;33m:\u001b[0m\u001b[1;33m\u001b[0m\u001b[1;33m\u001b[0m\u001b[0m\n\u001b[0;32m  11467\u001b[0m             \u001b[1;32mreturn\u001b[0m \u001b[0mself\u001b[0m\u001b[1;33m.\u001b[0m\u001b[0m_agg_by_level\u001b[0m\u001b[1;33m(\u001b[0m\u001b[0mname\u001b[0m\u001b[1;33m,\u001b[0m \u001b[0maxis\u001b[0m\u001b[1;33m=\u001b[0m\u001b[0maxis\u001b[0m\u001b[1;33m,\u001b[0m \u001b[0mlevel\u001b[0m\u001b[1;33m=\u001b[0m\u001b[0mlevel\u001b[0m\u001b[1;33m,\u001b[0m \u001b[0mskipna\u001b[0m\u001b[1;33m=\u001b[0m\u001b[0mskipna\u001b[0m\u001b[1;33m)\u001b[0m\u001b[1;33m\u001b[0m\u001b[1;33m\u001b[0m\u001b[0m\n\u001b[1;32m> 11468\u001b[1;33m         return self._reduce(\n\u001b[0m\u001b[0;32m  11469\u001b[0m             \u001b[0mfunc\u001b[0m\u001b[1;33m,\u001b[0m \u001b[0mname\u001b[0m\u001b[1;33m=\u001b[0m\u001b[0mname\u001b[0m\u001b[1;33m,\u001b[0m \u001b[0maxis\u001b[0m\u001b[1;33m=\u001b[0m\u001b[0maxis\u001b[0m\u001b[1;33m,\u001b[0m \u001b[0mskipna\u001b[0m\u001b[1;33m=\u001b[0m\u001b[0mskipna\u001b[0m\u001b[1;33m,\u001b[0m \u001b[0mnumeric_only\u001b[0m\u001b[1;33m=\u001b[0m\u001b[0mnumeric_only\u001b[0m\u001b[1;33m\u001b[0m\u001b[1;33m\u001b[0m\u001b[0m\n\u001b[0;32m  11470\u001b[0m         )\n",
      "\u001b[1;32m~\\anaconda3\\lib\\site-packages\\pandas\\core\\series.py\u001b[0m in \u001b[0;36m_reduce\u001b[1;34m(self, op, name, axis, skipna, numeric_only, filter_type, **kwds)\u001b[0m\n\u001b[0;32m   4234\u001b[0m                 )\n\u001b[0;32m   4235\u001b[0m             \u001b[1;32mwith\u001b[0m \u001b[0mnp\u001b[0m\u001b[1;33m.\u001b[0m\u001b[0merrstate\u001b[0m\u001b[1;33m(\u001b[0m\u001b[0mall\u001b[0m\u001b[1;33m=\u001b[0m\u001b[1;34m\"ignore\"\u001b[0m\u001b[1;33m)\u001b[0m\u001b[1;33m:\u001b[0m\u001b[1;33m\u001b[0m\u001b[1;33m\u001b[0m\u001b[0m\n\u001b[1;32m-> 4236\u001b[1;33m                 \u001b[1;32mreturn\u001b[0m \u001b[0mop\u001b[0m\u001b[1;33m(\u001b[0m\u001b[0mdelegate\u001b[0m\u001b[1;33m,\u001b[0m \u001b[0mskipna\u001b[0m\u001b[1;33m=\u001b[0m\u001b[0mskipna\u001b[0m\u001b[1;33m,\u001b[0m \u001b[1;33m**\u001b[0m\u001b[0mkwds\u001b[0m\u001b[1;33m)\u001b[0m\u001b[1;33m\u001b[0m\u001b[1;33m\u001b[0m\u001b[0m\n\u001b[0m\u001b[0;32m   4237\u001b[0m \u001b[1;33m\u001b[0m\u001b[0m\n\u001b[0;32m   4238\u001b[0m     \u001b[1;32mdef\u001b[0m \u001b[0m_reindex_indexer\u001b[0m\u001b[1;33m(\u001b[0m\u001b[0mself\u001b[0m\u001b[1;33m,\u001b[0m \u001b[0mnew_index\u001b[0m\u001b[1;33m,\u001b[0m \u001b[0mindexer\u001b[0m\u001b[1;33m,\u001b[0m \u001b[0mcopy\u001b[0m\u001b[1;33m)\u001b[0m\u001b[1;33m:\u001b[0m\u001b[1;33m\u001b[0m\u001b[1;33m\u001b[0m\u001b[0m\n",
      "\u001b[1;32m~\\anaconda3\\lib\\site-packages\\pandas\\core\\nanops.py\u001b[0m in \u001b[0;36m_f\u001b[1;34m(*args, **kwargs)\u001b[0m\n\u001b[0;32m     69\u001b[0m             \u001b[1;32mtry\u001b[0m\u001b[1;33m:\u001b[0m\u001b[1;33m\u001b[0m\u001b[1;33m\u001b[0m\u001b[0m\n\u001b[0;32m     70\u001b[0m                 \u001b[1;32mwith\u001b[0m \u001b[0mnp\u001b[0m\u001b[1;33m.\u001b[0m\u001b[0merrstate\u001b[0m\u001b[1;33m(\u001b[0m\u001b[0minvalid\u001b[0m\u001b[1;33m=\u001b[0m\u001b[1;34m\"ignore\"\u001b[0m\u001b[1;33m)\u001b[0m\u001b[1;33m:\u001b[0m\u001b[1;33m\u001b[0m\u001b[1;33m\u001b[0m\u001b[0m\n\u001b[1;32m---> 71\u001b[1;33m                     \u001b[1;32mreturn\u001b[0m \u001b[0mf\u001b[0m\u001b[1;33m(\u001b[0m\u001b[1;33m*\u001b[0m\u001b[0margs\u001b[0m\u001b[1;33m,\u001b[0m \u001b[1;33m**\u001b[0m\u001b[0mkwargs\u001b[0m\u001b[1;33m)\u001b[0m\u001b[1;33m\u001b[0m\u001b[1;33m\u001b[0m\u001b[0m\n\u001b[0m\u001b[0;32m     72\u001b[0m             \u001b[1;32mexcept\u001b[0m \u001b[0mValueError\u001b[0m \u001b[1;32mas\u001b[0m \u001b[0me\u001b[0m\u001b[1;33m:\u001b[0m\u001b[1;33m\u001b[0m\u001b[1;33m\u001b[0m\u001b[0m\n\u001b[0;32m     73\u001b[0m                 \u001b[1;31m# we want to transform an object array\u001b[0m\u001b[1;33m\u001b[0m\u001b[1;33m\u001b[0m\u001b[1;33m\u001b[0m\u001b[0m\n",
      "\u001b[1;32m~\\anaconda3\\lib\\site-packages\\pandas\\core\\nanops.py\u001b[0m in \u001b[0;36mf\u001b[1;34m(values, axis, skipna, **kwds)\u001b[0m\n\u001b[0;32m    127\u001b[0m                     \u001b[0mresult\u001b[0m \u001b[1;33m=\u001b[0m \u001b[0malt\u001b[0m\u001b[1;33m(\u001b[0m\u001b[0mvalues\u001b[0m\u001b[1;33m,\u001b[0m \u001b[0maxis\u001b[0m\u001b[1;33m=\u001b[0m\u001b[0maxis\u001b[0m\u001b[1;33m,\u001b[0m \u001b[0mskipna\u001b[0m\u001b[1;33m=\u001b[0m\u001b[0mskipna\u001b[0m\u001b[1;33m,\u001b[0m \u001b[1;33m**\u001b[0m\u001b[0mkwds\u001b[0m\u001b[1;33m)\u001b[0m\u001b[1;33m\u001b[0m\u001b[1;33m\u001b[0m\u001b[0m\n\u001b[0;32m    128\u001b[0m             \u001b[1;32melse\u001b[0m\u001b[1;33m:\u001b[0m\u001b[1;33m\u001b[0m\u001b[1;33m\u001b[0m\u001b[0m\n\u001b[1;32m--> 129\u001b[1;33m                 \u001b[0mresult\u001b[0m \u001b[1;33m=\u001b[0m \u001b[0malt\u001b[0m\u001b[1;33m(\u001b[0m\u001b[0mvalues\u001b[0m\u001b[1;33m,\u001b[0m \u001b[0maxis\u001b[0m\u001b[1;33m=\u001b[0m\u001b[0maxis\u001b[0m\u001b[1;33m,\u001b[0m \u001b[0mskipna\u001b[0m\u001b[1;33m=\u001b[0m\u001b[0mskipna\u001b[0m\u001b[1;33m,\u001b[0m \u001b[1;33m**\u001b[0m\u001b[0mkwds\u001b[0m\u001b[1;33m)\u001b[0m\u001b[1;33m\u001b[0m\u001b[1;33m\u001b[0m\u001b[0m\n\u001b[0m\u001b[0;32m    130\u001b[0m \u001b[1;33m\u001b[0m\u001b[0m\n\u001b[0;32m    131\u001b[0m             \u001b[1;32mreturn\u001b[0m \u001b[0mresult\u001b[0m\u001b[1;33m\u001b[0m\u001b[1;33m\u001b[0m\u001b[0m\n",
      "\u001b[1;32m~\\anaconda3\\lib\\site-packages\\pandas\\core\\nanops.py\u001b[0m in \u001b[0;36mnanmean\u001b[1;34m(values, axis, skipna, mask)\u001b[0m\n\u001b[0;32m    561\u001b[0m         \u001b[0mdtype_count\u001b[0m \u001b[1;33m=\u001b[0m \u001b[0mdtype\u001b[0m\u001b[1;33m\u001b[0m\u001b[1;33m\u001b[0m\u001b[0m\n\u001b[0;32m    562\u001b[0m     \u001b[0mcount\u001b[0m \u001b[1;33m=\u001b[0m \u001b[0m_get_counts\u001b[0m\u001b[1;33m(\u001b[0m\u001b[0mvalues\u001b[0m\u001b[1;33m.\u001b[0m\u001b[0mshape\u001b[0m\u001b[1;33m,\u001b[0m \u001b[0mmask\u001b[0m\u001b[1;33m,\u001b[0m \u001b[0maxis\u001b[0m\u001b[1;33m,\u001b[0m \u001b[0mdtype\u001b[0m\u001b[1;33m=\u001b[0m\u001b[0mdtype_count\u001b[0m\u001b[1;33m)\u001b[0m\u001b[1;33m\u001b[0m\u001b[1;33m\u001b[0m\u001b[0m\n\u001b[1;32m--> 563\u001b[1;33m     \u001b[0mthe_sum\u001b[0m \u001b[1;33m=\u001b[0m \u001b[0m_ensure_numeric\u001b[0m\u001b[1;33m(\u001b[0m\u001b[0mvalues\u001b[0m\u001b[1;33m.\u001b[0m\u001b[0msum\u001b[0m\u001b[1;33m(\u001b[0m\u001b[0maxis\u001b[0m\u001b[1;33m,\u001b[0m \u001b[0mdtype\u001b[0m\u001b[1;33m=\u001b[0m\u001b[0mdtype_sum\u001b[0m\u001b[1;33m)\u001b[0m\u001b[1;33m)\u001b[0m\u001b[1;33m\u001b[0m\u001b[1;33m\u001b[0m\u001b[0m\n\u001b[0m\u001b[0;32m    564\u001b[0m \u001b[1;33m\u001b[0m\u001b[0m\n\u001b[0;32m    565\u001b[0m     \u001b[1;32mif\u001b[0m \u001b[0maxis\u001b[0m \u001b[1;32mis\u001b[0m \u001b[1;32mnot\u001b[0m \u001b[1;32mNone\u001b[0m \u001b[1;32mand\u001b[0m \u001b[0mgetattr\u001b[0m\u001b[1;33m(\u001b[0m\u001b[0mthe_sum\u001b[0m\u001b[1;33m,\u001b[0m \u001b[1;34m\"ndim\"\u001b[0m\u001b[1;33m,\u001b[0m \u001b[1;32mFalse\u001b[0m\u001b[1;33m)\u001b[0m\u001b[1;33m:\u001b[0m\u001b[1;33m\u001b[0m\u001b[1;33m\u001b[0m\u001b[0m\n",
      "\u001b[1;32m~\\anaconda3\\lib\\site-packages\\numpy\\core\\_methods.py\u001b[0m in \u001b[0;36m_sum\u001b[1;34m(a, axis, dtype, out, keepdims, initial, where)\u001b[0m\n\u001b[0;32m     45\u001b[0m def _sum(a, axis=None, dtype=None, out=None, keepdims=False,\n\u001b[0;32m     46\u001b[0m          initial=_NoValue, where=True):\n\u001b[1;32m---> 47\u001b[1;33m     \u001b[1;32mreturn\u001b[0m \u001b[0mumr_sum\u001b[0m\u001b[1;33m(\u001b[0m\u001b[0ma\u001b[0m\u001b[1;33m,\u001b[0m \u001b[0maxis\u001b[0m\u001b[1;33m,\u001b[0m \u001b[0mdtype\u001b[0m\u001b[1;33m,\u001b[0m \u001b[0mout\u001b[0m\u001b[1;33m,\u001b[0m \u001b[0mkeepdims\u001b[0m\u001b[1;33m,\u001b[0m \u001b[0minitial\u001b[0m\u001b[1;33m,\u001b[0m \u001b[0mwhere\u001b[0m\u001b[1;33m)\u001b[0m\u001b[1;33m\u001b[0m\u001b[1;33m\u001b[0m\u001b[0m\n\u001b[0m\u001b[0;32m     48\u001b[0m \u001b[1;33m\u001b[0m\u001b[0m\n\u001b[0;32m     49\u001b[0m def _prod(a, axis=None, dtype=None, out=None, keepdims=False,\n",
      "\u001b[1;31mTypeError\u001b[0m: unsupported operand type(s) for +: 'int' and 'str'"
     ]
    }
   ],
   "source": [
    "dp['normalized-losses'].fillna(dp['normalized-losses'].mean(), inplace=True)"
   ]
  },
  {
   "cell_type": "code",
   "execution_count": 109,
   "metadata": {},
   "outputs": [
    {
     "ename": "TypeError",
     "evalue": "can only concatenate str (not \"int\") to str",
     "output_type": "error",
     "traceback": [
      "\u001b[1;31m---------------------------------------------------------------------------\u001b[0m",
      "\u001b[1;31mTypeError\u001b[0m                                 Traceback (most recent call last)",
      "\u001b[1;32m<ipython-input-109-9bcb0e771ac5>\u001b[0m in \u001b[0;36m<module>\u001b[1;34m\u001b[0m\n\u001b[1;32m----> 1\u001b[1;33m \u001b[0mdp\u001b[0m\u001b[1;33m[\u001b[0m\u001b[1;34m'horsepower'\u001b[0m\u001b[1;33m]\u001b[0m\u001b[1;33m.\u001b[0m\u001b[0mfillna\u001b[0m\u001b[1;33m(\u001b[0m\u001b[0mdp\u001b[0m\u001b[1;33m[\u001b[0m\u001b[1;34m'horsepower'\u001b[0m\u001b[1;33m]\u001b[0m\u001b[1;33m.\u001b[0m\u001b[0mmean\u001b[0m\u001b[1;33m(\u001b[0m\u001b[1;33m)\u001b[0m\u001b[1;33m,\u001b[0m \u001b[0minplace\u001b[0m\u001b[1;33m=\u001b[0m\u001b[1;32mTrue\u001b[0m\u001b[1;33m)\u001b[0m\u001b[1;33m\u001b[0m\u001b[1;33m\u001b[0m\u001b[0m\n\u001b[0m",
      "\u001b[1;32m~\\anaconda3\\lib\\site-packages\\pandas\\core\\generic.py\u001b[0m in \u001b[0;36mstat_func\u001b[1;34m(self, axis, skipna, level, numeric_only, **kwargs)\u001b[0m\n\u001b[0;32m  11466\u001b[0m         \u001b[1;32mif\u001b[0m \u001b[0mlevel\u001b[0m \u001b[1;32mis\u001b[0m \u001b[1;32mnot\u001b[0m \u001b[1;32mNone\u001b[0m\u001b[1;33m:\u001b[0m\u001b[1;33m\u001b[0m\u001b[1;33m\u001b[0m\u001b[0m\n\u001b[0;32m  11467\u001b[0m             \u001b[1;32mreturn\u001b[0m \u001b[0mself\u001b[0m\u001b[1;33m.\u001b[0m\u001b[0m_agg_by_level\u001b[0m\u001b[1;33m(\u001b[0m\u001b[0mname\u001b[0m\u001b[1;33m,\u001b[0m \u001b[0maxis\u001b[0m\u001b[1;33m=\u001b[0m\u001b[0maxis\u001b[0m\u001b[1;33m,\u001b[0m \u001b[0mlevel\u001b[0m\u001b[1;33m=\u001b[0m\u001b[0mlevel\u001b[0m\u001b[1;33m,\u001b[0m \u001b[0mskipna\u001b[0m\u001b[1;33m=\u001b[0m\u001b[0mskipna\u001b[0m\u001b[1;33m)\u001b[0m\u001b[1;33m\u001b[0m\u001b[1;33m\u001b[0m\u001b[0m\n\u001b[1;32m> 11468\u001b[1;33m         return self._reduce(\n\u001b[0m\u001b[0;32m  11469\u001b[0m             \u001b[0mfunc\u001b[0m\u001b[1;33m,\u001b[0m \u001b[0mname\u001b[0m\u001b[1;33m=\u001b[0m\u001b[0mname\u001b[0m\u001b[1;33m,\u001b[0m \u001b[0maxis\u001b[0m\u001b[1;33m=\u001b[0m\u001b[0maxis\u001b[0m\u001b[1;33m,\u001b[0m \u001b[0mskipna\u001b[0m\u001b[1;33m=\u001b[0m\u001b[0mskipna\u001b[0m\u001b[1;33m,\u001b[0m \u001b[0mnumeric_only\u001b[0m\u001b[1;33m=\u001b[0m\u001b[0mnumeric_only\u001b[0m\u001b[1;33m\u001b[0m\u001b[1;33m\u001b[0m\u001b[0m\n\u001b[0;32m  11470\u001b[0m         )\n",
      "\u001b[1;32m~\\anaconda3\\lib\\site-packages\\pandas\\core\\series.py\u001b[0m in \u001b[0;36m_reduce\u001b[1;34m(self, op, name, axis, skipna, numeric_only, filter_type, **kwds)\u001b[0m\n\u001b[0;32m   4234\u001b[0m                 )\n\u001b[0;32m   4235\u001b[0m             \u001b[1;32mwith\u001b[0m \u001b[0mnp\u001b[0m\u001b[1;33m.\u001b[0m\u001b[0merrstate\u001b[0m\u001b[1;33m(\u001b[0m\u001b[0mall\u001b[0m\u001b[1;33m=\u001b[0m\u001b[1;34m\"ignore\"\u001b[0m\u001b[1;33m)\u001b[0m\u001b[1;33m:\u001b[0m\u001b[1;33m\u001b[0m\u001b[1;33m\u001b[0m\u001b[0m\n\u001b[1;32m-> 4236\u001b[1;33m                 \u001b[1;32mreturn\u001b[0m \u001b[0mop\u001b[0m\u001b[1;33m(\u001b[0m\u001b[0mdelegate\u001b[0m\u001b[1;33m,\u001b[0m \u001b[0mskipna\u001b[0m\u001b[1;33m=\u001b[0m\u001b[0mskipna\u001b[0m\u001b[1;33m,\u001b[0m \u001b[1;33m**\u001b[0m\u001b[0mkwds\u001b[0m\u001b[1;33m)\u001b[0m\u001b[1;33m\u001b[0m\u001b[1;33m\u001b[0m\u001b[0m\n\u001b[0m\u001b[0;32m   4237\u001b[0m \u001b[1;33m\u001b[0m\u001b[0m\n\u001b[0;32m   4238\u001b[0m     \u001b[1;32mdef\u001b[0m \u001b[0m_reindex_indexer\u001b[0m\u001b[1;33m(\u001b[0m\u001b[0mself\u001b[0m\u001b[1;33m,\u001b[0m \u001b[0mnew_index\u001b[0m\u001b[1;33m,\u001b[0m \u001b[0mindexer\u001b[0m\u001b[1;33m,\u001b[0m \u001b[0mcopy\u001b[0m\u001b[1;33m)\u001b[0m\u001b[1;33m:\u001b[0m\u001b[1;33m\u001b[0m\u001b[1;33m\u001b[0m\u001b[0m\n",
      "\u001b[1;32m~\\anaconda3\\lib\\site-packages\\pandas\\core\\nanops.py\u001b[0m in \u001b[0;36m_f\u001b[1;34m(*args, **kwargs)\u001b[0m\n\u001b[0;32m     69\u001b[0m             \u001b[1;32mtry\u001b[0m\u001b[1;33m:\u001b[0m\u001b[1;33m\u001b[0m\u001b[1;33m\u001b[0m\u001b[0m\n\u001b[0;32m     70\u001b[0m                 \u001b[1;32mwith\u001b[0m \u001b[0mnp\u001b[0m\u001b[1;33m.\u001b[0m\u001b[0merrstate\u001b[0m\u001b[1;33m(\u001b[0m\u001b[0minvalid\u001b[0m\u001b[1;33m=\u001b[0m\u001b[1;34m\"ignore\"\u001b[0m\u001b[1;33m)\u001b[0m\u001b[1;33m:\u001b[0m\u001b[1;33m\u001b[0m\u001b[1;33m\u001b[0m\u001b[0m\n\u001b[1;32m---> 71\u001b[1;33m                     \u001b[1;32mreturn\u001b[0m \u001b[0mf\u001b[0m\u001b[1;33m(\u001b[0m\u001b[1;33m*\u001b[0m\u001b[0margs\u001b[0m\u001b[1;33m,\u001b[0m \u001b[1;33m**\u001b[0m\u001b[0mkwargs\u001b[0m\u001b[1;33m)\u001b[0m\u001b[1;33m\u001b[0m\u001b[1;33m\u001b[0m\u001b[0m\n\u001b[0m\u001b[0;32m     72\u001b[0m             \u001b[1;32mexcept\u001b[0m \u001b[0mValueError\u001b[0m \u001b[1;32mas\u001b[0m \u001b[0me\u001b[0m\u001b[1;33m:\u001b[0m\u001b[1;33m\u001b[0m\u001b[1;33m\u001b[0m\u001b[0m\n\u001b[0;32m     73\u001b[0m                 \u001b[1;31m# we want to transform an object array\u001b[0m\u001b[1;33m\u001b[0m\u001b[1;33m\u001b[0m\u001b[1;33m\u001b[0m\u001b[0m\n",
      "\u001b[1;32m~\\anaconda3\\lib\\site-packages\\pandas\\core\\nanops.py\u001b[0m in \u001b[0;36mf\u001b[1;34m(values, axis, skipna, **kwds)\u001b[0m\n\u001b[0;32m    127\u001b[0m                     \u001b[0mresult\u001b[0m \u001b[1;33m=\u001b[0m \u001b[0malt\u001b[0m\u001b[1;33m(\u001b[0m\u001b[0mvalues\u001b[0m\u001b[1;33m,\u001b[0m \u001b[0maxis\u001b[0m\u001b[1;33m=\u001b[0m\u001b[0maxis\u001b[0m\u001b[1;33m,\u001b[0m \u001b[0mskipna\u001b[0m\u001b[1;33m=\u001b[0m\u001b[0mskipna\u001b[0m\u001b[1;33m,\u001b[0m \u001b[1;33m**\u001b[0m\u001b[0mkwds\u001b[0m\u001b[1;33m)\u001b[0m\u001b[1;33m\u001b[0m\u001b[1;33m\u001b[0m\u001b[0m\n\u001b[0;32m    128\u001b[0m             \u001b[1;32melse\u001b[0m\u001b[1;33m:\u001b[0m\u001b[1;33m\u001b[0m\u001b[1;33m\u001b[0m\u001b[0m\n\u001b[1;32m--> 129\u001b[1;33m                 \u001b[0mresult\u001b[0m \u001b[1;33m=\u001b[0m \u001b[0malt\u001b[0m\u001b[1;33m(\u001b[0m\u001b[0mvalues\u001b[0m\u001b[1;33m,\u001b[0m \u001b[0maxis\u001b[0m\u001b[1;33m=\u001b[0m\u001b[0maxis\u001b[0m\u001b[1;33m,\u001b[0m \u001b[0mskipna\u001b[0m\u001b[1;33m=\u001b[0m\u001b[0mskipna\u001b[0m\u001b[1;33m,\u001b[0m \u001b[1;33m**\u001b[0m\u001b[0mkwds\u001b[0m\u001b[1;33m)\u001b[0m\u001b[1;33m\u001b[0m\u001b[1;33m\u001b[0m\u001b[0m\n\u001b[0m\u001b[0;32m    130\u001b[0m \u001b[1;33m\u001b[0m\u001b[0m\n\u001b[0;32m    131\u001b[0m             \u001b[1;32mreturn\u001b[0m \u001b[0mresult\u001b[0m\u001b[1;33m\u001b[0m\u001b[1;33m\u001b[0m\u001b[0m\n",
      "\u001b[1;32m~\\anaconda3\\lib\\site-packages\\pandas\\core\\nanops.py\u001b[0m in \u001b[0;36mnanmean\u001b[1;34m(values, axis, skipna, mask)\u001b[0m\n\u001b[0;32m    561\u001b[0m         \u001b[0mdtype_count\u001b[0m \u001b[1;33m=\u001b[0m \u001b[0mdtype\u001b[0m\u001b[1;33m\u001b[0m\u001b[1;33m\u001b[0m\u001b[0m\n\u001b[0;32m    562\u001b[0m     \u001b[0mcount\u001b[0m \u001b[1;33m=\u001b[0m \u001b[0m_get_counts\u001b[0m\u001b[1;33m(\u001b[0m\u001b[0mvalues\u001b[0m\u001b[1;33m.\u001b[0m\u001b[0mshape\u001b[0m\u001b[1;33m,\u001b[0m \u001b[0mmask\u001b[0m\u001b[1;33m,\u001b[0m \u001b[0maxis\u001b[0m\u001b[1;33m,\u001b[0m \u001b[0mdtype\u001b[0m\u001b[1;33m=\u001b[0m\u001b[0mdtype_count\u001b[0m\u001b[1;33m)\u001b[0m\u001b[1;33m\u001b[0m\u001b[1;33m\u001b[0m\u001b[0m\n\u001b[1;32m--> 563\u001b[1;33m     \u001b[0mthe_sum\u001b[0m \u001b[1;33m=\u001b[0m \u001b[0m_ensure_numeric\u001b[0m\u001b[1;33m(\u001b[0m\u001b[0mvalues\u001b[0m\u001b[1;33m.\u001b[0m\u001b[0msum\u001b[0m\u001b[1;33m(\u001b[0m\u001b[0maxis\u001b[0m\u001b[1;33m,\u001b[0m \u001b[0mdtype\u001b[0m\u001b[1;33m=\u001b[0m\u001b[0mdtype_sum\u001b[0m\u001b[1;33m)\u001b[0m\u001b[1;33m)\u001b[0m\u001b[1;33m\u001b[0m\u001b[1;33m\u001b[0m\u001b[0m\n\u001b[0m\u001b[0;32m    564\u001b[0m \u001b[1;33m\u001b[0m\u001b[0m\n\u001b[0;32m    565\u001b[0m     \u001b[1;32mif\u001b[0m \u001b[0maxis\u001b[0m \u001b[1;32mis\u001b[0m \u001b[1;32mnot\u001b[0m \u001b[1;32mNone\u001b[0m \u001b[1;32mand\u001b[0m \u001b[0mgetattr\u001b[0m\u001b[1;33m(\u001b[0m\u001b[0mthe_sum\u001b[0m\u001b[1;33m,\u001b[0m \u001b[1;34m\"ndim\"\u001b[0m\u001b[1;33m,\u001b[0m \u001b[1;32mFalse\u001b[0m\u001b[1;33m)\u001b[0m\u001b[1;33m:\u001b[0m\u001b[1;33m\u001b[0m\u001b[1;33m\u001b[0m\u001b[0m\n",
      "\u001b[1;32m~\\anaconda3\\lib\\site-packages\\numpy\\core\\_methods.py\u001b[0m in \u001b[0;36m_sum\u001b[1;34m(a, axis, dtype, out, keepdims, initial, where)\u001b[0m\n\u001b[0;32m     45\u001b[0m def _sum(a, axis=None, dtype=None, out=None, keepdims=False,\n\u001b[0;32m     46\u001b[0m          initial=_NoValue, where=True):\n\u001b[1;32m---> 47\u001b[1;33m     \u001b[1;32mreturn\u001b[0m \u001b[0mumr_sum\u001b[0m\u001b[1;33m(\u001b[0m\u001b[0ma\u001b[0m\u001b[1;33m,\u001b[0m \u001b[0maxis\u001b[0m\u001b[1;33m,\u001b[0m \u001b[0mdtype\u001b[0m\u001b[1;33m,\u001b[0m \u001b[0mout\u001b[0m\u001b[1;33m,\u001b[0m \u001b[0mkeepdims\u001b[0m\u001b[1;33m,\u001b[0m \u001b[0minitial\u001b[0m\u001b[1;33m,\u001b[0m \u001b[0mwhere\u001b[0m\u001b[1;33m)\u001b[0m\u001b[1;33m\u001b[0m\u001b[1;33m\u001b[0m\u001b[0m\n\u001b[0m\u001b[0;32m     48\u001b[0m \u001b[1;33m\u001b[0m\u001b[0m\n\u001b[0;32m     49\u001b[0m def _prod(a, axis=None, dtype=None, out=None, keepdims=False,\n",
      "\u001b[1;31mTypeError\u001b[0m: can only concatenate str (not \"int\") to str"
     ]
    }
   ],
   "source": [
    "dp['horsepower'].fillna(dp['horsepower'].mean(), inplace=True)"
   ]
  },
  {
   "cell_type": "code",
   "execution_count": null,
   "metadata": {},
   "outputs": [],
   "source": []
  },
  {
   "cell_type": "code",
   "execution_count": null,
   "metadata": {},
   "outputs": [],
   "source": []
  },
  {
   "cell_type": "code",
   "execution_count": null,
   "metadata": {},
   "outputs": [],
   "source": []
  },
  {
   "cell_type": "code",
   "execution_count": null,
   "metadata": {},
   "outputs": [],
   "source": []
  },
  {
   "cell_type": "markdown",
   "metadata": {},
   "source": [
    "### Plot a histogram showing the distribution of the car prices (target variable).\n",
    "\n",
    "### Plot a countplot of the 'make' column of the dataset which represents the different car makers.\n",
    "\n"
   ]
  },
  {
   "cell_type": "code",
   "execution_count": null,
   "metadata": {},
   "outputs": [],
   "source": []
  },
  {
   "cell_type": "markdown",
   "metadata": {},
   "source": [
    "### Plot a boxplot that shows the variability of each 'body-style' with respect to the 'price'.\n",
    "\n"
   ]
  },
  {
   "cell_type": "code",
   "execution_count": null,
   "metadata": {},
   "outputs": [],
   "source": []
  },
  {
   "cell_type": "markdown",
   "metadata": {},
   "source": [
    "###  Load the data  stored in `data_2` using `.read_csv()` api.\n",
    "\n"
   ]
  },
  {
   "cell_type": "code",
   "execution_count": null,
   "metadata": {},
   "outputs": [],
   "source": []
  },
  {
   "cell_type": "markdown",
   "metadata": {},
   "source": [
    "### Impute the missing values of the numerical data with mean of the particular column (Make sure you replace \"?\" by \"NaN\" before Imputing).\n",
    "\n"
   ]
  },
  {
   "cell_type": "code",
   "execution_count": null,
   "metadata": {},
   "outputs": [],
   "source": []
  },
  {
   "cell_type": "markdown",
   "metadata": {},
   "source": [
    "###  Check the skewness of the numeric features and apply square root transformation on features with skewness greater than 1.\n",
    "\n"
   ]
  },
  {
   "cell_type": "code",
   "execution_count": null,
   "metadata": {},
   "outputs": [],
   "source": []
  },
  {
   "cell_type": "markdown",
   "metadata": {},
   "source": [
    "###  Label Encode the categorical features.\n",
    "\n"
   ]
  },
  {
   "cell_type": "code",
   "execution_count": null,
   "metadata": {},
   "outputs": [],
   "source": []
  },
  {
   "cell_type": "markdown",
   "metadata": {},
   "source": [
    "### Combine the 'height' and 'width' to make a new feature 'area' of the frame of the car."
   ]
  },
  {
   "cell_type": "code",
   "execution_count": null,
   "metadata": {},
   "outputs": [],
   "source": []
  }
 ],
 "metadata": {
  "kernelspec": {
   "display_name": "Python 3",
   "language": "python",
   "name": "python3"
  },
  "language_info": {
   "codemirror_mode": {
    "name": "ipython",
    "version": 3
   },
   "file_extension": ".py",
   "mimetype": "text/x-python",
   "name": "python",
   "nbconvert_exporter": "python",
   "pygments_lexer": "ipython3",
   "version": "3.8.5"
  }
 },
 "nbformat": 4,
 "nbformat_minor": 2
}
