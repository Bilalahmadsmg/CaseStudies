{
 "cells": [
  {
   "cell_type": "markdown",
   "metadata": {},
   "source": [
    "# Customer Segmentation using RFM analysis\n",
    "\n",
    "This is a transnational data set which contains all the transactions occurring between 01/12/2010 and 09/12/2011 for a UK-based and registered non-store online retail.The company mainly sells unique all-occasion gifts. Many customers of the company are wholesalers.\n",
    "\n",
    "We will create cutomer segments as per the Recency,Frequency and Monetary analysis by analyzing the data to know our customer base. This knowlwdge can then be used to target customers to retain customers, pitch offers etc"
   ]
  },
  {
   "cell_type": "markdown",
   "metadata": {},
   "source": [
    "### Importing Libraries"
   ]
  },
  {
   "cell_type": "code",
   "execution_count": 1,
   "metadata": {},
   "outputs": [],
   "source": [
    "import numpy as np\n",
    "import pandas as pd\n",
    "import matplotlib.pyplot as plt\n",
    "%matplotlib inline\n",
    "from pandas.plotting import scatter_matrix\n",
    "\n",
    "import time, warnings\n",
    "import datetime as dt\n",
    "\n",
    "import seaborn as sns\n",
    "\n",
    "\n",
    "warnings.filterwarnings('ignore')"
   ]
  },
  {
   "cell_type": "code",
   "execution_count": 2,
   "metadata": {},
   "outputs": [
    {
     "data": {
      "text/html": [
       "<div>\n",
       "<style scoped>\n",
       "    .dataframe tbody tr th:only-of-type {\n",
       "        vertical-align: middle;\n",
       "    }\n",
       "\n",
       "    .dataframe tbody tr th {\n",
       "        vertical-align: top;\n",
       "    }\n",
       "\n",
       "    .dataframe thead th {\n",
       "        text-align: right;\n",
       "    }\n",
       "</style>\n",
       "<table border=\"1\" class=\"dataframe\">\n",
       "  <thead>\n",
       "    <tr style=\"text-align: right;\">\n",
       "      <th></th>\n",
       "      <th>InvoiceNo</th>\n",
       "      <th>StockCode</th>\n",
       "      <th>Description</th>\n",
       "      <th>Quantity</th>\n",
       "      <th>InvoiceDate</th>\n",
       "      <th>UnitPrice</th>\n",
       "      <th>CustomerID</th>\n",
       "      <th>Country</th>\n",
       "    </tr>\n",
       "  </thead>\n",
       "  <tbody>\n",
       "    <tr>\n",
       "      <th>0</th>\n",
       "      <td>545220</td>\n",
       "      <td>21955</td>\n",
       "      <td>DOORMAT UNION JACK GUNS AND ROSES</td>\n",
       "      <td>2</td>\n",
       "      <td>3/1/2011 8:30</td>\n",
       "      <td>7.95</td>\n",
       "      <td>14620.0</td>\n",
       "      <td>United Kingdom</td>\n",
       "    </tr>\n",
       "    <tr>\n",
       "      <th>1</th>\n",
       "      <td>545220</td>\n",
       "      <td>48194</td>\n",
       "      <td>DOORMAT HEARTS</td>\n",
       "      <td>2</td>\n",
       "      <td>3/1/2011 8:30</td>\n",
       "      <td>7.95</td>\n",
       "      <td>14620.0</td>\n",
       "      <td>United Kingdom</td>\n",
       "    </tr>\n",
       "    <tr>\n",
       "      <th>2</th>\n",
       "      <td>545220</td>\n",
       "      <td>22556</td>\n",
       "      <td>PLASTERS IN TIN CIRCUS PARADE</td>\n",
       "      <td>12</td>\n",
       "      <td>3/1/2011 8:30</td>\n",
       "      <td>1.65</td>\n",
       "      <td>14620.0</td>\n",
       "      <td>United Kingdom</td>\n",
       "    </tr>\n",
       "    <tr>\n",
       "      <th>3</th>\n",
       "      <td>545220</td>\n",
       "      <td>22139</td>\n",
       "      <td>RETROSPOT TEA SET CERAMIC 11 PC</td>\n",
       "      <td>3</td>\n",
       "      <td>3/1/2011 8:30</td>\n",
       "      <td>4.95</td>\n",
       "      <td>14620.0</td>\n",
       "      <td>United Kingdom</td>\n",
       "    </tr>\n",
       "    <tr>\n",
       "      <th>4</th>\n",
       "      <td>545220</td>\n",
       "      <td>84029G</td>\n",
       "      <td>KNITTED UNION FLAG HOT WATER BOTTLE</td>\n",
       "      <td>4</td>\n",
       "      <td>3/1/2011 8:30</td>\n",
       "      <td>3.75</td>\n",
       "      <td>14620.0</td>\n",
       "      <td>United Kingdom</td>\n",
       "    </tr>\n",
       "  </tbody>\n",
       "</table>\n",
       "</div>"
      ],
      "text/plain": [
       "  InvoiceNo StockCode                          Description  Quantity  \\\n",
       "0    545220     21955    DOORMAT UNION JACK GUNS AND ROSES         2   \n",
       "1    545220     48194                       DOORMAT HEARTS         2   \n",
       "2    545220     22556       PLASTERS IN TIN CIRCUS PARADE         12   \n",
       "3    545220     22139     RETROSPOT TEA SET CERAMIC 11 PC          3   \n",
       "4    545220    84029G  KNITTED UNION FLAG HOT WATER BOTTLE         4   \n",
       "\n",
       "     InvoiceDate  UnitPrice  CustomerID         Country  \n",
       "0  3/1/2011 8:30       7.95     14620.0  United Kingdom  \n",
       "1  3/1/2011 8:30       7.95     14620.0  United Kingdom  \n",
       "2  3/1/2011 8:30       1.65     14620.0  United Kingdom  \n",
       "3  3/1/2011 8:30       4.95     14620.0  United Kingdom  \n",
       "4  3/1/2011 8:30       3.75     14620.0  United Kingdom  "
      ]
     },
     "execution_count": 2,
     "metadata": {},
     "output_type": "execute_result"
    }
   ],
   "source": [
    "data = pd.read_csv('C:\\\\Users\\\\DELL\\\\Basecamp3\\\\GLabs_Data_Science_Learn\\\\Customer_Segmentation_with_RFM analysis\\\\data\\\\commercial_data.csv')\n",
    "data.head()"
   ]
  },
  {
   "cell_type": "markdown",
   "metadata": {},
   "source": [
    "### Read the data"
   ]
  },
  {
   "cell_type": "code",
   "execution_count": 3,
   "metadata": {},
   "outputs": [
    {
     "data": {
      "text/plain": [
       "(236079, 8)"
      ]
     },
     "execution_count": 3,
     "metadata": {},
     "output_type": "execute_result"
    }
   ],
   "source": [
    "data.shape"
   ]
  },
  {
   "cell_type": "code",
   "execution_count": 4,
   "metadata": {},
   "outputs": [
    {
     "data": {
      "text/plain": [
       "InvoiceNo       object\n",
       "StockCode       object\n",
       "Description     object\n",
       "Quantity         int64\n",
       "InvoiceDate     object\n",
       "UnitPrice      float64\n",
       "CustomerID     float64\n",
       "Country         object\n",
       "dtype: object"
      ]
     },
     "execution_count": 4,
     "metadata": {},
     "output_type": "execute_result"
    }
   ],
   "source": [
    "data.dtypes"
   ]
  },
  {
   "cell_type": "code",
   "execution_count": 5,
   "metadata": {},
   "outputs": [
    {
     "data": {
      "text/plain": [
       "True"
      ]
     },
     "execution_count": 5,
     "metadata": {},
     "output_type": "execute_result"
    }
   ],
   "source": [
    "'231324'.isdigit()"
   ]
  },
  {
   "cell_type": "code",
   "execution_count": null,
   "metadata": {},
   "outputs": [],
   "source": []
  },
  {
   "cell_type": "code",
   "execution_count": 6,
   "metadata": {},
   "outputs": [
    {
     "data": {
      "text/plain": [
       "['A563185', 'A563186', 'A563187']"
      ]
     },
     "execution_count": 6,
     "metadata": {},
     "output_type": "execute_result"
    }
   ],
   "source": [
    "[val for val in data['InvoiceNo'].values if not str(val).isdigit()]"
   ]
  },
  {
   "cell_type": "code",
   "execution_count": 7,
   "metadata": {},
   "outputs": [
    {
     "data": {
      "text/plain": [
       "InvoiceNo          0\n",
       "StockCode          0\n",
       "Description      350\n",
       "Quantity           0\n",
       "InvoiceDate        0\n",
       "UnitPrice          0\n",
       "CustomerID     59942\n",
       "Country            0\n",
       "dtype: int64"
      ]
     },
     "execution_count": 7,
     "metadata": {},
     "output_type": "execute_result"
    }
   ],
   "source": [
    "data.isnull().sum()"
   ]
  },
  {
   "cell_type": "code",
   "execution_count": 8,
   "metadata": {},
   "outputs": [
    {
     "data": {
      "text/html": [
       "<div>\n",
       "<style scoped>\n",
       "    .dataframe tbody tr th:only-of-type {\n",
       "        vertical-align: middle;\n",
       "    }\n",
       "\n",
       "    .dataframe tbody tr th {\n",
       "        vertical-align: top;\n",
       "    }\n",
       "\n",
       "    .dataframe thead th {\n",
       "        text-align: right;\n",
       "    }\n",
       "</style>\n",
       "<table border=\"1\" class=\"dataframe\">\n",
       "  <thead>\n",
       "    <tr style=\"text-align: right;\">\n",
       "      <th></th>\n",
       "      <th>InvoiceNo</th>\n",
       "      <th>StockCode</th>\n",
       "      <th>Description</th>\n",
       "      <th>Quantity</th>\n",
       "      <th>InvoiceDate</th>\n",
       "      <th>UnitPrice</th>\n",
       "      <th>CustomerID</th>\n",
       "      <th>Country</th>\n",
       "    </tr>\n",
       "  </thead>\n",
       "  <tbody>\n",
       "    <tr>\n",
       "      <th>73</th>\n",
       "      <td>545230</td>\n",
       "      <td>20960</td>\n",
       "      <td>WATERMELON BATH SPONGE</td>\n",
       "      <td>1</td>\n",
       "      <td>3/1/2011 9:55</td>\n",
       "      <td>2.46</td>\n",
       "      <td>NaN</td>\n",
       "      <td>United Kingdom</td>\n",
       "    </tr>\n",
       "    <tr>\n",
       "      <th>74</th>\n",
       "      <td>545230</td>\n",
       "      <td>21082</td>\n",
       "      <td>SET/20 FRUIT SALAD PAPER NAPKINS</td>\n",
       "      <td>1</td>\n",
       "      <td>3/1/2011 9:55</td>\n",
       "      <td>1.63</td>\n",
       "      <td>NaN</td>\n",
       "      <td>United Kingdom</td>\n",
       "    </tr>\n",
       "    <tr>\n",
       "      <th>75</th>\n",
       "      <td>545230</td>\n",
       "      <td>21488</td>\n",
       "      <td>RED WHITE SCARF  HOT WATER BOTTLE</td>\n",
       "      <td>1</td>\n",
       "      <td>3/1/2011 9:55</td>\n",
       "      <td>8.29</td>\n",
       "      <td>NaN</td>\n",
       "      <td>United Kingdom</td>\n",
       "    </tr>\n",
       "    <tr>\n",
       "      <th>76</th>\n",
       "      <td>545230</td>\n",
       "      <td>35970</td>\n",
       "      <td>ZINC FOLKART SLEIGH BELLS</td>\n",
       "      <td>1</td>\n",
       "      <td>3/1/2011 9:55</td>\n",
       "      <td>4.13</td>\n",
       "      <td>NaN</td>\n",
       "      <td>United Kingdom</td>\n",
       "    </tr>\n",
       "    <tr>\n",
       "      <th>77</th>\n",
       "      <td>545230</td>\n",
       "      <td>82583</td>\n",
       "      <td>HOT BATHS METAL SIGN</td>\n",
       "      <td>1</td>\n",
       "      <td>3/1/2011 9:55</td>\n",
       "      <td>4.13</td>\n",
       "      <td>NaN</td>\n",
       "      <td>United Kingdom</td>\n",
       "    </tr>\n",
       "    <tr>\n",
       "      <th>...</th>\n",
       "      <td>...</td>\n",
       "      <td>...</td>\n",
       "      <td>...</td>\n",
       "      <td>...</td>\n",
       "      <td>...</td>\n",
       "      <td>...</td>\n",
       "      <td>...</td>\n",
       "      <td>...</td>\n",
       "    </tr>\n",
       "    <tr>\n",
       "      <th>236074</th>\n",
       "      <td>569202</td>\n",
       "      <td>22486</td>\n",
       "      <td>PLASMATRONIC LAMP</td>\n",
       "      <td>1</td>\n",
       "      <td>9/30/2011 17:22</td>\n",
       "      <td>8.29</td>\n",
       "      <td>NaN</td>\n",
       "      <td>United Kingdom</td>\n",
       "    </tr>\n",
       "    <tr>\n",
       "      <th>236075</th>\n",
       "      <td>569202</td>\n",
       "      <td>22495</td>\n",
       "      <td>SET OF 2 ROUND TINS CAMEMBERT</td>\n",
       "      <td>1</td>\n",
       "      <td>9/30/2011 17:22</td>\n",
       "      <td>5.79</td>\n",
       "      <td>NaN</td>\n",
       "      <td>United Kingdom</td>\n",
       "    </tr>\n",
       "    <tr>\n",
       "      <th>236076</th>\n",
       "      <td>569202</td>\n",
       "      <td>22539</td>\n",
       "      <td>MINI JIGSAW DOLLY GIRL</td>\n",
       "      <td>2</td>\n",
       "      <td>9/30/2011 17:22</td>\n",
       "      <td>0.83</td>\n",
       "      <td>NaN</td>\n",
       "      <td>United Kingdom</td>\n",
       "    </tr>\n",
       "    <tr>\n",
       "      <th>236077</th>\n",
       "      <td>569202</td>\n",
       "      <td>22540</td>\n",
       "      <td>MINI JIGSAW CIRCUS PARADE</td>\n",
       "      <td>2</td>\n",
       "      <td>9/30/2011 17:22</td>\n",
       "      <td>0.83</td>\n",
       "      <td>NaN</td>\n",
       "      <td>United Kingdom</td>\n",
       "    </tr>\n",
       "    <tr>\n",
       "      <th>236078</th>\n",
       "      <td>569202</td>\n",
       "      <td>22805</td>\n",
       "      <td>BLUE DRAWER KNOB ACRYLIC EDWARDIAN</td>\n",
       "      <td>10</td>\n",
       "      <td>9/30/2011 17:22</td>\n",
       "      <td>1.25</td>\n",
       "      <td>NaN</td>\n",
       "      <td>United Kingdom</td>\n",
       "    </tr>\n",
       "  </tbody>\n",
       "</table>\n",
       "<p>59942 rows × 8 columns</p>\n",
       "</div>"
      ],
      "text/plain": [
       "       InvoiceNo StockCode                         Description  Quantity  \\\n",
       "73        545230     20960              WATERMELON BATH SPONGE         1   \n",
       "74        545230     21082   SET/20 FRUIT SALAD PAPER NAPKINS          1   \n",
       "75        545230     21488   RED WHITE SCARF  HOT WATER BOTTLE         1   \n",
       "76        545230     35970           ZINC FOLKART SLEIGH BELLS         1   \n",
       "77        545230     82583                HOT BATHS METAL SIGN         1   \n",
       "...          ...       ...                                 ...       ...   \n",
       "236074    569202     22486                   PLASMATRONIC LAMP         1   \n",
       "236075    569202     22495      SET OF 2 ROUND TINS CAMEMBERT          1   \n",
       "236076    569202     22539              MINI JIGSAW DOLLY GIRL         2   \n",
       "236077    569202     22540          MINI JIGSAW CIRCUS PARADE          2   \n",
       "236078    569202     22805  BLUE DRAWER KNOB ACRYLIC EDWARDIAN        10   \n",
       "\n",
       "            InvoiceDate  UnitPrice  CustomerID         Country  \n",
       "73        3/1/2011 9:55       2.46         NaN  United Kingdom  \n",
       "74        3/1/2011 9:55       1.63         NaN  United Kingdom  \n",
       "75        3/1/2011 9:55       8.29         NaN  United Kingdom  \n",
       "76        3/1/2011 9:55       4.13         NaN  United Kingdom  \n",
       "77        3/1/2011 9:55       4.13         NaN  United Kingdom  \n",
       "...                 ...        ...         ...             ...  \n",
       "236074  9/30/2011 17:22       8.29         NaN  United Kingdom  \n",
       "236075  9/30/2011 17:22       5.79         NaN  United Kingdom  \n",
       "236076  9/30/2011 17:22       0.83         NaN  United Kingdom  \n",
       "236077  9/30/2011 17:22       0.83         NaN  United Kingdom  \n",
       "236078  9/30/2011 17:22       1.25         NaN  United Kingdom  \n",
       "\n",
       "[59942 rows x 8 columns]"
      ]
     },
     "execution_count": 8,
     "metadata": {},
     "output_type": "execute_result"
    }
   ],
   "source": [
    "data[data['CustomerID'].isnull()]"
   ]
  },
  {
   "cell_type": "code",
   "execution_count": 9,
   "metadata": {},
   "outputs": [
    {
     "data": {
      "text/plain": [
       "Index(['InvoiceNo', 'StockCode', 'Description', 'Quantity', 'InvoiceDate',\n",
       "       'UnitPrice', 'CustomerID', 'Country'],\n",
       "      dtype='object')"
      ]
     },
     "execution_count": 9,
     "metadata": {},
     "output_type": "execute_result"
    }
   ],
   "source": [
    "data.columns"
   ]
  },
  {
   "cell_type": "code",
   "execution_count": 10,
   "metadata": {},
   "outputs": [
    {
     "data": {
      "text/plain": [
       "[InvoiceNo\n",
       " 545220     {14620.0}\n",
       " 545221     {14740.0}\n",
       " 545222     {13880.0}\n",
       " 545223     {16462.0}\n",
       " 545224     {17068.0}\n",
       "              ...    \n",
       " 565577     {14177.0}\n",
       " 565579     {18283.0}\n",
       " A563185        {nan}\n",
       " A563186        {nan}\n",
       " A563187        {nan}\n",
       " Name: CustomerID, Length: 9974, dtype: object]"
      ]
     },
     "execution_count": 10,
     "metadata": {},
     "output_type": "execute_result"
    }
   ],
   "source": [
    "[data.groupby('InvoiceNo')['CustomerID'].apply(set)]"
   ]
  },
  {
   "cell_type": "markdown",
   "metadata": {},
   "source": [
    "## Fill null customer id with Guest"
   ]
  },
  {
   "cell_type": "code",
   "execution_count": 11,
   "metadata": {},
   "outputs": [],
   "source": [
    "data['CustomerID'].fillna('Guest', inplace=True)"
   ]
  },
  {
   "cell_type": "code",
   "execution_count": 12,
   "metadata": {},
   "outputs": [
    {
     "data": {
      "text/plain": [
       "InvoiceNo        0\n",
       "StockCode        0\n",
       "Description    350\n",
       "Quantity         0\n",
       "InvoiceDate      0\n",
       "UnitPrice        0\n",
       "CustomerID       0\n",
       "Country          0\n",
       "dtype: int64"
      ]
     },
     "execution_count": 12,
     "metadata": {},
     "output_type": "execute_result"
    }
   ],
   "source": [
    "data.isnull().sum()"
   ]
  },
  {
   "cell_type": "code",
   "execution_count": 13,
   "metadata": {},
   "outputs": [
    {
     "data": {
      "text/html": [
       "<div>\n",
       "<style scoped>\n",
       "    .dataframe tbody tr th:only-of-type {\n",
       "        vertical-align: middle;\n",
       "    }\n",
       "\n",
       "    .dataframe tbody tr th {\n",
       "        vertical-align: top;\n",
       "    }\n",
       "\n",
       "    .dataframe thead th {\n",
       "        text-align: right;\n",
       "    }\n",
       "</style>\n",
       "<table border=\"1\" class=\"dataframe\">\n",
       "  <thead>\n",
       "    <tr style=\"text-align: right;\">\n",
       "      <th></th>\n",
       "      <th>InvoiceNo</th>\n",
       "      <th>StockCode</th>\n",
       "      <th>Description</th>\n",
       "      <th>Quantity</th>\n",
       "      <th>InvoiceDate</th>\n",
       "      <th>UnitPrice</th>\n",
       "      <th>CustomerID</th>\n",
       "      <th>Country</th>\n",
       "    </tr>\n",
       "  </thead>\n",
       "  <tbody>\n",
       "    <tr>\n",
       "      <th>2666</th>\n",
       "      <td>545551</td>\n",
       "      <td>15058A</td>\n",
       "      <td>NaN</td>\n",
       "      <td>20</td>\n",
       "      <td>3/3/2011 15:11</td>\n",
       "      <td>0.0</td>\n",
       "      <td>Guest</td>\n",
       "      <td>United Kingdom</td>\n",
       "    </tr>\n",
       "    <tr>\n",
       "      <th>2667</th>\n",
       "      <td>545553</td>\n",
       "      <td>84459B</td>\n",
       "      <td>NaN</td>\n",
       "      <td>16</td>\n",
       "      <td>3/3/2011 15:12</td>\n",
       "      <td>0.0</td>\n",
       "      <td>Guest</td>\n",
       "      <td>United Kingdom</td>\n",
       "    </tr>\n",
       "    <tr>\n",
       "      <th>3497</th>\n",
       "      <td>545651</td>\n",
       "      <td>21973</td>\n",
       "      <td>NaN</td>\n",
       "      <td>140</td>\n",
       "      <td>3/4/2011 13:14</td>\n",
       "      <td>0.0</td>\n",
       "      <td>Guest</td>\n",
       "      <td>United Kingdom</td>\n",
       "    </tr>\n",
       "    <tr>\n",
       "      <th>3820</th>\n",
       "      <td>545666</td>\n",
       "      <td>37468</td>\n",
       "      <td>NaN</td>\n",
       "      <td>67</td>\n",
       "      <td>3/4/2011 15:33</td>\n",
       "      <td>0.0</td>\n",
       "      <td>Guest</td>\n",
       "      <td>United Kingdom</td>\n",
       "    </tr>\n",
       "    <tr>\n",
       "      <th>8166</th>\n",
       "      <td>546026</td>\n",
       "      <td>90200C</td>\n",
       "      <td>NaN</td>\n",
       "      <td>4</td>\n",
       "      <td>3/8/2011 17:43</td>\n",
       "      <td>0.0</td>\n",
       "      <td>Guest</td>\n",
       "      <td>United Kingdom</td>\n",
       "    </tr>\n",
       "    <tr>\n",
       "      <th>...</th>\n",
       "      <td>...</td>\n",
       "      <td>...</td>\n",
       "      <td>...</td>\n",
       "      <td>...</td>\n",
       "      <td>...</td>\n",
       "      <td>...</td>\n",
       "      <td>...</td>\n",
       "      <td>...</td>\n",
       "    </tr>\n",
       "    <tr>\n",
       "      <th>227681</th>\n",
       "      <td>568365</td>\n",
       "      <td>84663A</td>\n",
       "      <td>NaN</td>\n",
       "      <td>30</td>\n",
       "      <td>9/26/2011 15:45</td>\n",
       "      <td>0.0</td>\n",
       "      <td>Guest</td>\n",
       "      <td>United Kingdom</td>\n",
       "    </tr>\n",
       "    <tr>\n",
       "      <th>229074</th>\n",
       "      <td>568544</td>\n",
       "      <td>84921</td>\n",
       "      <td>NaN</td>\n",
       "      <td>5</td>\n",
       "      <td>9/27/2011 14:33</td>\n",
       "      <td>0.0</td>\n",
       "      <td>Guest</td>\n",
       "      <td>United Kingdom</td>\n",
       "    </tr>\n",
       "    <tr>\n",
       "      <th>229095</th>\n",
       "      <td>568548</td>\n",
       "      <td>21830</td>\n",
       "      <td>NaN</td>\n",
       "      <td>240</td>\n",
       "      <td>9/27/2011 14:40</td>\n",
       "      <td>0.0</td>\n",
       "      <td>Guest</td>\n",
       "      <td>United Kingdom</td>\n",
       "    </tr>\n",
       "    <tr>\n",
       "      <th>234919</th>\n",
       "      <td>569083</td>\n",
       "      <td>23084</td>\n",
       "      <td>NaN</td>\n",
       "      <td>3</td>\n",
       "      <td>9/30/2011 11:56</td>\n",
       "      <td>0.0</td>\n",
       "      <td>Guest</td>\n",
       "      <td>United Kingdom</td>\n",
       "    </tr>\n",
       "    <tr>\n",
       "      <th>235447</th>\n",
       "      <td>569135</td>\n",
       "      <td>21349</td>\n",
       "      <td>NaN</td>\n",
       "      <td>5</td>\n",
       "      <td>9/30/2011 14:20</td>\n",
       "      <td>0.0</td>\n",
       "      <td>Guest</td>\n",
       "      <td>United Kingdom</td>\n",
       "    </tr>\n",
       "  </tbody>\n",
       "</table>\n",
       "<p>350 rows × 8 columns</p>\n",
       "</div>"
      ],
      "text/plain": [
       "       InvoiceNo StockCode Description  Quantity      InvoiceDate  UnitPrice  \\\n",
       "2666      545551    15058A         NaN        20   3/3/2011 15:11        0.0   \n",
       "2667      545553    84459B         NaN        16   3/3/2011 15:12        0.0   \n",
       "3497      545651     21973         NaN       140   3/4/2011 13:14        0.0   \n",
       "3820      545666     37468         NaN        67   3/4/2011 15:33        0.0   \n",
       "8166      546026    90200C         NaN         4   3/8/2011 17:43        0.0   \n",
       "...          ...       ...         ...       ...              ...        ...   \n",
       "227681    568365    84663A         NaN        30  9/26/2011 15:45        0.0   \n",
       "229074    568544     84921         NaN         5  9/27/2011 14:33        0.0   \n",
       "229095    568548     21830         NaN       240  9/27/2011 14:40        0.0   \n",
       "234919    569083     23084         NaN         3  9/30/2011 11:56        0.0   \n",
       "235447    569135     21349         NaN         5  9/30/2011 14:20        0.0   \n",
       "\n",
       "       CustomerID         Country  \n",
       "2666        Guest  United Kingdom  \n",
       "2667        Guest  United Kingdom  \n",
       "3497        Guest  United Kingdom  \n",
       "3820        Guest  United Kingdom  \n",
       "8166        Guest  United Kingdom  \n",
       "...           ...             ...  \n",
       "227681      Guest  United Kingdom  \n",
       "229074      Guest  United Kingdom  \n",
       "229095      Guest  United Kingdom  \n",
       "234919      Guest  United Kingdom  \n",
       "235447      Guest  United Kingdom  \n",
       "\n",
       "[350 rows x 8 columns]"
      ]
     },
     "execution_count": 13,
     "metadata": {},
     "output_type": "execute_result"
    }
   ],
   "source": [
    "data[data['Description'].isnull()]"
   ]
  },
  {
   "cell_type": "code",
   "execution_count": 14,
   "metadata": {},
   "outputs": [
    {
     "data": {
      "text/plain": [
       "[StockCode\n",
       " 10002                          {INFLATABLE POLITICAL GLOBE , nan}\n",
       " 10080                             {GROOVY CACTUS INFLATABLE, nan}\n",
       " 10120                                              {DOGGY RUBBER}\n",
       " 10123C                                    {HEARTS WRAPPING TAPE }\n",
       " 10124A                              {SPOTS ON RED BOOKCOVER TAPE}\n",
       "                                       ...                        \n",
       " gift_0001_10            {nan, Dotcomgiftshop Gift Voucher £10.00}\n",
       " gift_0001_20    {to push order througha s stock was , Dotcomgi...\n",
       " gift_0001_30            {nan, Dotcomgiftshop Gift Voucher £30.00}\n",
       " gift_0001_40                 {Dotcomgiftshop Gift Voucher £40.00}\n",
       " gift_0001_50                 {Dotcomgiftshop Gift Voucher £50.00}\n",
       " Name: Description, Length: 3542, dtype: object]"
      ]
     },
     "execution_count": 14,
     "metadata": {},
     "output_type": "execute_result"
    }
   ],
   "source": [
    "[data.groupby('StockCode')['Description'].apply(set)]"
   ]
  },
  {
   "cell_type": "code",
   "execution_count": 15,
   "metadata": {},
   "outputs": [
    {
     "ename": "SyntaxError",
     "evalue": "unexpected EOF while parsing (<ipython-input-15-bfb3cbe4462d>, line 1)",
     "output_type": "error",
     "traceback": [
      "\u001b[1;36m  File \u001b[1;32m\"<ipython-input-15-bfb3cbe4462d>\"\u001b[1;36m, line \u001b[1;32m1\u001b[0m\n\u001b[1;33m    stock_dict = (data.groupby('StockCode')['Description'].apply(list).apply(lambda x: set([i for i in x if isinstance(i, str)]).to_dict())\u001b[0m\n\u001b[1;37m                                                                                                                                           ^\u001b[0m\n\u001b[1;31mSyntaxError\u001b[0m\u001b[1;31m:\u001b[0m unexpected EOF while parsing\n"
     ]
    }
   ],
   "source": [
    "stock_dict = (data.groupby('StockCode')['Description'].apply(list).apply(lambda x: set([i for i in x if isinstance(i, str)]).to_dict())"
   ]
  },
  {
   "cell_type": "code",
   "execution_count": null,
   "metadata": {},
   "outputs": [],
   "source": [
    "clean_stock_description = dict()"
   ]
  },
  {
   "cell_type": "code",
   "execution_count": null,
   "metadata": {},
   "outputs": [],
   "source": [
    "for k,v in stock_dict.items():\n",
    "    if len(v)==0:\n",
    "        clearn_stock_description[k]== 'No description'\n",
    "    else:\n",
    "        clean_stock_description[k] = list(v)[0]      "
   ]
  },
  {
   "cell_type": "code",
   "execution_count": null,
   "metadata": {},
   "outputs": [],
   "source": []
  },
  {
   "cell_type": "code",
   "execution_count": null,
   "metadata": {},
   "outputs": [],
   "source": [
    "data['Description_filled'] = data['StockCode'].map(clean_stock_description)\n",
    "data['Description'].fillna(data['Description_filled'], inplace=True)\n",
    "data.drop('Description_filled', axis=1, inplace=True)"
   ]
  },
  {
   "cell_type": "code",
   "execution_count": null,
   "metadata": {},
   "outputs": [],
   "source": [
    "data.isnull().sum()"
   ]
  },
  {
   "cell_type": "code",
   "execution_count": 16,
   "metadata": {},
   "outputs": [
    {
     "ename": "NameError",
     "evalue": "name 'clean_stock_description' is not defined",
     "output_type": "error",
     "traceback": [
      "\u001b[1;31m---------------------------------------------------------------------------\u001b[0m",
      "\u001b[1;31mNameError\u001b[0m                                 Traceback (most recent call last)",
      "\u001b[1;32m<ipython-input-16-137975de2f1a>\u001b[0m in \u001b[0;36m<module>\u001b[1;34m\u001b[0m\n\u001b[1;32m----> 1\u001b[1;33m \u001b[0mclean_stock_description\u001b[0m\u001b[1;33m\u001b[0m\u001b[1;33m\u001b[0m\u001b[0m\n\u001b[0m",
      "\u001b[1;31mNameError\u001b[0m: name 'clean_stock_description' is not defined"
     ]
    }
   ],
   "source": [
    "clean_stock_description"
   ]
  },
  {
   "cell_type": "code",
   "execution_count": 17,
   "metadata": {},
   "outputs": [
    {
     "data": {
      "text/html": [
       "<div>\n",
       "<style scoped>\n",
       "    .dataframe tbody tr th:only-of-type {\n",
       "        vertical-align: middle;\n",
       "    }\n",
       "\n",
       "    .dataframe tbody tr th {\n",
       "        vertical-align: top;\n",
       "    }\n",
       "\n",
       "    .dataframe thead th {\n",
       "        text-align: right;\n",
       "    }\n",
       "</style>\n",
       "<table border=\"1\" class=\"dataframe\">\n",
       "  <thead>\n",
       "    <tr style=\"text-align: right;\">\n",
       "      <th></th>\n",
       "      <th>InvoiceNo</th>\n",
       "      <th>StockCode</th>\n",
       "      <th>Description</th>\n",
       "      <th>Quantity</th>\n",
       "      <th>InvoiceDate</th>\n",
       "      <th>UnitPrice</th>\n",
       "      <th>CustomerID</th>\n",
       "      <th>Country</th>\n",
       "    </tr>\n",
       "  </thead>\n",
       "  <tbody>\n",
       "  </tbody>\n",
       "</table>\n",
       "</div>"
      ],
      "text/plain": [
       "Empty DataFrame\n",
       "Columns: [InvoiceNo, StockCode, Description, Quantity, InvoiceDate, UnitPrice, CustomerID, Country]\n",
       "Index: []"
      ]
     },
     "execution_count": 17,
     "metadata": {},
     "output_type": "execute_result"
    }
   ],
   "source": [
    "data[data['Description'] =='No description']"
   ]
  },
  {
   "cell_type": "code",
   "execution_count": 18,
   "metadata": {},
   "outputs": [],
   "source": [
    "guest = data[data['CustomerID']=='Guest']\n",
    "data = data[data['CustomerID'] !='Guest']"
   ]
  },
  {
   "cell_type": "code",
   "execution_count": 19,
   "metadata": {},
   "outputs": [
    {
     "data": {
      "text/html": [
       "<div>\n",
       "<style scoped>\n",
       "    .dataframe tbody tr th:only-of-type {\n",
       "        vertical-align: middle;\n",
       "    }\n",
       "\n",
       "    .dataframe tbody tr th {\n",
       "        vertical-align: top;\n",
       "    }\n",
       "\n",
       "    .dataframe thead th {\n",
       "        text-align: right;\n",
       "    }\n",
       "</style>\n",
       "<table border=\"1\" class=\"dataframe\">\n",
       "  <thead>\n",
       "    <tr style=\"text-align: right;\">\n",
       "      <th></th>\n",
       "      <th>InvoiceNo</th>\n",
       "      <th>StockCode</th>\n",
       "      <th>Description</th>\n",
       "      <th>Quantity</th>\n",
       "      <th>InvoiceDate</th>\n",
       "      <th>UnitPrice</th>\n",
       "      <th>CustomerID</th>\n",
       "      <th>Country</th>\n",
       "    </tr>\n",
       "  </thead>\n",
       "  <tbody>\n",
       "    <tr>\n",
       "      <th>73</th>\n",
       "      <td>545230</td>\n",
       "      <td>20960</td>\n",
       "      <td>WATERMELON BATH SPONGE</td>\n",
       "      <td>1</td>\n",
       "      <td>3/1/2011 9:55</td>\n",
       "      <td>2.46</td>\n",
       "      <td>Guest</td>\n",
       "      <td>United Kingdom</td>\n",
       "    </tr>\n",
       "    <tr>\n",
       "      <th>74</th>\n",
       "      <td>545230</td>\n",
       "      <td>21082</td>\n",
       "      <td>SET/20 FRUIT SALAD PAPER NAPKINS</td>\n",
       "      <td>1</td>\n",
       "      <td>3/1/2011 9:55</td>\n",
       "      <td>1.63</td>\n",
       "      <td>Guest</td>\n",
       "      <td>United Kingdom</td>\n",
       "    </tr>\n",
       "    <tr>\n",
       "      <th>75</th>\n",
       "      <td>545230</td>\n",
       "      <td>21488</td>\n",
       "      <td>RED WHITE SCARF  HOT WATER BOTTLE</td>\n",
       "      <td>1</td>\n",
       "      <td>3/1/2011 9:55</td>\n",
       "      <td>8.29</td>\n",
       "      <td>Guest</td>\n",
       "      <td>United Kingdom</td>\n",
       "    </tr>\n",
       "    <tr>\n",
       "      <th>76</th>\n",
       "      <td>545230</td>\n",
       "      <td>35970</td>\n",
       "      <td>ZINC FOLKART SLEIGH BELLS</td>\n",
       "      <td>1</td>\n",
       "      <td>3/1/2011 9:55</td>\n",
       "      <td>4.13</td>\n",
       "      <td>Guest</td>\n",
       "      <td>United Kingdom</td>\n",
       "    </tr>\n",
       "    <tr>\n",
       "      <th>77</th>\n",
       "      <td>545230</td>\n",
       "      <td>82583</td>\n",
       "      <td>HOT BATHS METAL SIGN</td>\n",
       "      <td>1</td>\n",
       "      <td>3/1/2011 9:55</td>\n",
       "      <td>4.13</td>\n",
       "      <td>Guest</td>\n",
       "      <td>United Kingdom</td>\n",
       "    </tr>\n",
       "    <tr>\n",
       "      <th>...</th>\n",
       "      <td>...</td>\n",
       "      <td>...</td>\n",
       "      <td>...</td>\n",
       "      <td>...</td>\n",
       "      <td>...</td>\n",
       "      <td>...</td>\n",
       "      <td>...</td>\n",
       "      <td>...</td>\n",
       "    </tr>\n",
       "    <tr>\n",
       "      <th>236074</th>\n",
       "      <td>569202</td>\n",
       "      <td>22486</td>\n",
       "      <td>PLASMATRONIC LAMP</td>\n",
       "      <td>1</td>\n",
       "      <td>9/30/2011 17:22</td>\n",
       "      <td>8.29</td>\n",
       "      <td>Guest</td>\n",
       "      <td>United Kingdom</td>\n",
       "    </tr>\n",
       "    <tr>\n",
       "      <th>236075</th>\n",
       "      <td>569202</td>\n",
       "      <td>22495</td>\n",
       "      <td>SET OF 2 ROUND TINS CAMEMBERT</td>\n",
       "      <td>1</td>\n",
       "      <td>9/30/2011 17:22</td>\n",
       "      <td>5.79</td>\n",
       "      <td>Guest</td>\n",
       "      <td>United Kingdom</td>\n",
       "    </tr>\n",
       "    <tr>\n",
       "      <th>236076</th>\n",
       "      <td>569202</td>\n",
       "      <td>22539</td>\n",
       "      <td>MINI JIGSAW DOLLY GIRL</td>\n",
       "      <td>2</td>\n",
       "      <td>9/30/2011 17:22</td>\n",
       "      <td>0.83</td>\n",
       "      <td>Guest</td>\n",
       "      <td>United Kingdom</td>\n",
       "    </tr>\n",
       "    <tr>\n",
       "      <th>236077</th>\n",
       "      <td>569202</td>\n",
       "      <td>22540</td>\n",
       "      <td>MINI JIGSAW CIRCUS PARADE</td>\n",
       "      <td>2</td>\n",
       "      <td>9/30/2011 17:22</td>\n",
       "      <td>0.83</td>\n",
       "      <td>Guest</td>\n",
       "      <td>United Kingdom</td>\n",
       "    </tr>\n",
       "    <tr>\n",
       "      <th>236078</th>\n",
       "      <td>569202</td>\n",
       "      <td>22805</td>\n",
       "      <td>BLUE DRAWER KNOB ACRYLIC EDWARDIAN</td>\n",
       "      <td>10</td>\n",
       "      <td>9/30/2011 17:22</td>\n",
       "      <td>1.25</td>\n",
       "      <td>Guest</td>\n",
       "      <td>United Kingdom</td>\n",
       "    </tr>\n",
       "  </tbody>\n",
       "</table>\n",
       "<p>59942 rows × 8 columns</p>\n",
       "</div>"
      ],
      "text/plain": [
       "       InvoiceNo StockCode                         Description  Quantity  \\\n",
       "73        545230     20960              WATERMELON BATH SPONGE         1   \n",
       "74        545230     21082   SET/20 FRUIT SALAD PAPER NAPKINS          1   \n",
       "75        545230     21488   RED WHITE SCARF  HOT WATER BOTTLE         1   \n",
       "76        545230     35970           ZINC FOLKART SLEIGH BELLS         1   \n",
       "77        545230     82583                HOT BATHS METAL SIGN         1   \n",
       "...          ...       ...                                 ...       ...   \n",
       "236074    569202     22486                   PLASMATRONIC LAMP         1   \n",
       "236075    569202     22495      SET OF 2 ROUND TINS CAMEMBERT          1   \n",
       "236076    569202     22539              MINI JIGSAW DOLLY GIRL         2   \n",
       "236077    569202     22540          MINI JIGSAW CIRCUS PARADE          2   \n",
       "236078    569202     22805  BLUE DRAWER KNOB ACRYLIC EDWARDIAN        10   \n",
       "\n",
       "            InvoiceDate  UnitPrice CustomerID         Country  \n",
       "73        3/1/2011 9:55       2.46      Guest  United Kingdom  \n",
       "74        3/1/2011 9:55       1.63      Guest  United Kingdom  \n",
       "75        3/1/2011 9:55       8.29      Guest  United Kingdom  \n",
       "76        3/1/2011 9:55       4.13      Guest  United Kingdom  \n",
       "77        3/1/2011 9:55       4.13      Guest  United Kingdom  \n",
       "...                 ...        ...        ...             ...  \n",
       "236074  9/30/2011 17:22       8.29      Guest  United Kingdom  \n",
       "236075  9/30/2011 17:22       5.79      Guest  United Kingdom  \n",
       "236076  9/30/2011 17:22       0.83      Guest  United Kingdom  \n",
       "236077  9/30/2011 17:22       0.83      Guest  United Kingdom  \n",
       "236078  9/30/2011 17:22       1.25      Guest  United Kingdom  \n",
       "\n",
       "[59942 rows x 8 columns]"
      ]
     },
     "execution_count": 19,
     "metadata": {},
     "output_type": "execute_result"
    }
   ],
   "source": [
    "guest"
   ]
  },
  {
   "cell_type": "code",
   "execution_count": null,
   "metadata": {},
   "outputs": [],
   "source": []
  },
  {
   "cell_type": "code",
   "execution_count": null,
   "metadata": {},
   "outputs": [],
   "source": []
  },
  {
   "cell_type": "code",
   "execution_count": null,
   "metadata": {},
   "outputs": [],
   "source": []
  },
  {
   "cell_type": "code",
   "execution_count": null,
   "metadata": {},
   "outputs": [],
   "source": []
  },
  {
   "cell_type": "code",
   "execution_count": null,
   "metadata": {},
   "outputs": [],
   "source": []
  },
  {
   "cell_type": "markdown",
   "metadata": {},
   "source": [
    "### Remove rows where customerID are NA"
   ]
  },
  {
   "cell_type": "code",
   "execution_count": null,
   "metadata": {},
   "outputs": [],
   "source": []
  },
  {
   "cell_type": "markdown",
   "metadata": {},
   "source": [
    "## RFM Analysis\n",
    "RFM (Recency, Frequency, Monetary) analysis is a customer segmentation technique that uses past purchase behavior to divide customers into groups. RFM helps divide customers into various categories or clusters to identify customers who are more likely to respond to promotions and also for future personalization services.\n",
    "\n",
    "**RECENCY (R)**: Days since last purchase\n",
    "\n",
    "**FREQUENCY (F):** Total number of purchases\n",
    "\n",
    "**MONETARY VALUE (M):** Total money this customer spent.\n",
    "\n",
    "We will create those 3 customer attributes for each customer."
   ]
  },
  {
   "cell_type": "markdown",
   "metadata": {},
   "source": [
    "## Recency\n",
    "To calculate recency, we need to choose a date point from which we evaluate how many days ago was the customer's last purchase."
   ]
  },
  {
   "cell_type": "markdown",
   "metadata": {},
   "source": [
    "### Find out the latest date in the data to use it as for reference"
   ]
  },
  {
   "cell_type": "code",
   "execution_count": 20,
   "metadata": {},
   "outputs": [
    {
     "data": {
      "text/html": [
       "<div>\n",
       "<style scoped>\n",
       "    .dataframe tbody tr th:only-of-type {\n",
       "        vertical-align: middle;\n",
       "    }\n",
       "\n",
       "    .dataframe tbody tr th {\n",
       "        vertical-align: top;\n",
       "    }\n",
       "\n",
       "    .dataframe thead th {\n",
       "        text-align: right;\n",
       "    }\n",
       "</style>\n",
       "<table border=\"1\" class=\"dataframe\">\n",
       "  <thead>\n",
       "    <tr style=\"text-align: right;\">\n",
       "      <th></th>\n",
       "      <th>InvoiceNo</th>\n",
       "      <th>StockCode</th>\n",
       "      <th>Description</th>\n",
       "      <th>Quantity</th>\n",
       "      <th>InvoiceDate</th>\n",
       "      <th>UnitPrice</th>\n",
       "      <th>CustomerID</th>\n",
       "      <th>Country</th>\n",
       "    </tr>\n",
       "  </thead>\n",
       "  <tbody>\n",
       "    <tr>\n",
       "      <th>0</th>\n",
       "      <td>545220</td>\n",
       "      <td>21955</td>\n",
       "      <td>DOORMAT UNION JACK GUNS AND ROSES</td>\n",
       "      <td>2</td>\n",
       "      <td>3/1/2011 8:30</td>\n",
       "      <td>7.95</td>\n",
       "      <td>14620</td>\n",
       "      <td>United Kingdom</td>\n",
       "    </tr>\n",
       "    <tr>\n",
       "      <th>1</th>\n",
       "      <td>545220</td>\n",
       "      <td>48194</td>\n",
       "      <td>DOORMAT HEARTS</td>\n",
       "      <td>2</td>\n",
       "      <td>3/1/2011 8:30</td>\n",
       "      <td>7.95</td>\n",
       "      <td>14620</td>\n",
       "      <td>United Kingdom</td>\n",
       "    </tr>\n",
       "    <tr>\n",
       "      <th>2</th>\n",
       "      <td>545220</td>\n",
       "      <td>22556</td>\n",
       "      <td>PLASTERS IN TIN CIRCUS PARADE</td>\n",
       "      <td>12</td>\n",
       "      <td>3/1/2011 8:30</td>\n",
       "      <td>1.65</td>\n",
       "      <td>14620</td>\n",
       "      <td>United Kingdom</td>\n",
       "    </tr>\n",
       "    <tr>\n",
       "      <th>3</th>\n",
       "      <td>545220</td>\n",
       "      <td>22139</td>\n",
       "      <td>RETROSPOT TEA SET CERAMIC 11 PC</td>\n",
       "      <td>3</td>\n",
       "      <td>3/1/2011 8:30</td>\n",
       "      <td>4.95</td>\n",
       "      <td>14620</td>\n",
       "      <td>United Kingdom</td>\n",
       "    </tr>\n",
       "    <tr>\n",
       "      <th>4</th>\n",
       "      <td>545220</td>\n",
       "      <td>84029G</td>\n",
       "      <td>KNITTED UNION FLAG HOT WATER BOTTLE</td>\n",
       "      <td>4</td>\n",
       "      <td>3/1/2011 8:30</td>\n",
       "      <td>3.75</td>\n",
       "      <td>14620</td>\n",
       "      <td>United Kingdom</td>\n",
       "    </tr>\n",
       "  </tbody>\n",
       "</table>\n",
       "</div>"
      ],
      "text/plain": [
       "  InvoiceNo StockCode                          Description  Quantity  \\\n",
       "0    545220     21955    DOORMAT UNION JACK GUNS AND ROSES         2   \n",
       "1    545220     48194                       DOORMAT HEARTS         2   \n",
       "2    545220     22556       PLASTERS IN TIN CIRCUS PARADE         12   \n",
       "3    545220     22139     RETROSPOT TEA SET CERAMIC 11 PC          3   \n",
       "4    545220    84029G  KNITTED UNION FLAG HOT WATER BOTTLE         4   \n",
       "\n",
       "     InvoiceDate  UnitPrice CustomerID         Country  \n",
       "0  3/1/2011 8:30       7.95      14620  United Kingdom  \n",
       "1  3/1/2011 8:30       7.95      14620  United Kingdom  \n",
       "2  3/1/2011 8:30       1.65      14620  United Kingdom  \n",
       "3  3/1/2011 8:30       4.95      14620  United Kingdom  \n",
       "4  3/1/2011 8:30       3.75      14620  United Kingdom  "
      ]
     },
     "execution_count": 20,
     "metadata": {},
     "output_type": "execute_result"
    }
   ],
   "source": [
    "data.head()"
   ]
  },
  {
   "cell_type": "code",
   "execution_count": 21,
   "metadata": {},
   "outputs": [
    {
     "data": {
      "text/plain": [
       "'9/9/2011 9:52'"
      ]
     },
     "execution_count": 21,
     "metadata": {},
     "output_type": "execute_result"
    }
   ],
   "source": [
    "data['InvoiceDate'].max()"
   ]
  },
  {
   "cell_type": "code",
   "execution_count": 22,
   "metadata": {},
   "outputs": [
    {
     "name": "stdout",
     "output_type": "stream",
     "text": [
      "2011-12-09\n"
     ]
    }
   ],
   "source": [
    "now = dt.date(2011,12,9)\n",
    "print(now)"
   ]
  },
  {
   "cell_type": "code",
   "execution_count": 23,
   "metadata": {},
   "outputs": [],
   "source": [
    "data['date'] = pd.DatetimeIndex(data['InvoiceDate']).date"
   ]
  },
  {
   "cell_type": "code",
   "execution_count": 25,
   "metadata": {},
   "outputs": [
    {
     "data": {
      "text/html": [
       "<div>\n",
       "<style scoped>\n",
       "    .dataframe tbody tr th:only-of-type {\n",
       "        vertical-align: middle;\n",
       "    }\n",
       "\n",
       "    .dataframe tbody tr th {\n",
       "        vertical-align: top;\n",
       "    }\n",
       "\n",
       "    .dataframe thead th {\n",
       "        text-align: right;\n",
       "    }\n",
       "</style>\n",
       "<table border=\"1\" class=\"dataframe\">\n",
       "  <thead>\n",
       "    <tr style=\"text-align: right;\">\n",
       "      <th></th>\n",
       "      <th>InvoiceNo</th>\n",
       "      <th>StockCode</th>\n",
       "      <th>Description</th>\n",
       "      <th>Quantity</th>\n",
       "      <th>InvoiceDate</th>\n",
       "      <th>UnitPrice</th>\n",
       "      <th>CustomerID</th>\n",
       "      <th>Country</th>\n",
       "      <th>date</th>\n",
       "    </tr>\n",
       "  </thead>\n",
       "  <tbody>\n",
       "    <tr>\n",
       "      <th>0</th>\n",
       "      <td>545220</td>\n",
       "      <td>21955</td>\n",
       "      <td>DOORMAT UNION JACK GUNS AND ROSES</td>\n",
       "      <td>2</td>\n",
       "      <td>3/1/2011 8:30</td>\n",
       "      <td>7.95</td>\n",
       "      <td>14620</td>\n",
       "      <td>United Kingdom</td>\n",
       "      <td>2011-03-01</td>\n",
       "    </tr>\n",
       "    <tr>\n",
       "      <th>1</th>\n",
       "      <td>545220</td>\n",
       "      <td>48194</td>\n",
       "      <td>DOORMAT HEARTS</td>\n",
       "      <td>2</td>\n",
       "      <td>3/1/2011 8:30</td>\n",
       "      <td>7.95</td>\n",
       "      <td>14620</td>\n",
       "      <td>United Kingdom</td>\n",
       "      <td>2011-03-01</td>\n",
       "    </tr>\n",
       "    <tr>\n",
       "      <th>2</th>\n",
       "      <td>545220</td>\n",
       "      <td>22556</td>\n",
       "      <td>PLASTERS IN TIN CIRCUS PARADE</td>\n",
       "      <td>12</td>\n",
       "      <td>3/1/2011 8:30</td>\n",
       "      <td>1.65</td>\n",
       "      <td>14620</td>\n",
       "      <td>United Kingdom</td>\n",
       "      <td>2011-03-01</td>\n",
       "    </tr>\n",
       "  </tbody>\n",
       "</table>\n",
       "</div>"
      ],
      "text/plain": [
       "  InvoiceNo StockCode                        Description  Quantity  \\\n",
       "0    545220     21955  DOORMAT UNION JACK GUNS AND ROSES         2   \n",
       "1    545220     48194                     DOORMAT HEARTS         2   \n",
       "2    545220     22556     PLASTERS IN TIN CIRCUS PARADE         12   \n",
       "\n",
       "     InvoiceDate  UnitPrice CustomerID         Country        date  \n",
       "0  3/1/2011 8:30       7.95      14620  United Kingdom  2011-03-01  \n",
       "1  3/1/2011 8:30       7.95      14620  United Kingdom  2011-03-01  \n",
       "2  3/1/2011 8:30       1.65      14620  United Kingdom  2011-03-01  "
      ]
     },
     "execution_count": 25,
     "metadata": {},
     "output_type": "execute_result"
    }
   ],
   "source": [
    "data.head(3)"
   ]
  },
  {
   "cell_type": "code",
   "execution_count": 35,
   "metadata": {},
   "outputs": [
    {
     "data": {
      "text/html": [
       "<div>\n",
       "<style scoped>\n",
       "    .dataframe tbody tr th:only-of-type {\n",
       "        vertical-align: middle;\n",
       "    }\n",
       "\n",
       "    .dataframe tbody tr th {\n",
       "        vertical-align: top;\n",
       "    }\n",
       "\n",
       "    .dataframe thead th {\n",
       "        text-align: right;\n",
       "    }\n",
       "</style>\n",
       "<table border=\"1\" class=\"dataframe\">\n",
       "  <thead>\n",
       "    <tr style=\"text-align: right;\">\n",
       "      <th></th>\n",
       "      <th>CustomerID</th>\n",
       "      <th>LastPurcDate</th>\n",
       "    </tr>\n",
       "  </thead>\n",
       "  <tbody>\n",
       "    <tr>\n",
       "      <th>0</th>\n",
       "      <td>12747.0</td>\n",
       "      <td>2011-08-22</td>\n",
       "    </tr>\n",
       "    <tr>\n",
       "      <th>1</th>\n",
       "      <td>12748.0</td>\n",
       "      <td>2011-09-30</td>\n",
       "    </tr>\n",
       "    <tr>\n",
       "      <th>2</th>\n",
       "      <td>12749.0</td>\n",
       "      <td>2011-08-01</td>\n",
       "    </tr>\n",
       "    <tr>\n",
       "      <th>3</th>\n",
       "      <td>12820.0</td>\n",
       "      <td>2011-09-26</td>\n",
       "    </tr>\n",
       "    <tr>\n",
       "      <th>4</th>\n",
       "      <td>12821.0</td>\n",
       "      <td>2011-05-09</td>\n",
       "    </tr>\n",
       "  </tbody>\n",
       "</table>\n",
       "</div>"
      ],
      "text/plain": [
       "   CustomerID LastPurcDate\n",
       "0     12747.0   2011-08-22\n",
       "1     12748.0   2011-09-30\n",
       "2     12749.0   2011-08-01\n",
       "3     12820.0   2011-09-26\n",
       "4     12821.0   2011-05-09"
      ]
     },
     "execution_count": 35,
     "metadata": {},
     "output_type": "execute_result"
    }
   ],
   "source": [
    "recency_df = data.groupby('CustomerID')['date'].max().reset_index()\n",
    "recency_df.columns = ['CustomerID', 'LastPurcDate']\n",
    "recency_df.head()"
   ]
  },
  {
   "cell_type": "raw",
   "metadata": {},
   "source": [
    "recency_df['Recency']= recency_df['LastPurchaseDate'].apply(lambda x: (now-x).days)"
   ]
  },
  {
   "cell_type": "code",
   "execution_count": 40,
   "metadata": {},
   "outputs": [
    {
     "data": {
      "text/html": [
       "<div>\n",
       "<style scoped>\n",
       "    .dataframe tbody tr th:only-of-type {\n",
       "        vertical-align: middle;\n",
       "    }\n",
       "\n",
       "    .dataframe tbody tr th {\n",
       "        vertical-align: top;\n",
       "    }\n",
       "\n",
       "    .dataframe thead th {\n",
       "        text-align: right;\n",
       "    }\n",
       "</style>\n",
       "<table border=\"1\" class=\"dataframe\">\n",
       "  <thead>\n",
       "    <tr style=\"text-align: right;\">\n",
       "      <th></th>\n",
       "      <th>CustomerID</th>\n",
       "      <th>LastPurcDate</th>\n",
       "    </tr>\n",
       "  </thead>\n",
       "  <tbody>\n",
       "    <tr>\n",
       "      <th>0</th>\n",
       "      <td>12747.0</td>\n",
       "      <td>2011-08-22</td>\n",
       "    </tr>\n",
       "    <tr>\n",
       "      <th>1</th>\n",
       "      <td>12748.0</td>\n",
       "      <td>2011-09-30</td>\n",
       "    </tr>\n",
       "    <tr>\n",
       "      <th>2</th>\n",
       "      <td>12749.0</td>\n",
       "      <td>2011-08-01</td>\n",
       "    </tr>\n",
       "    <tr>\n",
       "      <th>3</th>\n",
       "      <td>12820.0</td>\n",
       "      <td>2011-09-26</td>\n",
       "    </tr>\n",
       "    <tr>\n",
       "      <th>4</th>\n",
       "      <td>12821.0</td>\n",
       "      <td>2011-05-09</td>\n",
       "    </tr>\n",
       "  </tbody>\n",
       "</table>\n",
       "</div>"
      ],
      "text/plain": [
       "   CustomerID LastPurcDate\n",
       "0     12747.0   2011-08-22\n",
       "1     12748.0   2011-09-30\n",
       "2     12749.0   2011-08-01\n",
       "3     12820.0   2011-09-26\n",
       "4     12821.0   2011-05-09"
      ]
     },
     "execution_count": 40,
     "metadata": {},
     "output_type": "execute_result"
    }
   ],
   "source": [
    "recency_df.head()"
   ]
  },
  {
   "cell_type": "code",
   "execution_count": 41,
   "metadata": {},
   "outputs": [
    {
     "data": {
      "text/html": [
       "<div>\n",
       "<style scoped>\n",
       "    .dataframe tbody tr th:only-of-type {\n",
       "        vertical-align: middle;\n",
       "    }\n",
       "\n",
       "    .dataframe tbody tr th {\n",
       "        vertical-align: top;\n",
       "    }\n",
       "\n",
       "    .dataframe thead th {\n",
       "        text-align: right;\n",
       "    }\n",
       "</style>\n",
       "<table border=\"1\" class=\"dataframe\">\n",
       "  <thead>\n",
       "    <tr style=\"text-align: right;\">\n",
       "      <th></th>\n",
       "      <th>InvoiceNo</th>\n",
       "      <th>StockCode</th>\n",
       "      <th>Description</th>\n",
       "      <th>Quantity</th>\n",
       "      <th>InvoiceDate</th>\n",
       "      <th>UnitPrice</th>\n",
       "      <th>CustomerID</th>\n",
       "      <th>Country</th>\n",
       "      <th>date</th>\n",
       "    </tr>\n",
       "  </thead>\n",
       "  <tbody>\n",
       "    <tr>\n",
       "      <th>0</th>\n",
       "      <td>545220</td>\n",
       "      <td>21955</td>\n",
       "      <td>DOORMAT UNION JACK GUNS AND ROSES</td>\n",
       "      <td>2</td>\n",
       "      <td>3/1/2011 8:30</td>\n",
       "      <td>7.95</td>\n",
       "      <td>14620</td>\n",
       "      <td>United Kingdom</td>\n",
       "      <td>2011-03-01</td>\n",
       "    </tr>\n",
       "    <tr>\n",
       "      <th>1</th>\n",
       "      <td>545220</td>\n",
       "      <td>48194</td>\n",
       "      <td>DOORMAT HEARTS</td>\n",
       "      <td>2</td>\n",
       "      <td>3/1/2011 8:30</td>\n",
       "      <td>7.95</td>\n",
       "      <td>14620</td>\n",
       "      <td>United Kingdom</td>\n",
       "      <td>2011-03-01</td>\n",
       "    </tr>\n",
       "    <tr>\n",
       "      <th>2</th>\n",
       "      <td>545220</td>\n",
       "      <td>22556</td>\n",
       "      <td>PLASTERS IN TIN CIRCUS PARADE</td>\n",
       "      <td>12</td>\n",
       "      <td>3/1/2011 8:30</td>\n",
       "      <td>1.65</td>\n",
       "      <td>14620</td>\n",
       "      <td>United Kingdom</td>\n",
       "      <td>2011-03-01</td>\n",
       "    </tr>\n",
       "    <tr>\n",
       "      <th>3</th>\n",
       "      <td>545220</td>\n",
       "      <td>22139</td>\n",
       "      <td>RETROSPOT TEA SET CERAMIC 11 PC</td>\n",
       "      <td>3</td>\n",
       "      <td>3/1/2011 8:30</td>\n",
       "      <td>4.95</td>\n",
       "      <td>14620</td>\n",
       "      <td>United Kingdom</td>\n",
       "      <td>2011-03-01</td>\n",
       "    </tr>\n",
       "    <tr>\n",
       "      <th>4</th>\n",
       "      <td>545220</td>\n",
       "      <td>84029G</td>\n",
       "      <td>KNITTED UNION FLAG HOT WATER BOTTLE</td>\n",
       "      <td>4</td>\n",
       "      <td>3/1/2011 8:30</td>\n",
       "      <td>3.75</td>\n",
       "      <td>14620</td>\n",
       "      <td>United Kingdom</td>\n",
       "      <td>2011-03-01</td>\n",
       "    </tr>\n",
       "  </tbody>\n",
       "</table>\n",
       "</div>"
      ],
      "text/plain": [
       "  InvoiceNo StockCode                          Description  Quantity  \\\n",
       "0    545220     21955    DOORMAT UNION JACK GUNS AND ROSES         2   \n",
       "1    545220     48194                       DOORMAT HEARTS         2   \n",
       "2    545220     22556       PLASTERS IN TIN CIRCUS PARADE         12   \n",
       "3    545220     22139     RETROSPOT TEA SET CERAMIC 11 PC          3   \n",
       "4    545220    84029G  KNITTED UNION FLAG HOT WATER BOTTLE         4   \n",
       "\n",
       "     InvoiceDate  UnitPrice CustomerID         Country        date  \n",
       "0  3/1/2011 8:30       7.95      14620  United Kingdom  2011-03-01  \n",
       "1  3/1/2011 8:30       7.95      14620  United Kingdom  2011-03-01  \n",
       "2  3/1/2011 8:30       1.65      14620  United Kingdom  2011-03-01  \n",
       "3  3/1/2011 8:30       4.95      14620  United Kingdom  2011-03-01  \n",
       "4  3/1/2011 8:30       3.75      14620  United Kingdom  2011-03-01  "
      ]
     },
     "execution_count": 41,
     "metadata": {},
     "output_type": "execute_result"
    }
   ],
   "source": [
    "data.head()"
   ]
  },
  {
   "cell_type": "markdown",
   "metadata": {},
   "source": [
    "### Frequency of purchases"
   ]
  },
  {
   "cell_type": "code",
   "execution_count": 55,
   "metadata": {},
   "outputs": [
    {
     "data": {
      "text/html": [
       "<div>\n",
       "<style scoped>\n",
       "    .dataframe tbody tr th:only-of-type {\n",
       "        vertical-align: middle;\n",
       "    }\n",
       "\n",
       "    .dataframe tbody tr th {\n",
       "        vertical-align: top;\n",
       "    }\n",
       "\n",
       "    .dataframe thead th {\n",
       "        text-align: right;\n",
       "    }\n",
       "</style>\n",
       "<table border=\"1\" class=\"dataframe\">\n",
       "  <thead>\n",
       "    <tr style=\"text-align: right;\">\n",
       "      <th></th>\n",
       "      <th>CustomerID</th>\n",
       "      <th>Frquency</th>\n",
       "    </tr>\n",
       "  </thead>\n",
       "  <tbody>\n",
       "    <tr>\n",
       "      <th>0</th>\n",
       "      <td>12747.0</td>\n",
       "      <td>5</td>\n",
       "    </tr>\n",
       "    <tr>\n",
       "      <th>1</th>\n",
       "      <td>12748.0</td>\n",
       "      <td>96</td>\n",
       "    </tr>\n",
       "    <tr>\n",
       "      <th>2</th>\n",
       "      <td>12749.0</td>\n",
       "      <td>3</td>\n",
       "    </tr>\n",
       "    <tr>\n",
       "      <th>3</th>\n",
       "      <td>12820.0</td>\n",
       "      <td>1</td>\n",
       "    </tr>\n",
       "    <tr>\n",
       "      <th>4</th>\n",
       "      <td>12821.0</td>\n",
       "      <td>1</td>\n",
       "    </tr>\n",
       "    <tr>\n",
       "      <th>...</th>\n",
       "      <td>...</td>\n",
       "      <td>...</td>\n",
       "    </tr>\n",
       "    <tr>\n",
       "      <th>2859</th>\n",
       "      <td>18280.0</td>\n",
       "      <td>1</td>\n",
       "    </tr>\n",
       "    <tr>\n",
       "      <th>2860</th>\n",
       "      <td>18281.0</td>\n",
       "      <td>1</td>\n",
       "    </tr>\n",
       "    <tr>\n",
       "      <th>2861</th>\n",
       "      <td>18282.0</td>\n",
       "      <td>1</td>\n",
       "    </tr>\n",
       "    <tr>\n",
       "      <th>2862</th>\n",
       "      <td>18283.0</td>\n",
       "      <td>8</td>\n",
       "    </tr>\n",
       "    <tr>\n",
       "      <th>2863</th>\n",
       "      <td>18287.0</td>\n",
       "      <td>1</td>\n",
       "    </tr>\n",
       "  </tbody>\n",
       "</table>\n",
       "<p>2864 rows × 2 columns</p>\n",
       "</div>"
      ],
      "text/plain": [
       "      CustomerID  Frquency\n",
       "0        12747.0         5\n",
       "1        12748.0        96\n",
       "2        12749.0         3\n",
       "3        12820.0         1\n",
       "4        12821.0         1\n",
       "...          ...       ...\n",
       "2859     18280.0         1\n",
       "2860     18281.0         1\n",
       "2861     18282.0         1\n",
       "2862     18283.0         8\n",
       "2863     18287.0         1\n",
       "\n",
       "[2864 rows x 2 columns]"
      ]
     },
     "execution_count": 55,
     "metadata": {},
     "output_type": "execute_result"
    }
   ],
   "source": [
    "frequency_df = data.groupby('CustomerID')['InvoiceNo'].apply(set).apply(len).reset_index()\n",
    "frequency_df.columns = ['CustomerID', 'Frquency']\n",
    "frequency_df"
   ]
  },
  {
   "cell_type": "code",
   "execution_count": null,
   "metadata": {},
   "outputs": [],
   "source": []
  },
  {
   "cell_type": "code",
   "execution_count": null,
   "metadata": {},
   "outputs": [],
   "source": []
  },
  {
   "cell_type": "code",
   "execution_count": null,
   "metadata": {},
   "outputs": [],
   "source": []
  },
  {
   "cell_type": "code",
   "execution_count": null,
   "metadata": {},
   "outputs": [],
   "source": []
  },
  {
   "cell_type": "markdown",
   "metadata": {},
   "source": [
    "### Create a new column called date which contains the date of invoice only"
   ]
  },
  {
   "cell_type": "code",
   "execution_count": null,
   "metadata": {},
   "outputs": [],
   "source": []
  },
  {
   "cell_type": "markdown",
   "metadata": {},
   "source": [
    "### Check the last date of purchase with respect to CustomerID and calculate the RECENCY"
   ]
  },
  {
   "cell_type": "code",
   "execution_count": null,
   "metadata": {},
   "outputs": [],
   "source": []
  },
  {
   "cell_type": "markdown",
   "metadata": {},
   "source": [
    "## Frequency\n",
    "Frequency helps us to know how many times a customer purchased from us. To do that we need to check how many invoices are registered by the same customer."
   ]
  },
  {
   "cell_type": "markdown",
   "metadata": {},
   "source": [
    "### Drop duplicate data from the data"
   ]
  },
  {
   "cell_type": "code",
   "execution_count": null,
   "metadata": {},
   "outputs": [],
   "source": []
  },
  {
   "cell_type": "markdown",
   "metadata": {},
   "source": [
    "### Calculate the frequency of purchases"
   ]
  },
  {
   "cell_type": "code",
   "execution_count": null,
   "metadata": {},
   "outputs": [],
   "source": []
  },
  {
   "cell_type": "markdown",
   "metadata": {},
   "source": [
    "## Monetary\n",
    "\n",
    "**Monetary attribute answers the question: How much money did the customer spent over time?**\n",
    "\n",
    "### To do that, first, we will create a new column total cost to have the total price per invoice."
   ]
  },
  {
   "cell_type": "code",
   "execution_count": 56,
   "metadata": {},
   "outputs": [
    {
     "data": {
      "text/html": [
       "<div>\n",
       "<style scoped>\n",
       "    .dataframe tbody tr th:only-of-type {\n",
       "        vertical-align: middle;\n",
       "    }\n",
       "\n",
       "    .dataframe tbody tr th {\n",
       "        vertical-align: top;\n",
       "    }\n",
       "\n",
       "    .dataframe thead th {\n",
       "        text-align: right;\n",
       "    }\n",
       "</style>\n",
       "<table border=\"1\" class=\"dataframe\">\n",
       "  <thead>\n",
       "    <tr style=\"text-align: right;\">\n",
       "      <th></th>\n",
       "      <th>InvoiceNo</th>\n",
       "      <th>StockCode</th>\n",
       "      <th>Description</th>\n",
       "      <th>Quantity</th>\n",
       "      <th>InvoiceDate</th>\n",
       "      <th>UnitPrice</th>\n",
       "      <th>CustomerID</th>\n",
       "      <th>Country</th>\n",
       "      <th>date</th>\n",
       "    </tr>\n",
       "  </thead>\n",
       "  <tbody>\n",
       "    <tr>\n",
       "      <th>0</th>\n",
       "      <td>545220</td>\n",
       "      <td>21955</td>\n",
       "      <td>DOORMAT UNION JACK GUNS AND ROSES</td>\n",
       "      <td>2</td>\n",
       "      <td>3/1/2011 8:30</td>\n",
       "      <td>7.95</td>\n",
       "      <td>14620</td>\n",
       "      <td>United Kingdom</td>\n",
       "      <td>2011-03-01</td>\n",
       "    </tr>\n",
       "    <tr>\n",
       "      <th>1</th>\n",
       "      <td>545220</td>\n",
       "      <td>48194</td>\n",
       "      <td>DOORMAT HEARTS</td>\n",
       "      <td>2</td>\n",
       "      <td>3/1/2011 8:30</td>\n",
       "      <td>7.95</td>\n",
       "      <td>14620</td>\n",
       "      <td>United Kingdom</td>\n",
       "      <td>2011-03-01</td>\n",
       "    </tr>\n",
       "    <tr>\n",
       "      <th>2</th>\n",
       "      <td>545220</td>\n",
       "      <td>22556</td>\n",
       "      <td>PLASTERS IN TIN CIRCUS PARADE</td>\n",
       "      <td>12</td>\n",
       "      <td>3/1/2011 8:30</td>\n",
       "      <td>1.65</td>\n",
       "      <td>14620</td>\n",
       "      <td>United Kingdom</td>\n",
       "      <td>2011-03-01</td>\n",
       "    </tr>\n",
       "  </tbody>\n",
       "</table>\n",
       "</div>"
      ],
      "text/plain": [
       "  InvoiceNo StockCode                        Description  Quantity  \\\n",
       "0    545220     21955  DOORMAT UNION JACK GUNS AND ROSES         2   \n",
       "1    545220     48194                     DOORMAT HEARTS         2   \n",
       "2    545220     22556     PLASTERS IN TIN CIRCUS PARADE         12   \n",
       "\n",
       "     InvoiceDate  UnitPrice CustomerID         Country        date  \n",
       "0  3/1/2011 8:30       7.95      14620  United Kingdom  2011-03-01  \n",
       "1  3/1/2011 8:30       7.95      14620  United Kingdom  2011-03-01  \n",
       "2  3/1/2011 8:30       1.65      14620  United Kingdom  2011-03-01  "
      ]
     },
     "execution_count": 56,
     "metadata": {},
     "output_type": "execute_result"
    }
   ],
   "source": [
    "data.head(3)"
   ]
  },
  {
   "cell_type": "code",
   "execution_count": 58,
   "metadata": {},
   "outputs": [
    {
     "data": {
      "text/plain": [
       "0         15.90\n",
       "1         15.90\n",
       "2         19.80\n",
       "3         14.85\n",
       "4         15.00\n",
       "          ...  \n",
       "235823    17.00\n",
       "235824    17.00\n",
       "235825    25.20\n",
       "235826    25.20\n",
       "235827    10.20\n",
       "Name: TotalCost, Length: 176137, dtype: float64"
      ]
     },
     "execution_count": 58,
     "metadata": {},
     "output_type": "execute_result"
    }
   ],
   "source": [
    "data['TotalCost'] = data['Quantity'] * data['UnitPrice']\n",
    "data['TotalCost']"
   ]
  },
  {
   "cell_type": "code",
   "execution_count": 68,
   "metadata": {},
   "outputs": [
    {
     "data": {
      "text/html": [
       "<div>\n",
       "<style scoped>\n",
       "    .dataframe tbody tr th:only-of-type {\n",
       "        vertical-align: middle;\n",
       "    }\n",
       "\n",
       "    .dataframe tbody tr th {\n",
       "        vertical-align: top;\n",
       "    }\n",
       "\n",
       "    .dataframe thead th {\n",
       "        text-align: right;\n",
       "    }\n",
       "</style>\n",
       "<table border=\"1\" class=\"dataframe\">\n",
       "  <thead>\n",
       "    <tr style=\"text-align: right;\">\n",
       "      <th></th>\n",
       "      <th>CustomerID</th>\n",
       "      <th>Monetary</th>\n",
       "    </tr>\n",
       "  </thead>\n",
       "  <tbody>\n",
       "    <tr>\n",
       "      <th>0</th>\n",
       "      <td>12747.0</td>\n",
       "      <td>1760.09</td>\n",
       "    </tr>\n",
       "    <tr>\n",
       "      <th>1</th>\n",
       "      <td>12748.0</td>\n",
       "      <td>14680.85</td>\n",
       "    </tr>\n",
       "    <tr>\n",
       "      <th>2</th>\n",
       "      <td>12749.0</td>\n",
       "      <td>2755.23</td>\n",
       "    </tr>\n",
       "    <tr>\n",
       "      <th>3</th>\n",
       "      <td>12820.0</td>\n",
       "      <td>217.77</td>\n",
       "    </tr>\n",
       "    <tr>\n",
       "      <th>4</th>\n",
       "      <td>12821.0</td>\n",
       "      <td>92.72</td>\n",
       "    </tr>\n",
       "  </tbody>\n",
       "</table>\n",
       "</div>"
      ],
      "text/plain": [
       "   CustomerID  Monetary\n",
       "0     12747.0   1760.09\n",
       "1     12748.0  14680.85\n",
       "2     12749.0   2755.23\n",
       "3     12820.0    217.77\n",
       "4     12821.0     92.72"
      ]
     },
     "execution_count": 68,
     "metadata": {},
     "output_type": "execute_result"
    }
   ],
   "source": [
    "monetary_df = data.groupby('CustomerID').agg({'TotalCost':'sum'}).reset_index()\n",
    "monetary_df.columns = ['CustomerID', 'Monetary']\n",
    "monetary_df.head()"
   ]
  },
  {
   "cell_type": "code",
   "execution_count": 70,
   "metadata": {},
   "outputs": [
    {
     "data": {
      "text/html": [
       "<div>\n",
       "<style scoped>\n",
       "    .dataframe tbody tr th:only-of-type {\n",
       "        vertical-align: middle;\n",
       "    }\n",
       "\n",
       "    .dataframe tbody tr th {\n",
       "        vertical-align: top;\n",
       "    }\n",
       "\n",
       "    .dataframe thead th {\n",
       "        text-align: right;\n",
       "    }\n",
       "</style>\n",
       "<table border=\"1\" class=\"dataframe\">\n",
       "  <thead>\n",
       "    <tr style=\"text-align: right;\">\n",
       "      <th></th>\n",
       "      <th>TotalCost</th>\n",
       "    </tr>\n",
       "    <tr>\n",
       "      <th>CustomerID</th>\n",
       "      <th></th>\n",
       "    </tr>\n",
       "  </thead>\n",
       "  <tbody>\n",
       "    <tr>\n",
       "      <th>12747.0</th>\n",
       "      <td>1760.09</td>\n",
       "    </tr>\n",
       "    <tr>\n",
       "      <th>12748.0</th>\n",
       "      <td>14680.85</td>\n",
       "    </tr>\n",
       "    <tr>\n",
       "      <th>12749.0</th>\n",
       "      <td>2755.23</td>\n",
       "    </tr>\n",
       "    <tr>\n",
       "      <th>12820.0</th>\n",
       "      <td>217.77</td>\n",
       "    </tr>\n",
       "    <tr>\n",
       "      <th>12821.0</th>\n",
       "      <td>92.72</td>\n",
       "    </tr>\n",
       "    <tr>\n",
       "      <th>...</th>\n",
       "      <td>...</td>\n",
       "    </tr>\n",
       "    <tr>\n",
       "      <th>18280.0</th>\n",
       "      <td>180.60</td>\n",
       "    </tr>\n",
       "    <tr>\n",
       "      <th>18281.0</th>\n",
       "      <td>80.82</td>\n",
       "    </tr>\n",
       "    <tr>\n",
       "      <th>18282.0</th>\n",
       "      <td>100.21</td>\n",
       "    </tr>\n",
       "    <tr>\n",
       "      <th>18283.0</th>\n",
       "      <td>802.77</td>\n",
       "    </tr>\n",
       "    <tr>\n",
       "      <th>18287.0</th>\n",
       "      <td>765.28</td>\n",
       "    </tr>\n",
       "  </tbody>\n",
       "</table>\n",
       "<p>2864 rows × 1 columns</p>\n",
       "</div>"
      ],
      "text/plain": [
       "            TotalCost\n",
       "CustomerID           \n",
       "12747.0       1760.09\n",
       "12748.0      14680.85\n",
       "12749.0       2755.23\n",
       "12820.0        217.77\n",
       "12821.0         92.72\n",
       "...               ...\n",
       "18280.0        180.60\n",
       "18281.0         80.82\n",
       "18282.0        100.21\n",
       "18283.0        802.77\n",
       "18287.0        765.28\n",
       "\n",
       "[2864 rows x 1 columns]"
      ]
     },
     "execution_count": 70,
     "metadata": {},
     "output_type": "execute_result"
    }
   ],
   "source": [
    "monetary_df = data.groupby('CustomerID').agg({'TotalCost':'sum'})\n",
    "monetary_df"
   ]
  },
  {
   "cell_type": "code",
   "execution_count": 77,
   "metadata": {},
   "outputs": [
    {
     "data": {
      "text/plain": [
       "CustomerID\n",
       "12747.0     1760.09\n",
       "12748.0    14680.85\n",
       "12749.0     2755.23\n",
       "12820.0      217.77\n",
       "12821.0       92.72\n",
       "             ...   \n",
       "18280.0      180.60\n",
       "18281.0       80.82\n",
       "18282.0      100.21\n",
       "18283.0      802.77\n",
       "18287.0      765.28\n",
       "Name: TotalCost, Length: 2864, dtype: float64"
      ]
     },
     "execution_count": 77,
     "metadata": {},
     "output_type": "execute_result"
    }
   ],
   "source": [
    "monetary_df = data.groupby('CustomerID')['TotalCost'].sum()\n",
    "monetary_df"
   ]
  },
  {
   "cell_type": "markdown",
   "metadata": {},
   "source": [
    "### Create RFM Table"
   ]
  },
  {
   "cell_type": "code",
   "execution_count": 78,
   "metadata": {},
   "outputs": [
    {
     "data": {
      "text/html": [
       "<div>\n",
       "<style scoped>\n",
       "    .dataframe tbody tr th:only-of-type {\n",
       "        vertical-align: middle;\n",
       "    }\n",
       "\n",
       "    .dataframe tbody tr th {\n",
       "        vertical-align: top;\n",
       "    }\n",
       "\n",
       "    .dataframe thead th {\n",
       "        text-align: right;\n",
       "    }\n",
       "</style>\n",
       "<table border=\"1\" class=\"dataframe\">\n",
       "  <thead>\n",
       "    <tr style=\"text-align: right;\">\n",
       "      <th></th>\n",
       "      <th>CustomerID</th>\n",
       "      <th>LastPurcDate</th>\n",
       "      <th>Frquency</th>\n",
       "    </tr>\n",
       "  </thead>\n",
       "  <tbody>\n",
       "    <tr>\n",
       "      <th>0</th>\n",
       "      <td>12747.0</td>\n",
       "      <td>2011-08-22</td>\n",
       "      <td>5</td>\n",
       "    </tr>\n",
       "    <tr>\n",
       "      <th>1</th>\n",
       "      <td>12748.0</td>\n",
       "      <td>2011-09-30</td>\n",
       "      <td>96</td>\n",
       "    </tr>\n",
       "    <tr>\n",
       "      <th>2</th>\n",
       "      <td>12749.0</td>\n",
       "      <td>2011-08-01</td>\n",
       "      <td>3</td>\n",
       "    </tr>\n",
       "    <tr>\n",
       "      <th>3</th>\n",
       "      <td>12820.0</td>\n",
       "      <td>2011-09-26</td>\n",
       "      <td>1</td>\n",
       "    </tr>\n",
       "    <tr>\n",
       "      <th>4</th>\n",
       "      <td>12821.0</td>\n",
       "      <td>2011-05-09</td>\n",
       "      <td>1</td>\n",
       "    </tr>\n",
       "  </tbody>\n",
       "</table>\n",
       "</div>"
      ],
      "text/plain": [
       "   CustomerID LastPurcDate  Frquency\n",
       "0     12747.0   2011-08-22         5\n",
       "1     12748.0   2011-09-30        96\n",
       "2     12749.0   2011-08-01         3\n",
       "3     12820.0   2011-09-26         1\n",
       "4     12821.0   2011-05-09         1"
      ]
     },
     "execution_count": 78,
     "metadata": {},
     "output_type": "execute_result"
    }
   ],
   "source": [
    "temp_df = recency_df.merge(frequency_df, on='CustomerID')\n",
    "temp_df.head()"
   ]
  },
  {
   "cell_type": "code",
   "execution_count": null,
   "metadata": {},
   "outputs": [],
   "source": []
  },
  {
   "cell_type": "code",
   "execution_count": null,
   "metadata": {},
   "outputs": [],
   "source": []
  },
  {
   "cell_type": "code",
   "execution_count": null,
   "metadata": {},
   "outputs": [],
   "source": []
  },
  {
   "cell_type": "markdown",
   "metadata": {},
   "source": [
    "## Customer segments with RFM Model\n",
    "\n",
    "**The simplest way to create customers segments from RFM Model is to use Quartiles. We assign a score from 1 to 4 to Recency, Frequency and Monetary. Four is the best/highest value, and one is the lowest/worst value. A final RFM score is calculated simply by combining individual RFM score numbers.**\n",
    "\n",
    "Note: Quintiles (score from 1-5) offer better granularity, in case the business needs that but it will be more challenging to create segments since we will have 555 possible combinations. So, we will use quartiles."
   ]
  },
  {
   "cell_type": "markdown",
   "metadata": {},
   "source": [
    "### Find RFM quartiles"
   ]
  },
  {
   "cell_type": "markdown",
   "metadata": {},
   "source": [
    "## Creation of RFM Segments\n",
    "\n",
    "We will create two segmentation classes since, high recency is bad, while high frequency and monetary value is good.\n",
    "\n"
   ]
  },
  {
   "cell_type": "markdown",
   "metadata": {},
   "source": [
    "### Create functions as per the appropriate quaritle values and apply them to create segments"
   ]
  },
  {
   "cell_type": "code",
   "execution_count": null,
   "metadata": {},
   "outputs": [],
   "source": []
  },
  {
   "cell_type": "markdown",
   "metadata": {},
   "source": [
    "### Now that we have the score of each customer, we can represent our customer segmentation, combine the scores (R_Quartile, F_Quartile,M_Quartile) together."
   ]
  },
  {
   "cell_type": "code",
   "execution_count": null,
   "metadata": {},
   "outputs": [],
   "source": []
  },
  {
   "cell_type": "markdown",
   "metadata": {},
   "source": [
    "### FInd out the best customers"
   ]
  },
  {
   "cell_type": "code",
   "execution_count": null,
   "metadata": {},
   "outputs": [],
   "source": []
  },
  {
   "cell_type": "markdown",
   "metadata": {},
   "source": [
    "## Learner Activity\n",
    "\n",
    "**1. Find the following:**\n",
    "1. Best Customer\n",
    "\n",
    "2. Loyal Customer\n",
    "\n",
    "3. Big Spenders\n",
    "\n",
    "4. Almost lost customers\n",
    "\n",
    "5. Lost customers\n",
    "\n",
    "**2. Now that we know our customers segments, how will you target them?**"
   ]
  },
  {
   "cell_type": "code",
   "execution_count": null,
   "metadata": {},
   "outputs": [],
   "source": []
  },
  {
   "cell_type": "code",
   "execution_count": null,
   "metadata": {},
   "outputs": [],
   "source": []
  },
  {
   "cell_type": "code",
   "execution_count": null,
   "metadata": {},
   "outputs": [],
   "source": []
  },
  {
   "cell_type": "code",
   "execution_count": null,
   "metadata": {},
   "outputs": [],
   "source": []
  }
 ],
 "metadata": {
  "kernelspec": {
   "display_name": "Python 3",
   "language": "python",
   "name": "python3"
  },
  "language_info": {
   "codemirror_mode": {
    "name": "ipython",
    "version": 3
   },
   "file_extension": ".py",
   "mimetype": "text/x-python",
   "name": "python",
   "nbconvert_exporter": "python",
   "pygments_lexer": "ipython3",
   "version": "3.8.5"
  }
 },
 "nbformat": 4,
 "nbformat_minor": 4
}
